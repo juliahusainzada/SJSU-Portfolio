{
  "nbformat": 4,
  "nbformat_minor": 0,
  "metadata": {
    "colab": {
      "provenance": [],
      "collapsed_sections": [
        "sqcJWZTP-zvE",
        "N73OS1I2cGMX",
        "wA1mFUeOhZbh",
        "el03xItnj66M",
        "g6KOUwkEkM1u",
        "tILE7lAOloE1",
        "beqvna4Kr4tR",
        "bbIUsRn4B_kW"
      ]
    },
    "kernelspec": {
      "name": "python3",
      "display_name": "Python 3"
    },
    "language_info": {
      "name": "python"
    }
  },
  "cells": [
    {
      "cell_type": "markdown",
      "source": [
        "#**Comparative Analysis of Demographics and Usage for Fitness for Everyone Treadmill Products**\n",
        "\n",
        "###Google Colab Notebook: **Julia Husainzada, Shannon Lo, Huy Mai**\n",
        "\n",
        "Question:\n",
        "*   Is there a significant difference in the average self-rated fitness scores across three Treadmill products: **FE285**, **FE580**, and **FE605**, while considering age as a potential factor influencing these scores?\n",
        "*   Is there a relationship between the average number of miles the customer expects to walk/run each week and the customer’s age across the three Treadmill products: **FE285**, **FE580**, and **FE605**?\n",
        "\n",
        "Objectives:\n",
        "\n",
        "1. Conduct separate one-way ANOVA tests for **FE285**, **FE580**, and **FE605** to account for age as a potential lurking variable on self-rated fitness scores for each treadmill product\n",
        "* Conduct an ANOVA test to compare the overall averages of self-rated fitness scores across all three products\n",
        "* Ultimately, we aim to identify products with higher fitness scores, indicating potential advantages and differences that distinguish them from other treadmills.\n",
        "\n",
        "ANOVA tests were chosen to compare mean self-rated fitness scores across age groups within each treadmill product (FE285, FE580, FE605). This method helps detect if age influences scores differently for each product and allows for an overall comparison of average scores among the three treadmill models.\n",
        "\n",
        "\n",
        "2.   Create seperate scatter plots for the **FE285**, **FE580**, and **FE605** using Seaborn to determine of there is a relationship between the miles the costumer expects to walk/run and the age of the customers\n",
        "*  Visualize a Line of Best Fit for the seperate scatter plots of each product\n",
        "*  Conduct a test to determine the Pearson's Correlation Coefficient and p-values of these scatter plots\n",
        "\n"
      ],
      "metadata": {
        "id": "md8C6LoGW3mw"
      }
    },
    {
      "cell_type": "code",
      "execution_count": null,
      "metadata": {
        "colab": {
          "base_uri": "https://localhost:8080/"
        },
        "outputId": "189f8214-b78d-45d6-b430-e9740dcb1e62",
        "id": "sELvzKa9W3mx"
      },
      "outputs": [
        {
          "output_type": "execute_result",
          "data": {
            "text/plain": [
              "    Product  Age  Gender  Education MaritalStatus  Usage  Fitness  Income  \\\n",
              "0     FE284   18    Male         14        Single      3        4   29562   \n",
              "1     FE284   19    Male         15        Single      2        3   31836   \n",
              "2     FE284   19  Female         14     Partnered      4        3   30699   \n",
              "3     FE284   19    Male         12        Single      3        3   32973   \n",
              "4     FE284   20    Male         13     Partnered      4        2   35247   \n",
              "..      ...  ...     ...        ...           ...    ...      ...     ...   \n",
              "175   FE605   40    Male         21        Single      6        5   83416   \n",
              "176   FE605   42    Male         18        Single      5        4   89641   \n",
              "177   FE605   45    Male         16        Single      5        5   90886   \n",
              "178   FE605   47    Male         18     Partnered      4        5  104581   \n",
              "179   FE605   48    Male         18     Partnered      4        5   95508   \n",
              "\n",
              "     Miles  \n",
              "0      112  \n",
              "1       75  \n",
              "2       66  \n",
              "3       85  \n",
              "4       47  \n",
              "..     ...  \n",
              "175    200  \n",
              "176    200  \n",
              "177    160  \n",
              "178    120  \n",
              "179    180  \n",
              "\n",
              "[180 rows x 9 columns]"
            ],
            "text/html": [
              "\n",
              "  <div id=\"df-8d99a998-af9e-4ff8-9f15-3d358d93387c\" class=\"colab-df-container\">\n",
              "    <div>\n",
              "<style scoped>\n",
              "    .dataframe tbody tr th:only-of-type {\n",
              "        vertical-align: middle;\n",
              "    }\n",
              "\n",
              "    .dataframe tbody tr th {\n",
              "        vertical-align: top;\n",
              "    }\n",
              "\n",
              "    .dataframe thead th {\n",
              "        text-align: right;\n",
              "    }\n",
              "</style>\n",
              "<table border=\"1\" class=\"dataframe\">\n",
              "  <thead>\n",
              "    <tr style=\"text-align: right;\">\n",
              "      <th></th>\n",
              "      <th>Product</th>\n",
              "      <th>Age</th>\n",
              "      <th>Gender</th>\n",
              "      <th>Education</th>\n",
              "      <th>MaritalStatus</th>\n",
              "      <th>Usage</th>\n",
              "      <th>Fitness</th>\n",
              "      <th>Income</th>\n",
              "      <th>Miles</th>\n",
              "    </tr>\n",
              "  </thead>\n",
              "  <tbody>\n",
              "    <tr>\n",
              "      <th>0</th>\n",
              "      <td>FE284</td>\n",
              "      <td>18</td>\n",
              "      <td>Male</td>\n",
              "      <td>14</td>\n",
              "      <td>Single</td>\n",
              "      <td>3</td>\n",
              "      <td>4</td>\n",
              "      <td>29562</td>\n",
              "      <td>112</td>\n",
              "    </tr>\n",
              "    <tr>\n",
              "      <th>1</th>\n",
              "      <td>FE284</td>\n",
              "      <td>19</td>\n",
              "      <td>Male</td>\n",
              "      <td>15</td>\n",
              "      <td>Single</td>\n",
              "      <td>2</td>\n",
              "      <td>3</td>\n",
              "      <td>31836</td>\n",
              "      <td>75</td>\n",
              "    </tr>\n",
              "    <tr>\n",
              "      <th>2</th>\n",
              "      <td>FE284</td>\n",
              "      <td>19</td>\n",
              "      <td>Female</td>\n",
              "      <td>14</td>\n",
              "      <td>Partnered</td>\n",
              "      <td>4</td>\n",
              "      <td>3</td>\n",
              "      <td>30699</td>\n",
              "      <td>66</td>\n",
              "    </tr>\n",
              "    <tr>\n",
              "      <th>3</th>\n",
              "      <td>FE284</td>\n",
              "      <td>19</td>\n",
              "      <td>Male</td>\n",
              "      <td>12</td>\n",
              "      <td>Single</td>\n",
              "      <td>3</td>\n",
              "      <td>3</td>\n",
              "      <td>32973</td>\n",
              "      <td>85</td>\n",
              "    </tr>\n",
              "    <tr>\n",
              "      <th>4</th>\n",
              "      <td>FE284</td>\n",
              "      <td>20</td>\n",
              "      <td>Male</td>\n",
              "      <td>13</td>\n",
              "      <td>Partnered</td>\n",
              "      <td>4</td>\n",
              "      <td>2</td>\n",
              "      <td>35247</td>\n",
              "      <td>47</td>\n",
              "    </tr>\n",
              "    <tr>\n",
              "      <th>...</th>\n",
              "      <td>...</td>\n",
              "      <td>...</td>\n",
              "      <td>...</td>\n",
              "      <td>...</td>\n",
              "      <td>...</td>\n",
              "      <td>...</td>\n",
              "      <td>...</td>\n",
              "      <td>...</td>\n",
              "      <td>...</td>\n",
              "    </tr>\n",
              "    <tr>\n",
              "      <th>175</th>\n",
              "      <td>FE605</td>\n",
              "      <td>40</td>\n",
              "      <td>Male</td>\n",
              "      <td>21</td>\n",
              "      <td>Single</td>\n",
              "      <td>6</td>\n",
              "      <td>5</td>\n",
              "      <td>83416</td>\n",
              "      <td>200</td>\n",
              "    </tr>\n",
              "    <tr>\n",
              "      <th>176</th>\n",
              "      <td>FE605</td>\n",
              "      <td>42</td>\n",
              "      <td>Male</td>\n",
              "      <td>18</td>\n",
              "      <td>Single</td>\n",
              "      <td>5</td>\n",
              "      <td>4</td>\n",
              "      <td>89641</td>\n",
              "      <td>200</td>\n",
              "    </tr>\n",
              "    <tr>\n",
              "      <th>177</th>\n",
              "      <td>FE605</td>\n",
              "      <td>45</td>\n",
              "      <td>Male</td>\n",
              "      <td>16</td>\n",
              "      <td>Single</td>\n",
              "      <td>5</td>\n",
              "      <td>5</td>\n",
              "      <td>90886</td>\n",
              "      <td>160</td>\n",
              "    </tr>\n",
              "    <tr>\n",
              "      <th>178</th>\n",
              "      <td>FE605</td>\n",
              "      <td>47</td>\n",
              "      <td>Male</td>\n",
              "      <td>18</td>\n",
              "      <td>Partnered</td>\n",
              "      <td>4</td>\n",
              "      <td>5</td>\n",
              "      <td>104581</td>\n",
              "      <td>120</td>\n",
              "    </tr>\n",
              "    <tr>\n",
              "      <th>179</th>\n",
              "      <td>FE605</td>\n",
              "      <td>48</td>\n",
              "      <td>Male</td>\n",
              "      <td>18</td>\n",
              "      <td>Partnered</td>\n",
              "      <td>4</td>\n",
              "      <td>5</td>\n",
              "      <td>95508</td>\n",
              "      <td>180</td>\n",
              "    </tr>\n",
              "  </tbody>\n",
              "</table>\n",
              "<p>180 rows × 9 columns</p>\n",
              "</div>\n",
              "    <div class=\"colab-df-buttons\">\n",
              "\n",
              "  <div class=\"colab-df-container\">\n",
              "    <button class=\"colab-df-convert\" onclick=\"convertToInteractive('df-8d99a998-af9e-4ff8-9f15-3d358d93387c')\"\n",
              "            title=\"Convert this dataframe to an interactive table.\"\n",
              "            style=\"display:none;\">\n",
              "\n",
              "  <svg xmlns=\"http://www.w3.org/2000/svg\" height=\"24px\" viewBox=\"0 -960 960 960\">\n",
              "    <path d=\"M120-120v-720h720v720H120Zm60-500h600v-160H180v160Zm220 220h160v-160H400v160Zm0 220h160v-160H400v160ZM180-400h160v-160H180v160Zm440 0h160v-160H620v160ZM180-180h160v-160H180v160Zm440 0h160v-160H620v160Z\"/>\n",
              "  </svg>\n",
              "    </button>\n",
              "\n",
              "  <style>\n",
              "    .colab-df-container {\n",
              "      display:flex;\n",
              "      gap: 12px;\n",
              "    }\n",
              "\n",
              "    .colab-df-convert {\n",
              "      background-color: #E8F0FE;\n",
              "      border: none;\n",
              "      border-radius: 50%;\n",
              "      cursor: pointer;\n",
              "      display: none;\n",
              "      fill: #1967D2;\n",
              "      height: 32px;\n",
              "      padding: 0 0 0 0;\n",
              "      width: 32px;\n",
              "    }\n",
              "\n",
              "    .colab-df-convert:hover {\n",
              "      background-color: #E2EBFA;\n",
              "      box-shadow: 0px 1px 2px rgba(60, 64, 67, 0.3), 0px 1px 3px 1px rgba(60, 64, 67, 0.15);\n",
              "      fill: #174EA6;\n",
              "    }\n",
              "\n",
              "    .colab-df-buttons div {\n",
              "      margin-bottom: 4px;\n",
              "    }\n",
              "\n",
              "    [theme=dark] .colab-df-convert {\n",
              "      background-color: #3B4455;\n",
              "      fill: #D2E3FC;\n",
              "    }\n",
              "\n",
              "    [theme=dark] .colab-df-convert:hover {\n",
              "      background-color: #434B5C;\n",
              "      box-shadow: 0px 1px 3px 1px rgba(0, 0, 0, 0.15);\n",
              "      filter: drop-shadow(0px 1px 2px rgba(0, 0, 0, 0.3));\n",
              "      fill: #FFFFFF;\n",
              "    }\n",
              "  </style>\n",
              "\n",
              "    <script>\n",
              "      const buttonEl =\n",
              "        document.querySelector('#df-8d99a998-af9e-4ff8-9f15-3d358d93387c button.colab-df-convert');\n",
              "      buttonEl.style.display =\n",
              "        google.colab.kernel.accessAllowed ? 'block' : 'none';\n",
              "\n",
              "      async function convertToInteractive(key) {\n",
              "        const element = document.querySelector('#df-8d99a998-af9e-4ff8-9f15-3d358d93387c');\n",
              "        const dataTable =\n",
              "          await google.colab.kernel.invokeFunction('convertToInteractive',\n",
              "                                                    [key], {});\n",
              "        if (!dataTable) return;\n",
              "\n",
              "        const docLinkHtml = 'Like what you see? Visit the ' +\n",
              "          '<a target=\"_blank\" href=https://colab.research.google.com/notebooks/data_table.ipynb>data table notebook</a>'\n",
              "          + ' to learn more about interactive tables.';\n",
              "        element.innerHTML = '';\n",
              "        dataTable['output_type'] = 'display_data';\n",
              "        await google.colab.output.renderOutput(dataTable, element);\n",
              "        const docLink = document.createElement('div');\n",
              "        docLink.innerHTML = docLinkHtml;\n",
              "        element.appendChild(docLink);\n",
              "      }\n",
              "    </script>\n",
              "  </div>\n",
              "\n",
              "\n",
              "<div id=\"df-26ce0aaa-1ef4-4eb8-8bac-b1fd065ea34a\">\n",
              "  <button class=\"colab-df-quickchart\" onclick=\"quickchart('df-26ce0aaa-1ef4-4eb8-8bac-b1fd065ea34a')\"\n",
              "            title=\"Suggest charts\"\n",
              "            style=\"display:none;\">\n",
              "\n",
              "<svg xmlns=\"http://www.w3.org/2000/svg\" height=\"24px\"viewBox=\"0 0 24 24\"\n",
              "     width=\"24px\">\n",
              "    <g>\n",
              "        <path d=\"M19 3H5c-1.1 0-2 .9-2 2v14c0 1.1.9 2 2 2h14c1.1 0 2-.9 2-2V5c0-1.1-.9-2-2-2zM9 17H7v-7h2v7zm4 0h-2V7h2v10zm4 0h-2v-4h2v4z\"/>\n",
              "    </g>\n",
              "</svg>\n",
              "  </button>\n",
              "\n",
              "<style>\n",
              "  .colab-df-quickchart {\n",
              "      --bg-color: #E8F0FE;\n",
              "      --fill-color: #1967D2;\n",
              "      --hover-bg-color: #E2EBFA;\n",
              "      --hover-fill-color: #174EA6;\n",
              "      --disabled-fill-color: #AAA;\n",
              "      --disabled-bg-color: #DDD;\n",
              "  }\n",
              "\n",
              "  [theme=dark] .colab-df-quickchart {\n",
              "      --bg-color: #3B4455;\n",
              "      --fill-color: #D2E3FC;\n",
              "      --hover-bg-color: #434B5C;\n",
              "      --hover-fill-color: #FFFFFF;\n",
              "      --disabled-bg-color: #3B4455;\n",
              "      --disabled-fill-color: #666;\n",
              "  }\n",
              "\n",
              "  .colab-df-quickchart {\n",
              "    background-color: var(--bg-color);\n",
              "    border: none;\n",
              "    border-radius: 50%;\n",
              "    cursor: pointer;\n",
              "    display: none;\n",
              "    fill: var(--fill-color);\n",
              "    height: 32px;\n",
              "    padding: 0;\n",
              "    width: 32px;\n",
              "  }\n",
              "\n",
              "  .colab-df-quickchart:hover {\n",
              "    background-color: var(--hover-bg-color);\n",
              "    box-shadow: 0 1px 2px rgba(60, 64, 67, 0.3), 0 1px 3px 1px rgba(60, 64, 67, 0.15);\n",
              "    fill: var(--button-hover-fill-color);\n",
              "  }\n",
              "\n",
              "  .colab-df-quickchart-complete:disabled,\n",
              "  .colab-df-quickchart-complete:disabled:hover {\n",
              "    background-color: var(--disabled-bg-color);\n",
              "    fill: var(--disabled-fill-color);\n",
              "    box-shadow: none;\n",
              "  }\n",
              "\n",
              "  .colab-df-spinner {\n",
              "    border: 2px solid var(--fill-color);\n",
              "    border-color: transparent;\n",
              "    border-bottom-color: var(--fill-color);\n",
              "    animation:\n",
              "      spin 1s steps(1) infinite;\n",
              "  }\n",
              "\n",
              "  @keyframes spin {\n",
              "    0% {\n",
              "      border-color: transparent;\n",
              "      border-bottom-color: var(--fill-color);\n",
              "      border-left-color: var(--fill-color);\n",
              "    }\n",
              "    20% {\n",
              "      border-color: transparent;\n",
              "      border-left-color: var(--fill-color);\n",
              "      border-top-color: var(--fill-color);\n",
              "    }\n",
              "    30% {\n",
              "      border-color: transparent;\n",
              "      border-left-color: var(--fill-color);\n",
              "      border-top-color: var(--fill-color);\n",
              "      border-right-color: var(--fill-color);\n",
              "    }\n",
              "    40% {\n",
              "      border-color: transparent;\n",
              "      border-right-color: var(--fill-color);\n",
              "      border-top-color: var(--fill-color);\n",
              "    }\n",
              "    60% {\n",
              "      border-color: transparent;\n",
              "      border-right-color: var(--fill-color);\n",
              "    }\n",
              "    80% {\n",
              "      border-color: transparent;\n",
              "      border-right-color: var(--fill-color);\n",
              "      border-bottom-color: var(--fill-color);\n",
              "    }\n",
              "    90% {\n",
              "      border-color: transparent;\n",
              "      border-bottom-color: var(--fill-color);\n",
              "    }\n",
              "  }\n",
              "</style>\n",
              "\n",
              "  <script>\n",
              "    async function quickchart(key) {\n",
              "      const quickchartButtonEl =\n",
              "        document.querySelector('#' + key + ' button');\n",
              "      quickchartButtonEl.disabled = true;  // To prevent multiple clicks.\n",
              "      quickchartButtonEl.classList.add('colab-df-spinner');\n",
              "      try {\n",
              "        const charts = await google.colab.kernel.invokeFunction(\n",
              "            'suggestCharts', [key], {});\n",
              "      } catch (error) {\n",
              "        console.error('Error during call to suggestCharts:', error);\n",
              "      }\n",
              "      quickchartButtonEl.classList.remove('colab-df-spinner');\n",
              "      quickchartButtonEl.classList.add('colab-df-quickchart-complete');\n",
              "    }\n",
              "    (() => {\n",
              "      let quickchartButtonEl =\n",
              "        document.querySelector('#df-26ce0aaa-1ef4-4eb8-8bac-b1fd065ea34a button');\n",
              "      quickchartButtonEl.style.display =\n",
              "        google.colab.kernel.accessAllowed ? 'block' : 'none';\n",
              "    })();\n",
              "  </script>\n",
              "</div>\n",
              "    </div>\n",
              "  </div>\n"
            ]
          },
          "metadata": {},
          "execution_count": 2
        }
      ],
      "source": [
        "import pandas as pd\n",
        "import matplotlib.pyplot as plt\n",
        "import numpy as np\n",
        "import seaborn as sns\n",
        "from scipy import stats\n",
        "\n",
        "\n",
        "# Load the Dataset\n",
        "data_url = 'https://raw.githubusercontent.com/csbfx/cs22a/main/fitness.csv'\n",
        "\n",
        "fitness_df = pd.read_csv(data_url)\n",
        "fitness_df"
      ]
    },
    {
      "cell_type": "markdown",
      "source": [
        "# Introduction\n",
        "\n",
        "Is there a significant difference in the average self-rated fitness scores across three Treadmill products: FE284, FE580, and FE605, while considering age as a potential factor influencing these scores?\n",
        "\n",
        "By determining the answer to this question, three main insights can be evaluated: product performance, market segmentation, and decision-making. Product performance can be assessed through the fitness efficacy of specific treadmill models. Higher or lower self-rated scores might indicate different levels of satisfaction of the respective treadmill product. Additionally, identifying differences in scores among different age groups can segment the market based on preferences. For example, a certain treadmill model may be more likable or effective among specific age demographics. Lastly, if differences in scores exist, areas for improvement in certain treadmill models may be highlighted. This data can guide product development and marketing strategies to better meet customer expectations.\n"
      ],
      "metadata": {
        "id": "dDGd83Ug87po"
      }
    },
    {
      "cell_type": "markdown",
      "source": [
        "# Data\n",
        "\n",
        "Our data was collected on individuals who purchased a treadmill at a Fitness for Everyone retail store during the prior three months. In order to evaluate our question, we pulled data from each product (FE284, FE580, FE605) and filtered it by age to analyze whether there is a significant difference in self-rated fitness scores across the treadmill products when considering age groups. We segregated the data according to the treadmill model to directly compare how fitness scores vary among specific products. Additionally, segmenting participants into different age groups (18-25, 26-35, 36-50) can convey how age can influence perceptions of fitness efficacy, potentially revealing preferences among various age groups.\n",
        "\n",
        "| Product\t| 18 - 25 years old | 26 - 35 years old | 36 - 50 years old | Total\n",
        "|:--------|:------------------|:------------------|:-----------------|:-----|\n",
        "| FE284           | 34 | 32 | 14 | 80 |\n",
        "| FE580           | 28 | 24 | 8  | 60 |\n",
        "| FE605           | 17 | 17 | 6  | 40 |\n"
      ],
      "metadata": {
        "id": "2q6tTp-n9Q3a"
      }
    },
    {
      "cell_type": "markdown",
      "source": [
        "# Methods: Part A\n",
        "\n",
        "To account for age as a potential lurking variable on self-rated fitness scores for each treadmill product, we conducted separate one-way ANOVA tests for FE284, FE580, and FE605 using Google Colab notebook. Participants were divided into three age groups (18-25, 26-35, 36-50) to facilitate comparisons within each group. The null hypothesis assumes that there is no significant difference between fitness score rating among each age group for each treadmill product. The alternative hypothesis suggests that at least one age group’s fitness score rating is significantly different from others within a specific treadmill product. These hypothesis will be specific to each product during the testing.\n",
        "\n",
        "#### **Null hypothesis:**\n",
        "The null hypothesis assumes that there is no significant difference between fitness score rating among each age group for the treadmill products.\n",
        "\n",
        "> $H_o$: $\\mu_1$ = $\\mu_2$ = $\\mu_3$\n",
        "\n",
        "Where:  \n",
        "* $\\mu_1$ = average fitness score rating among age group 18-25 for treadmill product\n",
        "* $\\mu_2$ = average fitness score rating among age group 26-35 for treadmill product\n",
        "* $\\mu_3$ = average fitness score rating among age group 36-50 for treadmill product\n",
        "\n",
        "#### **Alternative hypothesis:**\n",
        "\n",
        "> $H_A$:  At least one age group’s fitness score rating is significantly different from others within a specific treadmill product.\n",
        "\n"
      ],
      "metadata": {
        "id": "sqcJWZTP-zvE"
      }
    },
    {
      "cell_type": "markdown",
      "source": [
        "***A description of our steps:***\n",
        "\n",
        "1. Calculate the **mean** self-rated fitness scores of each age group for a treadmill product and **grand mean**\n",
        "2. Find the **sum of squares** for between groups using each sample mean and grand mean\n",
        "3. Find the **sum of squares** for within groups using the data points and sample mean\n",
        "4. Find the **degrees of freedom** between groups and degrees of freedom within groups\n",
        "5. Find the **mean square** for between and mean square for within\n",
        "6. Find the **F-statistic**\n",
        "7. Find the **F-critical value** using the F-table with an 𝛼 level of 0.05\n",
        "8. Compare F-statistic with F-critical value to **reject or retain** the null hypothesis\n",
        "9. Repeat for each treadmill product\n"
      ],
      "metadata": {
        "id": "klQ7FPVj_Kjr"
      }
    },
    {
      "cell_type": "markdown",
      "source": [
        "# Results:"
      ],
      "metadata": {
        "id": "awlKe7K7ADRU"
      }
    },
    {
      "cell_type": "markdown",
      "source": [
        "\n",
        "# Conduct one-way ANOVA test for **FE285** to account for age as a potential lurking variable on self-rated fitness scores for each treadmill product\n",
        "\n",
        "Participants divided into three age groups to facilitate comparisons within each group\n",
        "* 18-25 years old\n",
        "* 26-35 years old\n",
        "* 36-50 years old\n",
        "\n",
        "Our group decided to separate the age groups into these categories, as the individuals in each range of years are likely to have somewhat similar physical capacities, lifestyles, and potentially comparable fitness levels.\n",
        "\n",
        "#### **Null hypothesis:**\n",
        "The null hypothesis assumes that there is no significant difference between fitness score rating among each age group for treadmill product FE285.\n",
        "\n",
        "> $H_o$: $\\mu_1$ = $\\mu_2$ = $\\mu_3$\n",
        "\n",
        "Where:  \n",
        "* $\\mu_1$ = average fitness score rating among age group 18-25 for treadmill product FE285\n",
        "* $\\mu_2$ = average fitness score rating among age group 26-35 for treadmill product FE285\n",
        "* $\\mu_3$ = average fitness score rating among age group 36-50 for treadmill product FE285\n",
        "\n",
        "#### **Alternative hypothesis:**\n",
        "\n",
        "> $H_A$:  At least one age group’s fitness score rating is significantly different from others within a specific treadmill product.\n",
        "\n",
        "\n",
        "\n",
        "\n",
        "\n"
      ],
      "metadata": {
        "id": "N73OS1I2cGMX"
      }
    },
    {
      "cell_type": "markdown",
      "source": [
        "###**Step 1:** Calculate the mean self-rated fitness scores of each age group for a treadmill product and grand mean\n",
        "\n"
      ],
      "metadata": {
        "id": "C24hzDxZd42w"
      }
    },
    {
      "cell_type": "code",
      "source": [
        "# Filter data for different age groups\n",
        "\n",
        "#a_one takes data from fitness_df where product is FE284 and first age group (between 18-25 years old inclusive)\n",
        "a_one = fitness_df[(fitness_df.Product == 'FE284') & (fitness_df.Age.between(18, 25))]\n",
        "\n",
        "#a_one takes data from fitness_df that's product is FE284 and is second age group (between 26-35 years old inclusive)\n",
        "a_two = fitness_df[(fitness_df.Product == 'FE284') & (fitness_df.Age.between(26, 35))]\n",
        "\n",
        "#a_one takes data from fitness_df that's product is FE284 and is second age group (between 36-50 years old inclusive)\n",
        "a_three = fitness_df[(fitness_df.Product == 'FE284') & (fitness_df.Age.between(36, 50))]\n",
        "\n",
        "#Calculate mean fitness score for each age group\n",
        "a_one_avg = a_one['Fitness'].mean()\n",
        "a_two_avg = a_two['Fitness'].mean()\n",
        "a_three_avg = a_three['Fitness'].mean()"
      ],
      "metadata": {
        "id": "fT0n-gULcYbn"
      },
      "execution_count": null,
      "outputs": []
    },
    {
      "cell_type": "markdown",
      "source": [
        "To simplify and minimize the use of words and time, each variable is represented by a number and letter:\n",
        "\n",
        "* \"a\" represents the first product being tested - FE284\n",
        "* \"one\" represents the first age group (18 - 25 years old)\n",
        "* \"two\" represents the second age group (26 - 35 years old)\n",
        "* \"three\" represents the third age group (26 - 50 years old)\n",
        "\n",
        "These representations make it easier to handle and comprehend the code."
      ],
      "metadata": {
        "id": "PjJkJ3jKnfDZ"
      }
    },
    {
      "cell_type": "code",
      "source": [
        "#Test to see if each data frame has the same number of values\n",
        "same_a = a_one['Fitness'].count() == a_two['Fitness'].count() == a_three['Fitness'].count()\n",
        "\n",
        "if same_a:\n",
        "  print('Sample sizes are the same')\n",
        "else:\n",
        "  print('Sample sizes are different')"
      ],
      "metadata": {
        "colab": {
          "base_uri": "https://localhost:8080/"
        },
        "id": "0liSUSZCcqkA",
        "outputId": "0acdf6ec-42d4-4cc9-a3c7-76d1ee6ceb43"
      },
      "execution_count": null,
      "outputs": [
        {
          "output_type": "stream",
          "name": "stdout",
          "text": [
            "Sample sizes are different\n"
          ]
        }
      ]
    },
    {
      "cell_type": "markdown",
      "source": [
        "This code compares the counts of 'Fitness' values in three different data frames (a_one, a_two, a_three) representing different age groups for the product FE284.\n",
        "\n",
        "The variable 'same_a' stores the result of the comparison, checking if the counts of 'Fitness' values are equal across all three age groups.\n",
        "\n",
        "The comparison allows us to determine which formula to use in order to calculate the grand mean. Since the three groups have different sample sizes, we will calculate the grand mean as demonstrated in the formula:\n",
        "\n",
        "![Screenshot 2023-11-28 at 12.39.55 PM.png](data:image/png;base64,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)"
      ],
      "metadata": {
        "id": "AjZ6RFAspBKD"
      }
    },
    {
      "cell_type": "code",
      "source": [
        "#Calculate the grand mean, considering groups have different number of values\n",
        "\n",
        "#Define variables that stores number of values in a_one data frame and sum of all values\n",
        "sum_a_one = a_one['Fitness'].sum()\n",
        "count_a_one = a_one['Fitness'].count()\n",
        "\n",
        "#Define variables that stores number of values in a_two data frame and sum of all values\n",
        "sum_a_two = a_two['Fitness'].sum()\n",
        "count_a_two = a_two['Fitness'].count()\n",
        "\n",
        "#Define variables that stores number of values in a_three data frame and sum of all values\n",
        "sum_a_three = a_three['Fitness'].sum()\n",
        "count_a_three = a_three['Fitness'].count()\n",
        "\n",
        "#Calculate grand mean\n",
        "grand_mean_a = (sum_a_one + sum_a_two + sum_a_three) / (count_a_one + count_a_two + count_a_three)\n",
        "\n",
        "print(grand_mean_a)"
      ],
      "metadata": {
        "colab": {
          "base_uri": "https://localhost:8080/"
        },
        "id": "tZZVjDx9cLzE",
        "outputId": "03472b3e-ea67-47f2-ec57-0365af510728"
      },
      "execution_count": null,
      "outputs": [
        {
          "output_type": "stream",
          "name": "stdout",
          "text": [
            "2.9625\n"
          ]
        }
      ]
    },
    {
      "cell_type": "markdown",
      "source": [
        "The variable naming convention like 'sum_a_one' and 'count_a_one' organizes sums and counts of fitness values within each age group for product 'a' (FE284). This naming scheme simplifies distinction between groups, helping calculate the grand mean.\n"
      ],
      "metadata": {
        "id": "PotidGlWuB06"
      }
    },
    {
      "cell_type": "markdown",
      "source": [
        "###**Step 2:**  Find the sum of squares for between groups ($SS_{between}$) using each sample mean and the grand mean"
      ],
      "metadata": {
        "id": "YC6-b0GWfY_9"
      }
    },
    {
      "cell_type": "code",
      "source": [
        "ss_between_a = (a_one['Fitness'].count() * ((a_one_avg - grand_mean_a)**2)) + (a_two['Fitness'].count() * ((a_two_avg - grand_mean_a)**2)) + (a_three['Fitness'].count() * ((a_three_avg - grand_mean_a)**2))\n",
        "\n",
        "print(ss_between_a)"
      ],
      "metadata": {
        "colab": {
          "base_uri": "https://localhost:8080/"
        },
        "id": "HliFZqNocsBK",
        "outputId": "23a823e7-654e-464f-92d5-58dcee3fbdca"
      },
      "execution_count": null,
      "outputs": [
        {
          "output_type": "stream",
          "name": "stdout",
          "text": [
            "0.2548844537815136\n"
          ]
        }
      ]
    },
    {
      "cell_type": "markdown",
      "source": [
        "### **Step 3**: Find the sum of squares for within groups ($SS_{within}$) using each data point and the sample mean"
      ],
      "metadata": {
        "id": "Rj3_hJ5mfwjt"
      }
    },
    {
      "cell_type": "code",
      "source": [
        "def squared_dev(values_list, mean):\n",
        "  \"\"\" Takes a list of values and a mean. Returns a list of squared deviations\n",
        "  \"\"\"\n",
        "  sq_dev = []\n",
        "  for xi in values_list:\n",
        "    sq_dev.append((xi - mean)**2)\n",
        "\n",
        "  return sq_dev"
      ],
      "metadata": {
        "id": "6ulOn9nBevo3"
      },
      "execution_count": null,
      "outputs": []
    },
    {
      "cell_type": "code",
      "source": [
        "a_one_sq_dev = squared_dev(a_one['Fitness'], a_one_avg)\n",
        "a_two_sq_dev = squared_dev(a_two['Fitness'], a_two_avg)\n",
        "a_three_sq_dev = squared_dev(a_three['Fitness'], a_three_avg)\n",
        "\n",
        "ss_within_a = sum(a_one_sq_dev) + sum(a_two_sq_dev) + sum(a_three_sq_dev)\n",
        "print(ss_within_a)"
      ],
      "metadata": {
        "colab": {
          "base_uri": "https://localhost:8080/"
        },
        "id": "6rub3NBKewJc",
        "outputId": "a69625f2-fc26-40bf-d9fb-e2ca4d6de837"
      },
      "execution_count": null,
      "outputs": [
        {
          "output_type": "stream",
          "name": "stdout",
          "text": [
            "34.63261554621848\n"
          ]
        }
      ]
    },
    {
      "cell_type": "markdown",
      "source": [
        "A defined function, squared_dev, takes a list of values and a mean, returning a list of squared deviations. It then calculates squared deviations for fitness values within each age group ('one', 'two', 'three') for product 'a' (FE284) using this function. It then sums these squared deviations to compute the within-group sum of squares (ss_within_a)."
      ],
      "metadata": {
        "id": "IWnVSdIRvw63"
      }
    },
    {
      "cell_type": "markdown",
      "source": [
        "### **Step 4**: Find the degrees of freedom for between groups ($df_{between}$) and the degrees of freedom for within groups ($df_{within}$)"
      ],
      "metadata": {
        "id": "Z46SKKSLgIdT"
      }
    },
    {
      "cell_type": "code",
      "source": [
        "#There are 3 groups, representing the 3 different age groups\n",
        "k = 3\n",
        "df_betweenA = k - 1\n",
        "\n",
        "N_a = a_one['Fitness'].count() + a_two['Fitness'].count() + a_three['Fitness'].count()\n",
        "df_withinA = N_a - k\n",
        "\n",
        "print(f\"df_between: {df_betweenA}\")\n",
        "print(f\"df_within: {df_withinA}\")"
      ],
      "metadata": {
        "colab": {
          "base_uri": "https://localhost:8080/"
        },
        "id": "qcPnCVbHex5F",
        "outputId": "9f9b7ecf-16e3-4209-8e1f-bfe4bc41a229"
      },
      "execution_count": null,
      "outputs": [
        {
          "output_type": "stream",
          "name": "stdout",
          "text": [
            "df_between: 2\n",
            "df_within: 77\n"
          ]
        }
      ]
    },
    {
      "cell_type": "markdown",
      "source": [
        "### **Step 5**: Find the mean square for between ($MS_{between}$) and mean square for within ($MS_{within}$)"
      ],
      "metadata": {
        "id": "SYuUHrP-gUxx"
      }
    },
    {
      "cell_type": "code",
      "source": [
        "ms_betweenA = ss_between_a / df_betweenA\n",
        "ms_withinA = ss_within_a / df_withinA\n",
        "\n",
        "print(f\"MS_between: {ms_betweenA}\")\n",
        "print(f\"MS_within: {ms_withinA}\")"
      ],
      "metadata": {
        "colab": {
          "base_uri": "https://localhost:8080/"
        },
        "id": "KEDtk12Agybv",
        "outputId": "bba1f926-3cbf-4b8e-b96d-0f06dba46488"
      },
      "execution_count": null,
      "outputs": [
        {
          "output_type": "stream",
          "name": "stdout",
          "text": [
            "MS_between: 0.1274422268907568\n",
            "MS_within: 0.4497742278729673\n"
          ]
        }
      ]
    },
    {
      "cell_type": "markdown",
      "source": [
        "### **Step 6**: Find the F-statistic"
      ],
      "metadata": {
        "id": "MBJUsf9HgYoY"
      }
    },
    {
      "cell_type": "code",
      "source": [
        "F_a = ms_betweenA / ms_withinA\n",
        "print(f\"F-statistic: {F_a}\")"
      ],
      "metadata": {
        "colab": {
          "base_uri": "https://localhost:8080/"
        },
        "id": "w35JXRy0g6vf",
        "outputId": "df7f4506-57d6-4412-cf39-1059217e585a"
      },
      "execution_count": null,
      "outputs": [
        {
          "output_type": "stream",
          "name": "stdout",
          "text": [
            "F-statistic: 0.2833471083780086\n"
          ]
        }
      ]
    },
    {
      "cell_type": "markdown",
      "source": [
        "### **Step 7:** Find the F-critical value using the [F-table](https://www.stat.purdue.edu/~lfindsen/stat511/F_alpha_05.pdf) with an $\\alpha$ level of 0.05"
      ],
      "metadata": {
        "id": "cMWBBFKDglQw"
      }
    },
    {
      "cell_type": "code",
      "source": [
        "# numerator degrees of freedom is df_between = 2\n",
        "# denominator degrees of freedom is df_within = 77\n",
        "\n",
        "F_crit_a = 3.111"
      ],
      "metadata": {
        "id": "VAf8SgQBgl4X"
      },
      "execution_count": null,
      "outputs": []
    },
    {
      "cell_type": "markdown",
      "source": [
        "### **Step 8:** Compare F-statistic with F-critical value to reject or retain the null hypothesis"
      ],
      "metadata": {
        "id": "24nitUvDg5yj"
      }
    },
    {
      "cell_type": "code",
      "source": [
        "if F_a > F_crit_a:\n",
        "  print('Reject the null')\n",
        "else:\n",
        "  print('Retain the null')"
      ],
      "metadata": {
        "colab": {
          "base_uri": "https://localhost:8080/"
        },
        "id": "vmvtt8JshB4y",
        "outputId": "d7f6e6e2-0020-43ea-a434-958186b4c7ab"
      },
      "execution_count": null,
      "outputs": [
        {
          "output_type": "stream",
          "name": "stdout",
          "text": [
            "Retain the null\n"
          ]
        }
      ]
    },
    {
      "cell_type": "markdown",
      "source": [
        "Since the F statistic of 0.28 < F critical value of 3.111, we fail to reject the null hypothesis and have sufficient evidence to conclude there is no significant difference between fitness score rating among each age group for the treadmill product FE284."
      ],
      "metadata": {
        "id": "VL6-a2cHwPTA"
      }
    },
    {
      "cell_type": "markdown",
      "source": [
        "#Conduct one-way ANOVA test for **FE605** to account for age as a potential lurking variable on self-rated fitness scores for each treadmill product\n",
        "\n",
        "Participants divided into three age groups to facilitate comparisons within each group\n",
        "* 18-25\n",
        "* 26-35\n",
        "* 36-50\n",
        "\n",
        "#### **Null hypothesis:**\n",
        "The null hypothesis assumes that there is no significant difference between fitness score rating among each age group for treadmill product FE605.\n",
        "\n",
        "> $H_o$: $\\mu_1$ = $\\mu_2$ = $\\mu_3$\n",
        "\n",
        "Where:  \n",
        "* $\\mu_1$ = average fitness score rating among age group 18-25 for treadmill product FE605\n",
        "* $\\mu_2$ = average fitness score rating among age group 26-35 for treadmill product FE605\n",
        "* $\\mu_3$ = average fitness score rating among age group 36-50 for treadmill product FE605\n",
        "\n",
        "#### **Alternative hypothesis:**\n",
        "\n",
        "> $H_A$:  At least one age group’s fitness score rating is significantly different from others within a specific treadmill product."
      ],
      "metadata": {
        "id": "wA1mFUeOhZbh"
      }
    },
    {
      "cell_type": "markdown",
      "source": [
        "###**Step 1:** Calculate the mean self-rated fitness scores of each age group for a treadmill product and grand mean"
      ],
      "metadata": {
        "id": "lYWHGTAah56H"
      }
    },
    {
      "cell_type": "code",
      "source": [
        "# Filter data for different age groups\n",
        "b_one = fitness_df[(fitness_df.Product == 'FE605') & (fitness_df.Age.between(18, 25))]\n",
        "b_two = fitness_df[(fitness_df.Product == 'FE605') & (fitness_df.Age.between(26, 35))]\n",
        "b_three = fitness_df[(fitness_df.Product == 'FE605') & (fitness_df.Age.between(36, 50))]\n",
        "\n",
        "#Calculate mean fitness score for each age group\n",
        "b_one_avg = b_one['Fitness'].mean()\n",
        "b_two_avg = b_two['Fitness'].mean()\n",
        "b_three_avg = b_three['Fitness'].mean()"
      ],
      "metadata": {
        "id": "9RMVCWyrhZbh"
      },
      "execution_count": null,
      "outputs": []
    },
    {
      "cell_type": "markdown",
      "source": [
        "To simplify and minimize the use of words and time, each variable is represented by a number and letter:\n",
        "\n",
        "* \"b\" represents the second product being tested - FE605\n",
        "* \"one\" represents the first age group (18 - 25 years old)\n",
        "* \"two\" represents the second age group (26 - 35 years old)\n",
        "* \"three\" represents the third age group (26 - 50 years old)\n",
        "\n",
        "These representations make it easier to handle and comprehend the code."
      ],
      "metadata": {
        "id": "Map2VkvcyIY6"
      }
    },
    {
      "cell_type": "code",
      "source": [
        "#Test to see if each data frame has the same number of values\n",
        "same_b = b_one['Fitness'].count() == b_two['Fitness'].count() == b_three['Fitness'].count()\n",
        "\n",
        "if same_b:\n",
        "  print('Sample sizes are the same')\n",
        "else:\n",
        "  print('Sample sizes are different')"
      ],
      "metadata": {
        "colab": {
          "base_uri": "https://localhost:8080/"
        },
        "outputId": "7df9784d-d22e-4f25-f110-cff06145d0ab",
        "id": "DuWzsXMIhZbi"
      },
      "execution_count": null,
      "outputs": [
        {
          "output_type": "stream",
          "name": "stdout",
          "text": [
            "Sample sizes are different\n"
          ]
        }
      ]
    },
    {
      "cell_type": "markdown",
      "source": [
        "This code compares the counts of 'Fitness' values in three different data frames (b_one, b_two, b_three) representing different age groups for the product FE605.\n",
        "\n",
        "The variable 'same_b' stores the result of the comparison, checking if the counts of 'Fitness' values are equal across all three age groups.\n",
        "\n",
        "The comparison allows us to determine which formula to use in order to calculate the grand mean. Since the three groups have different sample sizes, we will calculate the grand mean as demonstrated in the formula:\n",
        "\n",
        "![Screenshot 2023-11-28 at 12.40.27 PM.png](data:image/png;base64,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)"
      ],
      "metadata": {
        "id": "PU5YvFD50Jee"
      }
    },
    {
      "cell_type": "code",
      "source": [
        "#Calculate the grand mean, considering groups have different number of values\n",
        "\n",
        "#Define variables that stores number of values in a_one data frame and sum of all values\n",
        "sum_b_one = b_one['Fitness'].sum()\n",
        "count_b_one = b_one['Fitness'].count()\n",
        "\n",
        "#Define variables that stores number of values in a_two data frame and sum of all values\n",
        "sum_b_two = b_two['Fitness'].sum()\n",
        "count_b_two = b_two['Fitness'].count()\n",
        "\n",
        "#Define variables that stores number of values in a_two data frame and sum of all values\n",
        "sum_b_three = b_three['Fitness'].sum()\n",
        "count_b_three = b_three['Fitness'].count()\n",
        "\n",
        "#Calculate grand mean\n",
        "grand_meanB = (sum_b_one + sum_b_two + sum_b_three) / (count_b_one + count_b_two + count_b_three)\n",
        "\n",
        "print(grand_meanB)"
      ],
      "metadata": {
        "colab": {
          "base_uri": "https://localhost:8080/"
        },
        "outputId": "58d97ae7-a273-4651-9e68-1d431f07917b",
        "id": "_qlWhb6ThZbi"
      },
      "execution_count": null,
      "outputs": [
        {
          "output_type": "stream",
          "name": "stdout",
          "text": [
            "4.625\n"
          ]
        }
      ]
    },
    {
      "cell_type": "markdown",
      "source": [
        "The variable naming convention like 'sum_b_one' and 'count_b_one' organizes sums and counts of fitness values within each age group for product 'b' (FE605). This naming scheme simplifies distinction between groups, helping calculate the grand mean."
      ],
      "metadata": {
        "id": "FCewQKVD0ghK"
      }
    },
    {
      "cell_type": "markdown",
      "source": [
        "###**Step 2:**  Find the sum of squares for between groups ($SS_{between}$) using each sample mean and the grand mean"
      ],
      "metadata": {
        "id": "L1kOyeiNizgS"
      }
    },
    {
      "cell_type": "code",
      "source": [
        "ss_betweenB = (b_one['Fitness'].count() * ((b_one_avg - grand_meanB)**2)) + (b_two['Fitness'].count() * ((b_two_avg - grand_meanB)**2)) + (b_three['Fitness'].count() * ((b_three_avg - grand_meanB)**2))\n",
        "\n",
        "print(ss_betweenB)"
      ],
      "metadata": {
        "colab": {
          "base_uri": "https://localhost:8080/"
        },
        "outputId": "a07ddf41-0973-4431-d7ce-aed924bdda84",
        "id": "lfjwqhcrhZbi"
      },
      "execution_count": null,
      "outputs": [
        {
          "output_type": "stream",
          "name": "stdout",
          "text": [
            "0.30637254901960786\n"
          ]
        }
      ]
    },
    {
      "cell_type": "markdown",
      "source": [
        "### **Step 3**: Find the sum of squares for within groups ($SS_{within}$) using each data point and the sample mean"
      ],
      "metadata": {
        "id": "49Gus1ioi2c7"
      }
    },
    {
      "cell_type": "code",
      "source": [
        "def squared_dev(values_list, mean):\n",
        "  \"\"\" Takes a list of values and a mean. Returns a list of squared deviations\n",
        "  \"\"\"\n",
        "  sq_dev = []\n",
        "  for xi in values_list:\n",
        "    sq_dev.append((xi - mean)**2)\n",
        "\n",
        "  return sq_dev"
      ],
      "metadata": {
        "id": "Ilfm211mhZbi"
      },
      "execution_count": null,
      "outputs": []
    },
    {
      "cell_type": "code",
      "source": [
        "b_one_sq_dev = squared_dev(b_one['Fitness'], b_one_avg)\n",
        "b_two_sq_dev = squared_dev(b_two['Fitness'], b_two_avg)\n",
        "b_three_sq_dev = squared_dev(b_three['Fitness'], b_three_avg)\n",
        "\n",
        "ss_within_b = sum(b_one_sq_dev) + sum(b_two_sq_dev) + sum(b_three_sq_dev)\n",
        "print(ss_within_b)"
      ],
      "metadata": {
        "colab": {
          "base_uri": "https://localhost:8080/"
        },
        "outputId": "e9d6cb7b-c1d2-4376-ed95-50ce9c9bd973",
        "id": "3oC21dX2hZbi"
      },
      "execution_count": null,
      "outputs": [
        {
          "output_type": "stream",
          "name": "stdout",
          "text": [
            "17.068627450980397\n"
          ]
        }
      ]
    },
    {
      "cell_type": "markdown",
      "source": [
        "A defined function, squared_dev, takes a list of values and a mean, returning a list of squared deviations. It then calculates squared deviations for fitness values within each age group ('one', 'two', 'three') for product 'b' (FE605) using this function. It then sums these squared deviations to compute the within-group sum of squares (ss_within_b)."
      ],
      "metadata": {
        "id": "0T2zYTbD_-cU"
      }
    },
    {
      "cell_type": "markdown",
      "source": [
        "### **Step 4**: Find the degrees of freedom for between groups ($df_{between}$) and the degrees of freedom for within groups ($df_{within}$)"
      ],
      "metadata": {
        "id": "Hy1dvEiyi6_0"
      }
    },
    {
      "cell_type": "code",
      "source": [
        "#There are 3 groups, representing the 3 different age groups\n",
        "k = 3\n",
        "df_betweenB = k - 1\n",
        "\n",
        "N_b = b_one['Fitness'].count() + b_two['Fitness'].count() + b_three['Fitness'].count()\n",
        "df_withinB = N_b - k\n",
        "\n",
        "print(f\"df_between: {df_betweenB}\")\n",
        "print(f\"df_within: {df_withinB}\")"
      ],
      "metadata": {
        "colab": {
          "base_uri": "https://localhost:8080/"
        },
        "outputId": "35232bf7-90aa-4d14-e00f-cb036c16dd63",
        "id": "GVFcL6ijhZbi"
      },
      "execution_count": null,
      "outputs": [
        {
          "output_type": "stream",
          "name": "stdout",
          "text": [
            "df_between: 2\n",
            "df_within: 37\n"
          ]
        }
      ]
    },
    {
      "cell_type": "markdown",
      "source": [
        "### **Step 5**: Find the mean square for between ($MS_{between}$) and mean square for within ($MS_{within}$)"
      ],
      "metadata": {
        "id": "rPx-vqiTi9DT"
      }
    },
    {
      "cell_type": "code",
      "source": [
        "ms_betweenB = ss_betweenB / df_betweenB\n",
        "ms_withinB = ss_within_b / df_withinB\n",
        "\n",
        "print(f\"MS_between: {ms_betweenB}\")\n",
        "print(f\"MS_within: {ms_withinB}\")"
      ],
      "metadata": {
        "colab": {
          "base_uri": "https://localhost:8080/"
        },
        "outputId": "81e9c5dd-40f6-4189-fd75-dd9ca453acfc",
        "id": "k_Pm4TiJhZbj"
      },
      "execution_count": null,
      "outputs": [
        {
          "output_type": "stream",
          "name": "stdout",
          "text": [
            "MS_between: 0.15318627450980393\n",
            "MS_within: 0.46131425543190263\n"
          ]
        }
      ]
    },
    {
      "cell_type": "markdown",
      "source": [
        "### **Step 6**: Find the F-statistic"
      ],
      "metadata": {
        "id": "bJ1rfh6EjAN9"
      }
    },
    {
      "cell_type": "code",
      "source": [
        "F_b = ms_betweenB / ms_withinB\n",
        "print(f\"F-statistic: {F_b}\")"
      ],
      "metadata": {
        "colab": {
          "base_uri": "https://localhost:8080/"
        },
        "outputId": "076ad245-d6f6-4de8-ce77-8de0e88101e4",
        "id": "16kAWXgUhZbj"
      },
      "execution_count": null,
      "outputs": [
        {
          "output_type": "stream",
          "name": "stdout",
          "text": [
            "F-statistic: 0.33206490522688104\n"
          ]
        }
      ]
    },
    {
      "cell_type": "markdown",
      "source": [
        "### **Step 7:** Find the F-critical value using the [F-table](https://www.stat.purdue.edu/~lfindsen/stat511/F_alpha_05.pdf) with an $\\alpha$ level of 0.05"
      ],
      "metadata": {
        "id": "44mSz_JgjST8"
      }
    },
    {
      "cell_type": "code",
      "source": [
        "# numerator degrees of freedom is df_between = 2\n",
        "# denominator degrees of freedom is df_within = 37\n",
        "\n",
        "F_crit_b = 3.305"
      ],
      "metadata": {
        "id": "ar3wx2qNhZbj"
      },
      "execution_count": null,
      "outputs": []
    },
    {
      "cell_type": "markdown",
      "source": [
        "### **Step 8:** Compare F-statistic with F-critical value to reject or retain the null hypothesis"
      ],
      "metadata": {
        "id": "aae4mBIHjb2j"
      }
    },
    {
      "cell_type": "code",
      "source": [
        "if F_b > F_crit_b:\n",
        "  print('Reject the null')\n",
        "else:\n",
        "  print('Retain the null')"
      ],
      "metadata": {
        "colab": {
          "base_uri": "https://localhost:8080/"
        },
        "id": "yKioIhE1jdpF",
        "outputId": "d16764db-e512-4dc0-8e89-5a4e5e8d88c5"
      },
      "execution_count": null,
      "outputs": [
        {
          "output_type": "stream",
          "name": "stdout",
          "text": [
            "Retain the null\n"
          ]
        }
      ]
    },
    {
      "cell_type": "markdown",
      "source": [
        "Since the F statistic of 0.332 < F critical value of 3.305, we fail to reject the null hypothesis and have sufficient evidence to conclude there is no significant difference between fitness score rating among each age group for the treadmill product FE605."
      ],
      "metadata": {
        "id": "tv0t4w4GAjPy"
      }
    },
    {
      "cell_type": "markdown",
      "source": [
        "#Conduct one-way ANOVA test for **FE580** to account for age as a potential lurking variable on self-rated fitness scores for each treadmill product\n",
        "\n",
        "Participants divided into three age groups to facilitate comparisons within each group\n",
        "* 18-25 years old\n",
        "* 26-35 years old\n",
        "* 36-50 years old\n",
        "\n",
        "#### **Null hypothesis:**\n",
        "The null hypothesis assumes that there is no significant difference between fitness score rating among each age group for treadmill product FE580.\n",
        "\n",
        "> $H_o$: $\\mu_1$ = $\\mu_2$ = $\\mu_3$\n",
        "\n",
        "Where:  \n",
        "* $\\mu_1$ = average fitness score rating among age group 18-25 for treadmill product FE580\n",
        "* $\\mu_2$ = average fitness score rating among age group 26-35 for treadmill product FE580\n",
        "* $\\mu_3$ = average fitness score rating among age group 36-50 for treadmill product FE580\n",
        "\n",
        "#### **Alternative hypothesis:**\n",
        "\n",
        "> $H_A$:  At least one age group’s fitness score rating is significantly different from others within a specific treadmill product."
      ],
      "metadata": {
        "id": "el03xItnj66M"
      }
    },
    {
      "cell_type": "markdown",
      "source": [
        "###**Step 1:** Calculate the mean self-rated fitness scores of each age group for a treadmill product and grand mean"
      ],
      "metadata": {
        "id": "UxtBPQ7lkKTN"
      }
    },
    {
      "cell_type": "code",
      "source": [
        "# Filter data for different age groups\n",
        "c_one = fitness_df[(fitness_df.Product == 'FE580') & (fitness_df.Age.between(18, 25))]\n",
        "c_two = fitness_df[(fitness_df.Product == 'FE580') & (fitness_df.Age.between(26, 35))]\n",
        "c_three = fitness_df[(fitness_df.Product == 'FE580') & (fitness_df.Age.between(36, 50))]\n",
        "\n",
        "#Calculate mean fitness score for each age group\n",
        "c_one_avg = c_one['Fitness'].mean()\n",
        "c_two_avg = c_two['Fitness'].mean()\n",
        "c_three_avg = c_three['Fitness'].mean()"
      ],
      "metadata": {
        "id": "8981FV8Gj66Y"
      },
      "execution_count": null,
      "outputs": []
    },
    {
      "cell_type": "markdown",
      "source": [
        "To simplify and minimize the use of words and time, each variable is represented by a number and letter:\n",
        "\n",
        "* \"c\" represents the third product being tested - FE580\n",
        "* \"one\" represents the first age group (18 - 25 years old)\n",
        "* \"two\" represents the second age group (26 - 35 years old)\n",
        "* \"three\" represents the third age group (26 - 50 years old)\n",
        "\n",
        "These representations make it easier to handle and comprehend the code."
      ],
      "metadata": {
        "id": "Eaa1c83CA7OB"
      }
    },
    {
      "cell_type": "code",
      "source": [
        "#Test to see if each data frame has the same number of values\n",
        "same_c = c_one['Fitness'].count() == c_two['Fitness'].count() == c_three['Fitness'].count()\n",
        "\n",
        "if same_c:\n",
        "  print('Sample sizes are the same')\n",
        "else:\n",
        "  print('Sample sizes are different')"
      ],
      "metadata": {
        "colab": {
          "base_uri": "https://localhost:8080/"
        },
        "outputId": "d7103555-6171-4450-963c-c5536121e7c5",
        "id": "ee3jOrf9j66Y"
      },
      "execution_count": null,
      "outputs": [
        {
          "output_type": "stream",
          "name": "stdout",
          "text": [
            "Sample sizes are different\n"
          ]
        }
      ]
    },
    {
      "cell_type": "markdown",
      "source": [
        "This code compares the counts of 'Fitness' values in three different data frames (c_one, c_two, c_three) representing different age groups for the product FE580.\n",
        "\n",
        "The variable 'same_c' stores the result of the comparison, checking if the counts of 'Fitness' values are equal across all three age groups.\n",
        "\n",
        "The comparison allows us to determine which formula to use in order to calculate the grand mean. Since the three groups have different sample sizes, we will calculate the grand mean as demonstrated in the formula:\n",
        "\n",
        "![Screenshot 2023-11-28 at 12.40.27 PM.png](data:image/png;base64,iVBORw0KGgoAAAANSUhEUgAAAYYAAABsCAYAAABuKBW1AAAMP2lDQ1BJQ0MgUHJvZmlsZQAASImVVwdYU8kWnluSkJDQAghICb0JIjWAlBBaAOlFsBGSAKHEGAgidnRRwbWLBWzoqohiB8SO2FkUe18QUVHWxYINlTcpoOu+8r3JN3f+/HPmP2fOnXvnDgDqp7hicQ6qAUCuKF8SGxLAGJucwiA9A2T4owJvYMXl5YlZ0dERAJbB9u/l/S2AyNrrDjKtf/b/16LJF+TxAECiIU7j5/FyIT4EAF7JE0vyASDKePOp+WIZhhVoS2CAEC+U4QwFrpThNAXeJ7eJj2VD3AyACpXLlWQAoHYV8owCXgbUUOuF2EnEF4oAUGdA7JubO5kPcSrENtBGDLFMn5n2g07G3zTThjS53IwhrJiLvKgECvPEOdxp/2c6/nfJzZEO+rCClZopCY2VzRnm7U725HAZpkLcI0qLjIJYC+KPQr7cHmKUkikNTVDYo4a8PDbMGdCF2InPDQyH2BDiYFFOZISST0sXBnMghisELRTmc+Ih1oN4oSAvKE5ps1kyOVbpC61Ll7BZSv4CVyL3K/P1SJqdwFLqv8kUcJT6mFpRZnwSxBSILQqEiZEQq0HsmJcdF660GV2UyY4ctJFIY2XxW0AcKxCFBCj0sYJ0SXCs0r40N29wvtjmTCEnUokP5GfGhyrygzXzuPL44VywqwIRK2FQR5A3NmJwLnxBYJBi7thzgSghTqnzUZwfEKsYi1PEOdFKe9xMkBMi480gds0riFOOxRPz4YJU6OPp4vzoeEWceFEWNyxaEQ++DEQANggEDCCFNQ1MBllA2NpT3wP/KXqCARdIQAYQAAclMzgiSd4jgtc4UAT+hEgA8obGBch7BaAA8l+HWMXVAaTLewvkI7LBU4hzQTjIgf+l8lGiIW+J4AlkhP/wzoWVB+PNgVXW/+/5QfY7w4JMhJKRDnpkqA9aEoOIgcRQYjDRFjfAfXFvPAJe/WF1xpm45+A8vtsTnhLaCI8JNwnthLuThMWSn6IcA9qhfrAyF2k/5gK3gppueADuA9WhMq6LGwAH3BX6YeF+0LMbZNnKuGVZYfyk/bcZ/HA3lHZkJzJKHkb2J9v8PFLNTs1tSEWW6x/zo4g1bSjf7KGen/2zf8g+H7bhP1tiC7GD2HnsNHYRO4bVAwZ2EmvAWrDjMjy0up7IV9egt1h5PNlQR/gPf4N3VpbJPKcap26nL4q+fEGh7B0N2JPF0yTCjMx8BgvuCAIGR8RzHMFwdnJ2AUC2vyheX29j5PsGotvynZv3BwA+JwcGBo5+58JOArDfAz7+R75zNky4dagCcOEITyopUHC47EKAbwl1+KTpA2NgDmzgfJyBO9zH/EEQCANRIB4kg4kw+ky4ziVgKpgB5oISUAaWgdVgPdgEtoKdYA84AOrBMXAanAOXwVVwE9yHq6cLvAS94D3oRxCEhNAQOqKPmCCWiD3ijDARXyQIiUBikWQkFclARIgUmYHMQ8qQFch6ZAtSjexHjiCnkYtIG3IX6UC6kTfIZxRDqag2aoRaoSNRJspCw9F4dAKagU5Bi9D56BJ0LVqF7kbr0NPoZfQm2o6+RPswgKliupgp5oAxMTYWhaVg6ZgEm4WVYuVYFVaLNcL7fB1rx3qwTzgRp+MM3AGu4FA8AefhU/BZ+GJ8Pb4Tr8Ob8et4B96LfyPQCIYEe4IXgUMYS8ggTCWUEMoJ2wmHCWfhs9RFeE8kEnWJ1kQP+CwmE7OI04mLiRuIe4mniG3ETmIfiUTSJ9mTfEhRJC4pn1RCWkfaTTpJukbqIn1UUVUxUXFWCVZJURGpFKuUq+xSOaFyTeWZSj9Zg2xJ9iJHkfnkaeSl5G3kRvIVche5n6JJsab4UOIpWZS5lLWUWspZygPKW1VVVTNVT9UYVaHqHNW1qvtUL6h2qH6ialHtqGzqeKqUuoS6g3qKepf6lkajWdH8aSm0fNoSWjXtDO0R7aMaXc1RjaPGV5utVqFWp3ZN7ZU6Wd1SnaU+Ub1IvVz9oPoV9R4NsoaVBluDqzFLo0LjiMZtjT5NuuYozSjNXM3Fmrs0L2o+1yJpWWkFafG15mtt1Tqj1UnH6OZ0Np1Hn0ffRj9L79Imaltrc7SztMu092i3avfqaOm46iTqFOpU6BzXadfFdK10Obo5ukt1D+je0v08zGgYa5hg2KJhtcOuDfugN1zPX0+gV6q3V++m3md9hn6Qfrb+cv16/YcGuIGdQYzBVIONBmcNeoZrD/cezhteOvzA8HuGqKGdYazhdMOthi2GfUbGRiFGYqN1RmeMeox1jf2Ns4xXGZ8w7jahm/iaCE1WmZw0ecHQYbAYOYy1jGZGr6mhaaip1HSLaatpv5m1WYJZsdles4fmFHOmebr5KvMm814LE4sxFjMsaizuWZItmZaZlmssz1t+sLK2SrJaYFVv9dxaz5pjXWRdY/3AhmbjZzPFpsrmhi3RlmmbbbvB9qodaudml2lXYXfFHrV3txfab7BvG0EY4TlCNKJqxG0HqgPLocChxqHDUdcxwrHYsd7x1UiLkSkjl488P/Kbk5tTjtM2p/ujtEaFjSoe1TjqjbOdM8+5wvmGC80l2GW2S4PLa1d7V4HrRtc7bnS3MW4L3Jrcvrp7uEvca927PSw8Uj0qPW4ztZnRzMXMC54EzwDP2Z7HPD95uXvlex3w+svbwTvbe5f389HWowWjt43u9DHz4fps8Wn3Zfim+m72bfcz9eP6Vfk99jf35/tv93/GsmVlsXazXgU4BUgCDgd8YHuxZ7JPBWKBIYGlga1BWkEJQeuDHgWbBWcE1wT3hriFTA85FUoIDQ9dHnqbY8Thcao5vWEeYTPDmsOp4XHh68MfR9hFSCIax6BjwsasHPMg0jJSFFkfBaI4USujHkZbR0+JPhpDjImOqYh5Gjsqdkbs+Th63KS4XXHv4wPil8bfT7BJkCY0Jaonjk+sTvyQFJi0Iql97MixM8deTjZIFiY3pJBSElO2p/SNCxq3elzXeLfxJeNvTbCeUDjh4kSDiTkTj09Sn8SddDCVkJqUuiv1CzeKW8XtS+OkVab18ti8NbyXfH/+Kn63wEewQvAs3Sd9RfrzDJ+MlRndmX6Z5Zk9QrZwvfB1VmjWpqwP2VHZO7IHcpJy9uaq5KbmHhFpibJFzZONJxdObhPbi0vE7VO8pqye0isJl2zPQ/Im5DXka8MP+RapjfQXaUeBb0FFwcepiVMPFmoWigpbptlNWzTtWVFw0W/T8em86U0zTGfMndExkzVzyyxkVtqsptnms+fP7poTMmfnXMrc7Lm/FzsVryh+Ny9pXuN8o/lz5nf+EvJLTYlaiaTk9gLvBZsW4guFC1sXuSxat+hbKb/0UplTWXnZl8W8xZd+HfXr2l8HlqQvaV3qvnTjMuIy0bJby/2W71yhuaJoRefKMSvrVjFWla56t3rS6ovlruWb1lDWSNe0r41Y27DOYt2ydV/WZ66/WRFQsbfSsHJR5YcN/A3XNvpvrN1ktKls0+fNws13toRsqauyqirfStxasPXptsRt539j/la93WB72favO0Q72nfG7myu9qiu3mW4a2kNWiOt6d49fvfVPYF7Gmodarfs1d1btg/sk+57sT91/60D4QeaDjIP1h6yPFR5mH64tA6pm1bXW59Z396Q3NB2JOxIU6N34+Gjjkd3HDM9VnFc5/jSE5QT808MnCw62XdKfKrndMbpzqZJTffPjD1zozmmufVs+NkL54LPnTnPOn/ygs+FYxe9Lh65xLxUf9n9cl2LW8vh391+P9zq3lp3xeNKw1XPq41to9tOXPO7dvp64PVzNzg3Lt+MvNl2K+HWndvjb7ff4d95fjfn7ut7Bff67895QHhQ+lDjYfkjw0dVf9j+sbfdvf14R2BHy+O4x/c7eZ0vn+Q9+dI1/yntafkzk2fVz52fH+sO7r76YtyLrpfil/09JX9q/ln5yubVob/8/2rpHdvb9VryeuDN4rf6b3e8c33X1Bfd9+h97vv+D6Uf9T/u/MT8dP5z0udn/VO/kL6s/Wr7tfFb+LcHA7kDA2KuhCv/FMBgRdPTAXizAwBaMgB0eD6jjFOc/+QFUZxZ5Qj8J6w4I8qLOwC18Ps9pgd+3dwGYN82ePyC+urjAYimARDvCVAXl6E6eFaTnytlhQjPAZtjv6blpoF/UxRnzh/i/rkFMlVX8HP7LzTPfIsHNZjyAAAAimVYSWZNTQAqAAAACAAEARoABQAAAAEAAAA+ARsABQAAAAEAAABGASgAAwAAAAEAAgAAh2kABAAAAAEAAABOAAAAAAAAAJAAAAABAAAAkAAAAAEAA5KGAAcAAAASAAAAeKACAAQAAAABAAABhqADAAQAAAABAAAAbAAAAABBU0NJSQAAAFNjcmVlbnNob3SRQqnSAAAACXBIWXMAABYlAAAWJQFJUiTwAAAB1mlUWHRYTUw6Y29tLmFkb2JlLnhtcAAAAAAAPHg6eG1wbWV0YSB4bWxuczp4PSJhZG9iZTpuczptZXRhLyIgeDp4bXB0az0iWE1QIENvcmUgNi4wLjAiPgogICA8cmRmOlJERiB4bWxuczpyZGY9Imh0dHA6Ly93d3cudzMub3JnLzE5OTkvMDIvMjItcmRmLXN5bnRheC1ucyMiPgogICAgICA8cmRmOkRlc2NyaXB0aW9uIHJkZjphYm91dD0iIgogICAgICAgICAgICB4bWxuczpleGlmPSJodHRwOi8vbnMuYWRvYmUuY29tL2V4aWYvMS4wLyI+CiAgICAgICAgIDxleGlmOlBpeGVsWURpbWVuc2lvbj4xMDg8L2V4aWY6UGl4ZWxZRGltZW5zaW9uPgogICAgICAgICA8ZXhpZjpQaXhlbFhEaW1lbnNpb24+MzkwPC9leGlmOlBpeGVsWERpbWVuc2lvbj4KICAgICAgICAgPGV4aWY6VXNlckNvbW1lbnQ+U2NyZWVuc2hvdDwvZXhpZjpVc2VyQ29tbWVudD4KICAgICAgPC9yZGY6RGVzY3JpcHRpb24+CiAgIDwvcmRmOlJERj4KPC94OnhtcG1ldGE+CtCNAZgAAAAcaURPVAAAAAIAAAAAAAAANgAAACgAAAA2AAAANgAAEJP1RY9LAAAQX0lEQVR4Aexdd6wVRRc/T4ORJkFU+ANREYIEo0GqShGNSrGgIlIEqYIoIooNNGpUWqhS7IUiFjAoSJES+kOaPIoBRCEQDRAsCAL2+81vPmczs3f33n17t933zkne252yszO/2Ttn5sw5ZwpSgoiJEWAEGAFGgBH4D4ECZgz8LTACjAAjwAjoCDBj0NHge0aAEWAEGAFixsAfASPACDACjICBADMGAw4OMAKMACPACDBj4G+AEWAEGAFGwECAGYMBBwcYAUaAEWAEmDHwN8AIMAKMACNgIMCMwYCDA4wAI8AIMALMGPgbYAQYAUaAETAQYMZgwMEBRoARYAQYAWYM/A0wAowAI8AIGAgwYzDg4AAjwAgwAowAMwb+BhgBRoARYAQMBJgxGHBwgBFgBBgBRoAZA38DjAAjwAgwAgYCzBgMODjACDACjAAjwIyBvwFGgBFgBBgBAwFmDAYcHGAEGAFGgBFgxsDfACPACDACjICBADMGAw4OMAKMACPACDBjKAXfwPr16+n+++/P2tKKFSvSokWLqFKlSlbeMWPG0LRp06yw081rr71G1157rVNS4uJOnTpFLVu2pN9//z1r3d566y1q0qSJlW/FihX08MMPW2Gnm759+2bN4/Qcx/lDgPvTH27ZnmLGkA2hEpC+YcMGObhv2rSJfvrpJ8cWNWjQgC699FJ6+eWX6cwzz7TyzJgxg1auXEkYFO1Uo0YNqlu3Lj3yyCNUp04de3Iiw0eOHKERI0bQrl27aO/evY51rF27NtWrV08O8BdffLGVp7CwkD744ANasGCBFaduypcvT40bN6a77rqL2rZtq6L5GjIC3J/hAMyMIRxcE1nqn3/+SU8//TTNnTvXqF+/fv3oySefNOL0wD///EMYLBVVq1aNxo4dS02bNqWCggIVnXfX999/n5599lmj3pdffjl99tlnGduFVcHy5cut54YPH0533nknnXXWWVYc30SPAPdncJgzYwgOy7wo6fTp09SiRQtj5dC1a1d68cUXXes/ceJEwh8IKwuIWHRxk+uDeZDwwAMP0BdffGHVFKsgrJDcaN26ddStWzeZXKVKFZo5c2berJbc2lSS4rk/g+lNZgzB4JhXpdhnVhCDQMx09tlnp7UDew4PPvigjMcKAUyhXLlyafnyNWL37t1pop9PP/2UrrjiirQm7du3j26//XY6efIkgSl89NFHVLNmzbR8HBEfAtyfwWDPjCEYHPOqFKwaIA/HAKdo3Lhx1L59exWU1y+//JK6dOki7xs1akTvvfcelS1b1sgTRwCiraKiIsIVTA37AbmQXTTUsWNHGjlypFEkZNl33HEHHT58WDKFOXPm0EUXXWTkiSMQNBYloQ353J9x4O/0TmYMTqiUgrgpU6bIfQLV1Pr169Mnn3yignJztl27djIM8RGYAgbhJJA+KwTDwsw9F8Jq6Z577jGK2Lp1qyUuO378OHXq1InwXmCAPZpatWoZ+eMKBI1FHO0Iug353J9x4O/4zhRTqUTg559/Tl1yySXG3zfffCOxOHDgQKphw4YyTYhOUr/++muiMBIaRVa9xew+kLqhnToeQtwmyxWrq1Tnzp1lmtiYTolBLJD3BVVIGFgEVTev5YTRhnztT6+YhZ2Pwn4Bl59cBF544QVjMBw1alTqxx9/TAk9fxnfpk2b1LFjxxLXgDAGksWLFxtY3Hrrram///47JTYzLaawc+fOUoFF1I3k/owa8ezvY1GS4zqqdEQePHiQrrvuOqOxl112mRSZQD31ww8/pMqVKxvpSQgELXpAmyCrv+GGGwiYKIKYCmIJEMRHV155pUpKzDUMLKJuXBhtyNf+jBp7t/cxY3BDppTEDxo0iObPn2+0VohUJFM4//zzjfikBMIYSNA2GK8NGzYsrZnYaL7qqqvS4pMQERYWUbYtrDbkY39GiXumdzFjyIROKUjbsWOHVMHUm7ps2bJEq2GGNZA4aWvBvgN2HkmlsLCIsr1htSEf+zNK3DO9ixlDJnRKQZrYWCZoJOkk9h4sIy49Pin3YQ0k//77r9RO2rJli9XUm2++mV599VUrHMQNxBwg3fWI33LDwsJvffw8F1YboupPP21O+jPMGJLeQyHW77fffqN7772Xtm/fbrwFxluw8A3SxQP0/19//XUpw3/77beN99kDcHAHhuVG3377rcW4sBcyffp0t6xUoUIFT2q2YjuOwBCdyoJltO4SxPVlGRLADOBqA2q/YhNb5sR+DmwjevXq5cok4sAiQzN8JcXRhrD7c8+ePQRDUZ1g/wKXKk70xhtv0Pfff5+WBBscu6p0WqYYIpgxxAB6El4Jr5Q9e/aUm6vQzQcz0DdeR48eTR06dMi5qkePHiX8KBQzuPrqq9N+UPaXCA0hGjBggD3aVxgDuu7ywq0Q+DuCVTcIP241eCOMwRu+ofwSmEL//v0N/0p6WbAoh7NCpxVEHFjodQviPo42hNmfwESodBNsgbD/pAj2Ph9//LGjny3Ef/7557R27VqVnYTmG8FW6KabbrLiknLDjCEpPRFhPTCDgxtu9ZHCsA0f+qOPPmrVAj6D4CjOabCyMmW5gc8h/HjgtRU/DFDUjAEMT2kWuVV3/PjxNGnSJJn8/PPPU6tWraRrbj0/2gJM/NCECRPolVdekYwWnlfBiOGtFu7KFT311FOOrtGDHFS9YKHqE+Q16jaE3Z86NphMgAkpgtgR4kcngmjrxhtvpP3799MzzzwjV4pO+ZIQx4whCb0QYR3gYRWOxpQbbZy10Lx5c+keAzNX3U0GHOdhVuOXMFNWjAU/Fri59sIY1qxZQxig3QibihBNKYIWlRtVrVqVZs2a5ZZMU6dOJZw5AYKGFv5A3bt3txgnwtkcDSKPE6GuEBc4DQQLFy6khx56SD7mtrKJEgun+gcRF2Ubwu5POx5Y6T333HNWNCYPS5cupTJlylhx+g1UoEFwN6N+G3p6Yu6zmzoEm0PIU6VVLSxrvfwJB27BVqAUl6YbbMHKV6ipGmgIcYlh5CWWuCkxuBt5/AaEWEqWLXwv+S3Cei4ogygh3rLaK37cVvm4Wb16tZWmLKIPHTpk5PESELPlFHAE9k6kW+gKpu2UJWNcUFhkfEnIiUG1IYr+tEMxZMgQ+Z1cf/311vciPO7as8mwmHTJPMLFvWN6kiIjt3xWVrXqx5btGpTLgySBHkddMDCJ2XDGj1fMwq101S9CdTWQ6iaNMeDHq9oIXOwDt1j2ywFd5cFVHGJUbCyEOC61ceNG1+fESsKqB95ZXApqUC3ue4PMH0QboupPe7sxnuHb1icScJ0i/GvZs6a++uor2dezZ89OS0taROSiJMhVf/jhB88rJizN4C2RyT8CkG0OHTrUkvNjL0GJMOylQtat9gOQBvfTcEOdK919990ENVAvoqRs78pVvREbhk888YR8DSy/oS3ltPRHu/V9FzywefNmOvfcc7NV0XM6Tr+bN2+ePOdCDBien1MZc8VClRPnNdc2xNWfStUb+3X43ejiRxwBi77VSYmdYFCaq0dgvdxQ7pPGqbg+wSKAWSjEJGrmKwy2Mr5ADHxWXvWM2KTO+IyXxKSsGMQgbLVPnLqWwvLejdTSX+GAq9jYdMvuK16toN3ED9kKDWK2jXf89ddf8i/T+yBWFHsmmbLINKHxljWPniGXNsTZn+IsdfktoQ4g+NLSvxW76FGJnfyIDHW8oriPXJQURaP4Hf9HAD9kcXSl9bEKlck0kYkdKzyjPKuqjxyDuh8xh152EhiDPoiIlUtKnH+tV9HxXhe/KTzgmTYIEtpSsm/AHDAw+6FcBlW8D/0qVk8piD/Q7/Z9J1UncW54CvVEPuwTChsYlWRdIYpUnmjhgBF180J+2xB3f7755puy/7777jurmWrwx7di30sAfthTygdixpAPveSjjvCKCkagBjNcvQyEmBHaGQOeVW6ofVRFPhInY8D+gVBHNbAQGkGemmLHEFg47Ul4KkzLBAasNp4he/ZLfgdV9b7CwkIDF/S9fb8FeVX/qe9JnIGhirCuQi3XKGvw4MFWWqab4rYhKf0pxLGyvehLRcKIzcBAiMlkEn6PwA4ejfOBIt9jCEUexoVaCEBVDnrj8AZqJ8jTr7nmGqk/fcYZZxjJUJ9bsmQJiUEqzRJaZWzWrJl0JmeXnar0TNc49hggu4aqKnw/6eqtqCesjmGv0KdPnzQPsjD0g2dZqNfClsOJoF4qZoDUu3dvgkpscQkW1lDJheEcDOj8Uq7yeci7BaMzXv/111+nndSHb0c3gHTapxKrU8N4EerPmVSF1Uu9tiFp/YnfEg5sslvLwzhU2agAt3feeYeE2EmqPOfa3wqzsK/FZgywmMWfFzrnnHMMtwqCs9Ivv/yS9VG4ek60jm/WFsSXYeDAgbRgwYKMFcCAZ8fX/qN2K0DMelwHS7dnEB8kY8AAhR8cKNMJbvazreUDtn9CHJHmxsBpsLQ9ZgWFxhGdd955VtjLDdyNdOvWjR577DHrPG0vzznl8YqF07OIg51FixYtSKwmZRZsoDrZkMDeBS5DFK1atYouvPBCFZTXbdu2GUxu8uTJaedpGw/8F/DahiT1pzi3RB6PCwt9IT4ymoVNaUyilE0Q6g1L+hEjRhDOUK9Tp46RP4mBYjMGpUXhpTGYLWDWoEjIKUnIIFXQ9RqEbxrXwjkhFgSCZAyxNCCgl+7bt096s4V/HBi9JYFgCY8VY6VKldIcKur1w4Riv7DaxW8akz4nAoOB5lbdunV9W4o7lZu0ODBGuJRxs3R+9913CZ55QXCxUr16dbmSd5qUJa1tqE+xGQMGeyw1MdNSHNHesNatW0u3zVDj0j8gOJ6CIzFYfOrLUvU8rGNxwDqWqUE6cFPl8zU+BJgxEMFvFHDAKkeclkd2cR5W1IgrKCiIr6P4zZ4QUGemC/sFOejbH/rjjz+kqFIXYcKXkh+VZHvZUYSLzRhUpSBOwnIYh6brBGdhSkdcj9fvdRkc4uFu4PHHHzeYiJ6f7/MfgdLOGCBewGq5Zs2aBFcjdlEeevill16SIgglJsv/Xi+5LejRo4e0y8F5Jm5kF0liPwv2RPlAvhkDGqfLBlVjhfYCYeB3I3HgPGFFoSgoL56qPL4mE4HbbrtNylkz7Qkks+a51wqTqPvuu08OJE7GdJBXQ/yCvSEYAfJqOXfMwyxBaBhJJYxs+20wLG3fvr3lqTdX32Nhtsledk6MAYXZNy3hORJ7CeXKlbO/i4T+NwmjIkuMlE9ApTWGIzwjoDbq1APwdgpPn6WB4LQQIlWIHLKRl9V2tjI4PTwETpw4IccueMtV2mrYY8BBVxdccIHji5U2EhKhMQhPw/lAOTMGuGuG2p9OI0eOJBxaoRNmTcKBmqUKCTfEt9xyi56F70sYAthowwar3e01mAJcbWBZnS8/FL9dg+8cA4kXSvqRql7aUJLz4DxwnCNtJ2gg2VVW9TxQaV4h3Kzny8Yz6p4zY0Ah8LuDDWVF0BHXw8KqU/o7UrOmcePGySWWys9XRoARYARKKgIQPUFbK58mQYEwhqKiIiki0jtW6YdDzoaNZWVw5bSa0J/je0aAEWAEGIF4EfgfAAAA//9xMzpPAAALIUlEQVTtnXmMDM0bxx/3/YojIYIE2SDuM+4QVxDiFve67zgSFlkr4j6DiDvEuq1bWOu+iZtFXOv6A3EkRBAR/H7fzludmp7umV4zLzPb3+ePna7q6uqqT8/O0/XU81Rl+vV/kTBIt27d5MqVK2ZNsbGxkpCQILNmzZK1a9ca+dOnT5eePXuaZXhAAiRAAiQQeQQyhUsxnDx5UgYMGGD2ME+ePDJo0CBZvHixkRcfHy/9+/c3z/OABEiABEggMgmETTH8/PlTmjdvLk+fPvXr6YQJE2To0KF++dGYsX37dnn8+HHYmt67d28pWbJk2OpjRSRAAiQQKoGwKQY0ZOfOnQIloMuQIUMkLi5Oz4rq4/bt28vt27fD1ocVK1ZIy5Ytw1Jf6dKlw1IPKyEBEoheAk+ePAm58WFVDN++fZPy5cv7NGrKlCnSr18/n7xoTlAxRPPTY9tJIOMTiDjFsG7dOpkxY4YP+UKFCsm5c+ckR44cPvnhSHz58kUePHgg9+/fl3v37hmfmNsoUqSI1K1bV1q0aCF3796VBQsWyMaNGyV79uwh33br1q3y9u3bkOtRFbRq1UpiYmJUMqRPjhhCwseLSSBDEIgoxbB582bB6MBOZs+eLfBaCpdgPiMpKclQQp8/fzaqhUKoVKmSPHv2TF6/fu1zK9jwT5065ZPHBAmQAAmQgD2BsJiS9LkF2MthTlLeSLht0aJF5ezZs5IlSxb7VqQj9/nz5zJp0iS5dOmScRXmL5o1ayalSpWSzJkzG3mpqakyZswYcyK8Q4cOsnDhwnTchUVJgARIwLsEQlYMBw4ckNGjRxsEYb6BOQlv7E2aNPGhumTJEmnbtq1PXnoTt27dEvzIQ2CiWrlypdSoUcO2mrS0NMNLCicz2jyHbYeZSQIkQAJhIhCSYjhy5IjphlqxYkXZsmWL5M2b12gaYhoQ26AEb/RHjx413+pVvttPTGy3a9dOHj16JDAboS6MRALJsGHDJCUlRbZt2ya1a9cOVJTnSIAESIAE/iXw24oBNnsVsIYffdj8CxYsaIKFqadHjx5mGgd4w8eE8O8ITFNLly41Lp02bZrA/z+YzJs3z7jnzZs35Z9//glW3NV5tAET2uGSsWPHSrly5cJVHeshARIggZAJ/JZiuHjxorm0BUw6+/btk2LFivk1Bm/4d+7cMfMxqkDZTJkymXluDvBDrMxQGCVAKbnxMMLcx/79+yUxMdHNbVyViWR3VVcdYKGoIoC4oOTkZL8242Vs165dki1bNr9zegZMvZMnT9az/I7r1asnq1at8stnhncJpFsxXLt2Tbp06WIQg0ln7969UqZMGVuC+vyDKrBhwwZp2LChSrr6HD9+vPFPgMJwPe3YsaOr6/6LQlQM/wVV1ulEYObMmYbZ9MWLF35F3IycYUrdsWOHXL58WZQHn15RnTp1pHHjxjJ48GA9m8ceJ5AuxXDjxg3p1KmTiQxKoXLlymbaeoA4A4wSdKlVq5ZgWQm38uPHD6latar5pcbcgpMicltnKOVOnDghHz58CKUKn2sx91G8eHGfPCZIwEpg2bJlsmjRIp9svJhduHBB8uXL55Nvl3jz5o1hfsUcHQQjfcT20IxpR4t5rhXD9evXpXPnziYxDD2xNlIwGTlypBw6dMinGL6Q9evX98lzSiCADUFgShDM5saMpMrzkwQyCgG8VL1//96nO/j/GjdunE+eUwLeeYg3gmzatElgQqKQgB2BoIoBb+yw1SN2QAlGCRgtBBMEosHsY11bCAFnGDUgQjmYnD9/3pxoDhSohnbClRXeS1aBpxT6kN65DWs9TJPA3yLw8eNHqVatmu3tMWoI5qGHC0eNGiUHDx40Yn6OHz9uWxczSQAEHBXDy5cvjaAwTDRbI4lxIUYLjRo1MiehkacE1+zevdvw3sEbvpO0bt3aME1ZYx708vo8RdOmTWXNmjX6aZ/jY8eOyenTp823IpyEssCIA0FwFBKIVgJ2Xn6qL127dpU5c+aopOMngk9hSoIbN+btKCTgRMBRMehv6k4XY+IKsQtWUW6i1ny7dLDJZMQgKK+KBg0aBPUw+vr1q1SoUMG4VTgjru3azjwS+FMEsNkVNr2CN1KvXr0Em17pAnNtoPkCfb4PQaiYcKaQgBMBR8XgdMGfztc3AMI/RbAhMBaQUqMD7BZn/Qf60+3n/UggHASUGQijA3gjYZStj+TxQ48ffCfRHUfgoVS4cGGnoswnAWdTUqSwwdBX368AX/D8+fM7Nk83PWHkok+YO17EEyQQ4QQwUQxFoLbH1b/nqumBnDpwburUqcZcBOYkKCQQiEDEjxgwqYy5BeXHjUlwbBnqJHPnzjWDdTDRZt0fwuk65pNApBJ49+6duaTLnj17pEqVKgLHDsTU6AGkMCVBYdgtVqligTCvB9dXCgkEIhDxigGNh/0UbnkQ+G6vX79eatasaaT1P4iQHjFihKlEHj58KFmzZtWL8JgEoo4AHCrUZlf4jufKlcvog74CgeoUYh2gMKwCUxNeriZOnMhgNiscpv0IRIViwNsRzEKrV682O9CnTx8jeA62Unzh4bVx+PBh4zyUBxRERtln2uw0DzxJYPny5UbEP4JFscSLLtbFKuFwgSDMnDlzmsV0V1fGL5hYeBCAQFQoBtV+vCHhjQjLctgJluDu3r274Z6q3qrsyjGPBKKJAPZNR8S/nTOFNQAU/YIX38CBA80u6iML/O8UKFDAPMcDErAjEFWKQXUAI4hXr14ZIwVEQWPl1BIlSvi8Jamy/CSBaCeAnQmxzpGTMwXMQ1gPSQlGzGfOnDEVAGJ/sItioABRdS0/SQAEolIx8NGRgFcI4AVILR+DiWUVo6P3H95K1uUtMGJQ8T9qWRqsdqzvrKjXwWMS0AlQMeg0eEwCEUYA0fxq5VOYjZyW2db3K1FdwPL0GCWoNZbi4+PNPVRUGX6SgB0BKgY7KswjgQghoH7wsU4S9l9wkk+fPhmjBn1pbYwQMGrACgUQ7mToRI/5VgJUDFYiTJNABBGIjY015guwWyLe+AMJPI4SEhJ8isCMpOIWwrmToc9NmMhwBKgYMtwjZYcyCgE4WSCYDaMAp/gEva/fv383FrdUwaD6OTfLyejleextAlQM3n7+7H0EE9CXg1HzBcGai1ie4cOH+xXDBlvz58/3y2cGCdgRoGKwo8I8EogAAvrKwlASdktdWJv569cvY30wrCmmi5ttQPXyPPY2ASoGbz9/9j6CCaj5BcQlpKamum7p1atXBauw6oKNqqpXr65n8ZgEHAlQMTii4QkS+HsErCah5ORkKVu2rOsGYTOelJQUszwW28udO7eZ5gEJBCJAxRCIDs+RwB8kAHNRYmKipKWlGWt/WW+NxfHatGljrDZsPWdNow61J3tMTIyPkrCWZZoErASoGKxEmCaBv0QgKSlJ4uLiAt69b9++xr4KAQv9exKuq3Bhdbv1p5s6WcYbBKgYvPGc2UsPEsCqqjAhYR0xREBTSMAtASoGt6RYjgRIgAQ8QoCKwSMPmt0kARIgAbcEqBjckmI5EiABEvAIASoGjzxodpMESIAE3BKgYnBLiuVIgARIwCMEqBg88qDZTRIgARJwS4CKwS0pliMBEiABjxCgYvDIg2Y3SYAESMAtASoGt6RYjgRIgAQ8QoCKwSMPmt0kARIgAbcEqBjckmI5EiABEvAIASoGjzxodpMESIAE3BKgYnBLiuVIgARIwCMEqBg88qDZTRIgARJwS4CKwS0pliMBEiABjxCgYvDIg2Y3SYAESMAtASoGt6RYjgRIgAQ8QuB/H9eF0jC1eXEAAAAASUVORK5CYII=)"
      ],
      "metadata": {
        "id": "oz7gP-dKBMOW"
      }
    },
    {
      "cell_type": "code",
      "source": [
        "#Calculate the grand mean, considering groups have different number of values\n",
        "\n",
        "#Define variables that stores number of values in a_one data frame and sum of all values\n",
        "sum_c_one = c_one['Fitness'].sum()\n",
        "count_c_one = c_one['Fitness'].count()\n",
        "\n",
        "#Define variables that stores number of values in a_one data frame and sum of all values\n",
        "sum_c_two = c_two['Fitness'].sum()\n",
        "count_c_two = c_two['Fitness'].count()\n",
        "\n",
        "#Define variables that stores number of values in a_one data frame and sum of all values\n",
        "sum_c_three = c_three['Fitness'].sum()\n",
        "count_c_three = c_three['Fitness'].count()\n",
        "\n",
        "#Calculate grand mean\n",
        "grand_mean_c = (sum_c_one + sum_c_two + sum_c_three) / (count_c_one + count_c_two + count_c_three)\n",
        "\n",
        "print(grand_mean_c)"
      ],
      "metadata": {
        "colab": {
          "base_uri": "https://localhost:8080/"
        },
        "outputId": "097e6762-6ffd-4d38-bd69-fef48b31d80b",
        "id": "XPBqxGIVj66Y"
      },
      "execution_count": null,
      "outputs": [
        {
          "output_type": "stream",
          "name": "stdout",
          "text": [
            "2.9\n"
          ]
        }
      ]
    },
    {
      "cell_type": "markdown",
      "source": [
        "The variable naming convention like 'sum_a_one' and 'count_a_one' organizes sums and counts of fitness values within each age group for product 'c' (FE580). This naming scheme simplifies distinction between groups, helping calculate the grand mean."
      ],
      "metadata": {
        "id": "mtT66zzqBskP"
      }
    },
    {
      "cell_type": "markdown",
      "source": [
        "###**Step 2:**  Find the sum of squares for between groups ($SS_{between}$) using each sample mean and the grand mean"
      ],
      "metadata": {
        "id": "g6KOUwkEkM1u"
      }
    },
    {
      "cell_type": "code",
      "source": [
        "ss_betweenC = (c_one['Fitness'].count() * ((c_one_avg - grand_mean_c)**2)) + (c_two['Fitness'].count() * ((c_two_avg - grand_mean_c)**2)) + (c_three['Fitness'].count() * ((c_three_avg - grand_mean_c)**2))\n",
        "\n",
        "print(ss_betweenC)"
      ],
      "metadata": {
        "colab": {
          "base_uri": "https://localhost:8080/"
        },
        "outputId": "a328713d-4f45-432c-e556-869b987df375",
        "id": "EPwo7VGZj66Y"
      },
      "execution_count": null,
      "outputs": [
        {
          "output_type": "stream",
          "name": "stdout",
          "text": [
            "0.013095238095238002\n"
          ]
        }
      ]
    },
    {
      "cell_type": "markdown",
      "source": [
        "### **Step 3**: Find the sum of squares for within groups ($SS_{within}$) using each data point and the sample mean"
      ],
      "metadata": {
        "id": "GpMurvqrkNwT"
      }
    },
    {
      "cell_type": "code",
      "source": [
        "def squared_dev(values_list, mean):\n",
        "  \"\"\" Takes a list of values and a mean. Returns a list of squared deviations\n",
        "  \"\"\"\n",
        "  sq_dev = []\n",
        "  for xi in values_list:\n",
        "    sq_dev.append((xi - mean)**2)\n",
        "\n",
        "  return sq_dev"
      ],
      "metadata": {
        "id": "mUsKXsbaj66Y"
      },
      "execution_count": null,
      "outputs": []
    },
    {
      "cell_type": "code",
      "source": [
        "c_one_sq_dev = squared_dev(c_one['Fitness'], c_one_avg)\n",
        "c_two_sq_dev = squared_dev(c_two['Fitness'], c_two_avg)\n",
        "c_three_sq_dev = squared_dev(c_three['Fitness'], c_three_avg)\n",
        "\n",
        "ss_withinC = sum(c_one_sq_dev) + sum(c_two_sq_dev) + sum(c_three_sq_dev)\n",
        "print(ss_withinC)"
      ],
      "metadata": {
        "colab": {
          "base_uri": "https://localhost:8080/"
        },
        "outputId": "42e4a780-7964-4700-961c-7210ed637940",
        "id": "UPy1Zt_Ej66Y"
      },
      "execution_count": null,
      "outputs": [
        {
          "output_type": "stream",
          "name": "stdout",
          "text": [
            "23.38690476190476\n"
          ]
        }
      ]
    },
    {
      "cell_type": "markdown",
      "source": [
        "A defined function, squared_dev, takes a list of values and a mean, returning a list of squared deviations. It then calculates squared deviations for fitness values within each age group ('one', 'two', 'three') for product 'c' (FE580) using this function. It then sums these squared deviations to compute the within-group sum of squares (ss_within_c)."
      ],
      "metadata": {
        "id": "1XbcWl3dB15W"
      }
    },
    {
      "cell_type": "markdown",
      "source": [
        "### **Step 4**: Find the degrees of freedom for between groups ($df_{between}$) and the degrees of freedom for within groups ($df_{within}$)"
      ],
      "metadata": {
        "id": "ixg552FwkO8D"
      }
    },
    {
      "cell_type": "code",
      "source": [
        "#There are 3 groups, representing the 3 different age groups\n",
        "k = 3\n",
        "df_betweenC = k - 1\n",
        "\n",
        "N_c = c_one['Fitness'].count() + c_two['Fitness'].count() + c_three['Fitness'].count()\n",
        "df_withinC = N_c - k\n",
        "\n",
        "print(f\"df_between: {df_betweenC}\")\n",
        "print(f\"df_within: {df_withinC}\")"
      ],
      "metadata": {
        "colab": {
          "base_uri": "https://localhost:8080/"
        },
        "outputId": "7c27abb8-63ec-48b7-8bd2-f071efdfcd76",
        "id": "TYeIyQyJj66Y"
      },
      "execution_count": null,
      "outputs": [
        {
          "output_type": "stream",
          "name": "stdout",
          "text": [
            "df_between: 2\n",
            "df_within: 57\n"
          ]
        }
      ]
    },
    {
      "cell_type": "markdown",
      "source": [
        "### **Step 5**: Find the mean square for between ($MS_{between}$) and mean square for within ($MS_{within}$)"
      ],
      "metadata": {
        "id": "p54BHLmekPwu"
      }
    },
    {
      "cell_type": "code",
      "source": [
        "ms_betweenC = ss_betweenC / df_betweenC\n",
        "ms_withinC = ss_withinC / df_withinC\n",
        "\n",
        "print(f\"MS_between: {ms_betweenC}\")\n",
        "print(f\"MS_within: {ms_withinC}\")"
      ],
      "metadata": {
        "colab": {
          "base_uri": "https://localhost:8080/"
        },
        "outputId": "51b1fe0f-9ace-4202-9186-98db92fd2bef",
        "id": "el1ZYXi5j66Y"
      },
      "execution_count": null,
      "outputs": [
        {
          "output_type": "stream",
          "name": "stdout",
          "text": [
            "MS_between: 0.006547619047619001\n",
            "MS_within: 0.41029657477025894\n"
          ]
        }
      ]
    },
    {
      "cell_type": "markdown",
      "source": [
        "### **Step 6**: Find the F-statistic"
      ],
      "metadata": {
        "id": "4wb0ES3MkRHN"
      }
    },
    {
      "cell_type": "code",
      "source": [
        "F_c = ms_betweenC / ms_withinC\n",
        "print(f\"F-statistic: {F_c}\")"
      ],
      "metadata": {
        "colab": {
          "base_uri": "https://localhost:8080/"
        },
        "outputId": "ae012687-81d8-4a0c-87eb-7afd8d27e933",
        "id": "U9MY_YfTj66Y"
      },
      "execution_count": null,
      "outputs": [
        {
          "output_type": "stream",
          "name": "stdout",
          "text": [
            "F-statistic: 0.01595825909900727\n"
          ]
        }
      ]
    },
    {
      "cell_type": "markdown",
      "source": [
        "### **Step 7:** Find the F-critical value using the [F-table](https://www.stat.purdue.edu/~lfindsen/stat511/F_alpha_05.pdf) with an $\\alpha$ level of 0.05"
      ],
      "metadata": {
        "id": "-GoHzcGAk97y"
      }
    },
    {
      "cell_type": "code",
      "source": [
        "# numerator degrees of freedom is df_between = 2\n",
        "# denominator degrees of freedom is df_within = 57\n",
        "\n",
        "F_crit_c = 3.15"
      ],
      "metadata": {
        "id": "g5k4KYkvlRLV"
      },
      "execution_count": null,
      "outputs": []
    },
    {
      "cell_type": "markdown",
      "source": [
        "### **Step 8:** Compare F-statistic with F-critical value to reject or retain the null hypothesis"
      ],
      "metadata": {
        "id": "V_ySpgs0lXT4"
      }
    },
    {
      "cell_type": "code",
      "source": [
        "if F_c > F_crit_c:\n",
        "  print('Reject the null')\n",
        "else:\n",
        "  print('Retain the null')"
      ],
      "metadata": {
        "colab": {
          "base_uri": "https://localhost:8080/"
        },
        "id": "tdQpPtfGlaDL",
        "outputId": "4fd5582b-dcc7-49cf-e5e5-97b86fa59a7f"
      },
      "execution_count": null,
      "outputs": [
        {
          "output_type": "stream",
          "name": "stdout",
          "text": [
            "Retain the null\n"
          ]
        }
      ]
    },
    {
      "cell_type": "markdown",
      "source": [
        "Since the F statistic of 0.022 < F critical value of 3.15, we fail to reject the null hypothesis and have sufficient evidence to conclude there is no significant difference between fitness score rating among each age group for the treadmill product FE284."
      ],
      "metadata": {
        "id": "tR6QEcq8B8Ph"
      }
    },
    {
      "cell_type": "markdown",
      "source": [
        "# Conclusion: Part A\n",
        "\n",
        "* Product FE284 F critical value ~ 3.111 > F-statistic ~ 0.28 therefore we fail to reject the null hypothesis\n",
        "* Product FE605 F critical value = 3.252 > F-statistic ~ 0.332 therefore we fail to reject the null hypothesis\n",
        "* Product FE580 F critical value ~ 3.15 > F-statistic ~ 0.015 therefore we fail to reject the null hypothesis\n",
        "\n",
        "These results lead us to fail to reject the null hypothesis and have enough evidence to conclude that there is no significant difference between each age group’s fitness score rating towards their treadmill product. In other words, age is not a lurking variable affecting the self-rated fitness scores.\n",
        "\n",
        "Now that we've established at least one product's fitness score significantly differs from the others, we can delve deeper to identify which specific product(s) stand out. This information can guide marketing strategies or product development on the identified strengths or address weaknesses in the products.\n"
      ],
      "metadata": {
        "id": "kGOv4otI_xu6"
      }
    },
    {
      "cell_type": "markdown",
      "source": [
        "#Methods: Part B\n",
        "\n",
        "Given the absence of age as a lurking variable, we conducted an ANOVA test to compare the overall averages of self-rated fitness scores across all three products. The null hypothesis assumes that there is no significant difference between the average fitness score ratings across the three treadmill products. The alternative hypothesis conveys that at least one product’s fitness score rating is significantly different from others.\n",
        "\n",
        "Ho: 𝜇1 = 𝜇2 = 𝜇3\n",
        "𝜇1 = average fitness score for treadmill product FE284\n",
        "𝜇2 = average fitness score for treadmill product FE605\n",
        "𝜇3 = average fitness score for treadmill product FE580\n",
        "Ha: At least one product’s fitness score rating is significantly different from others.\n",
        "\n",
        "The steps taken to perform this ANOVA test are similar to the steps described above. However, each group now has the self-rated fitness scores associated with the different treadmill product’s. Additionally, no repetition is necessary, as only one ANOVA test is being performed.\n",
        "\n"
      ],
      "metadata": {
        "id": "6u2TYy3mBQWW"
      }
    },
    {
      "cell_type": "markdown",
      "source": [
        "# Results: Part B"
      ],
      "metadata": {
        "id": "dkwvQ7hjB7Rv"
      }
    },
    {
      "cell_type": "markdown",
      "source": [
        "#Conduct an ANOVA test to compare the overall averages of self-rated fitness scores **across all three products**\n",
        "\n",
        "Since all three ANOVA tests retained the null hypothesis, age is not a lurking variable. Now, we can conduct an ANOVA test to compare the overall averages of self-rated fitness scores across all three products.\n",
        "\n",
        "#### **Null hypothesis:**\n",
        "The null hypothesis assumes that there is no significant difference between the average fitness score ratings across the three treadmill products.\n",
        "> $H_o$: $\\mu_1$ = $\\mu_2$ = $\\mu_3$\n",
        "\n",
        "Where:  \n",
        "* $\\mu_1$ = average fitness score for treadmill product FE284\n",
        "* $\\mu_2$ = average fitness score for treadmill product FE605\n",
        "* $\\mu_3$ = average fitness score for treadmill product FE580\n",
        "\n",
        "#### **Alternative hypothesis:**\n",
        "\n",
        "> $H_A$:  At least one product’s fitness score rating is significantly different from others."
      ],
      "metadata": {
        "id": "tILE7lAOloE1"
      }
    },
    {
      "cell_type": "markdown",
      "source": [
        "###**Step 1:** Calculate the mean self-rated fitness scores for each treadmill product and grand mean"
      ],
      "metadata": {
        "id": "7Lo1N9oomVZj"
      }
    },
    {
      "cell_type": "code",
      "source": [
        "# Filter data for different treadmill products\n",
        "a = fitness_df[(fitness_df.Product == 'FE284')]\n",
        "b = fitness_df[(fitness_df.Product == 'FE605')]\n",
        "c = fitness_df[(fitness_df.Product == 'FE580')]\n",
        "\n",
        "#Calculate mean fitness score for each age group\n",
        "a_avg = a['Fitness'].mean()\n",
        "b_avg = b['Fitness'].mean()\n",
        "c_avg = c['Fitness'].mean()"
      ],
      "metadata": {
        "id": "kisdOsfBmTyg"
      },
      "execution_count": null,
      "outputs": []
    },
    {
      "cell_type": "markdown",
      "source": [
        "To simplify and minimize the use of words and time, each variable is represented by a letter:\n",
        "\n",
        "* \"a\" represents data that contains FE284 as the product\n",
        "* \"b\" represents data that contains FE605 as the product\n",
        "* \"c\" represents data that contains FE580 as the product"
      ],
      "metadata": {
        "id": "lXMfkcCGCF7E"
      }
    },
    {
      "cell_type": "code",
      "source": [
        "#Test to see if each data frame has the same number of values\n",
        "same = a['Fitness'].count() == b['Fitness'].count() == c['Fitness'].count()\n",
        "\n",
        "if same:\n",
        "  print('Sample sizes are the same')\n",
        "else:\n",
        "  print('Sample sizes are different')"
      ],
      "metadata": {
        "colab": {
          "base_uri": "https://localhost:8080/"
        },
        "id": "NIdX_WvPm28k",
        "outputId": "ec3e6fcf-c375-46f0-df23-99b1d004cdb1"
      },
      "execution_count": null,
      "outputs": [
        {
          "output_type": "stream",
          "name": "stdout",
          "text": [
            "Sample sizes are different\n"
          ]
        }
      ]
    },
    {
      "cell_type": "markdown",
      "source": [
        "\n",
        "This code compares the counts of 'Fitness' values in three different data frames (a, b, c) representing different products.\n",
        "\n",
        "The variable 'same' stores the result of the comparison, checking if the counts of 'Fitness' values are equal across all three product groups.\n",
        "\n",
        "The comparison allows us to determine which formula to use in order to calculate the grand mean. Since the three groups have different sample sizes, we will calculate the grand mean as demonstrated in the formula:\n",
        "\n",
        "![Screenshot 2023-11-28 at 12.40.27 PM.png](data:image/png;base64,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)"
      ],
      "metadata": {
        "id": "mryUOTvkCwhv"
      }
    },
    {
      "cell_type": "code",
      "source": [
        "#Calculate the grand mean, considering groups have different number of values\n",
        "\n",
        "#Define variables that stores number of values in a_one data frame and sum of all values\n",
        "sum_a = a['Fitness'].sum()\n",
        "count_a = a['Fitness'].count()\n",
        "\n",
        "#Define variables that stores number of values in a_one data frame and sum of all values\n",
        "sum_b = b['Fitness'].sum()\n",
        "count_b = b['Fitness'].count()\n",
        "\n",
        "#Define variables that stores number of values in a_one data frame and sum of all values\n",
        "sum_c = c['Fitness'].sum()\n",
        "count_c = c['Fitness'].count()\n",
        "\n",
        "#Calculate grand mean\n",
        "grand_mean = (sum_a + sum_b + sum_c) / (count_a + count_b + count_c)\n",
        "\n",
        "print(grand_mean)"
      ],
      "metadata": {
        "colab": {
          "base_uri": "https://localhost:8080/"
        },
        "id": "F5PVFWnmm8aH",
        "outputId": "a457cee8-ea41-4c66-c301-c7d5223d20ad"
      },
      "execution_count": null,
      "outputs": [
        {
          "output_type": "stream",
          "name": "stdout",
          "text": [
            "3.311111111111111\n"
          ]
        }
      ]
    },
    {
      "cell_type": "markdown",
      "source": [
        "###**Step 2:**  Find the sum of squares for between groups ($SS_{between}$) using each mean and the grand mean"
      ],
      "metadata": {
        "id": "bo3iEQFFnNTx"
      }
    },
    {
      "cell_type": "code",
      "source": [
        "ss_between = (count_a * ((a_avg - grand_mean)**2)) + (count_b * ((b_avg - grand_mean)**2)) + (count_c * ((c_avg - grand_mean)**2))\n",
        "\n",
        "print(ss_between)"
      ],
      "metadata": {
        "colab": {
          "base_uri": "https://localhost:8080/"
        },
        "id": "55XTcQpgnOK5",
        "outputId": "7516f98c-cb28-44b1-8559-7f9bdfb88393"
      },
      "execution_count": null,
      "outputs": [
        {
          "output_type": "stream",
          "name": "stdout",
          "text": [
            "88.91527777777779\n"
          ]
        }
      ]
    },
    {
      "cell_type": "markdown",
      "source": [
        "### **Step 3**: Find the sum of squares for within groups ($SS_{within}$) using each data point and the sample mean"
      ],
      "metadata": {
        "id": "rS0A1liRr2ok"
      }
    },
    {
      "cell_type": "code",
      "source": [
        "def squared_dev(values_list, mean):\n",
        "  \"\"\" Takes a list of values and a mean. Returns a list of squared deviations\n",
        "  \"\"\"\n",
        "  sq_dev = []\n",
        "  for xi in values_list:\n",
        "    sq_dev.append((xi - mean)**2)\n",
        "\n",
        "  return sq_dev"
      ],
      "metadata": {
        "id": "f4i8ndDfnZKY"
      },
      "execution_count": null,
      "outputs": []
    },
    {
      "cell_type": "code",
      "source": [
        "a_sq_dev = squared_dev(a['Fitness'], a_avg)\n",
        "b_sq_dev = squared_dev(b['Fitness'], b_avg)\n",
        "c_sq_dev = squared_dev(c['Fitness'], c_avg)\n",
        "\n",
        "ss_within = sum(a_sq_dev) + sum(b_sq_dev) + sum(c_sq_dev)\n",
        "print(ss_within)"
      ],
      "metadata": {
        "colab": {
          "base_uri": "https://localhost:8080/"
        },
        "id": "OOhclrm4sTa7",
        "outputId": "1316567a-9bb0-4fa3-f649-14697cb3ed84"
      },
      "execution_count": null,
      "outputs": [
        {
          "output_type": "stream",
          "name": "stdout",
          "text": [
            "75.6625\n"
          ]
        }
      ]
    },
    {
      "cell_type": "markdown",
      "source": [
        "A defined function, squared_dev, takes a list of values and a mean, returning a list of squared deviations. It then calculates squared deviations for fitness values within each product group ('a', 'b', 'c') using this function. It then sums these squared deviations to compute the within-group sum of squares (ss_within_a)."
      ],
      "metadata": {
        "id": "397P-t1oDerH"
      }
    },
    {
      "cell_type": "markdown",
      "source": [
        "### **Step 4**: Find the degrees of freedom for between groups ($df_{between}$) and the degrees of freedom for within groups ($df_{within}$)"
      ],
      "metadata": {
        "id": "5DxnXu9fr26d"
      }
    },
    {
      "cell_type": "code",
      "source": [
        "k = 3\n",
        "df_between = k - 1\n",
        "\n",
        "N = a['Fitness'].count() + b['Fitness'].count() + c['Fitness'].count()\n",
        "df_within = N - k\n",
        "\n",
        "print(f\"df_between: {df_between}\")\n",
        "print(f\"df_within: {df_within}\")"
      ],
      "metadata": {
        "colab": {
          "base_uri": "https://localhost:8080/"
        },
        "id": "xpxmFl49smBL",
        "outputId": "82ea6dec-96c8-44e9-ea53-99c67c41b5f0"
      },
      "execution_count": null,
      "outputs": [
        {
          "output_type": "stream",
          "name": "stdout",
          "text": [
            "df_between: 2\n",
            "df_within: 177\n"
          ]
        }
      ]
    },
    {
      "cell_type": "markdown",
      "source": [
        "### **Step 5**: Find the mean square for between ($MS_{between}$) and mean square for within ($MS_{within}$)"
      ],
      "metadata": {
        "id": "z6hREAb-r3R_"
      }
    },
    {
      "cell_type": "code",
      "source": [
        "ms_between = ss_between / df_between\n",
        "ms_within = ss_within / df_within\n",
        "\n",
        "print(f\"MS_between: {ms_between}\")\n",
        "print(f\"MS_within: {ms_within}\")"
      ],
      "metadata": {
        "colab": {
          "base_uri": "https://localhost:8080/"
        },
        "id": "W55_iybxs7im",
        "outputId": "884576c0-6248-439c-8d99-3d229374b7a7"
      },
      "execution_count": null,
      "outputs": [
        {
          "output_type": "stream",
          "name": "stdout",
          "text": [
            "MS_between: 44.457638888888894\n",
            "MS_within: 0.4274717514124293\n"
          ]
        }
      ]
    },
    {
      "cell_type": "markdown",
      "source": [
        "### **Step 6**: Find the F-statistic"
      ],
      "metadata": {
        "id": "DDXWg_znr4Ny"
      }
    },
    {
      "cell_type": "code",
      "source": [
        "F = ms_between / ms_within\n",
        "print(f\"F-statistic: {F}\")"
      ],
      "metadata": {
        "colab": {
          "base_uri": "https://localhost:8080/"
        },
        "id": "VTMEm1XAtAkO",
        "outputId": "6759eeb2-cf1e-4d15-dbc5-d9ede53e0fe5"
      },
      "execution_count": null,
      "outputs": [
        {
          "output_type": "stream",
          "name": "stdout",
          "text": [
            "F-statistic: 104.00134919323754\n"
          ]
        }
      ]
    },
    {
      "cell_type": "markdown",
      "source": [
        "### **Step 7:** Find the F-critical value using the [F-table](https://www.stat.purdue.edu/~lfindsen/stat511/F_alpha_05.pdf) with an $\\alpha$ level of 0.05"
      ],
      "metadata": {
        "id": "Yi9yHBAir4cb"
      }
    },
    {
      "cell_type": "code",
      "source": [
        "# numerator degrees of freedom is df_between = 2\n",
        "# denominator degrees of freedom is df_within = 177\n",
        "\n",
        "F_crit = 3.046"
      ],
      "metadata": {
        "id": "ZK0uZjQktI7s"
      },
      "execution_count": null,
      "outputs": []
    },
    {
      "cell_type": "markdown",
      "source": [
        "### **Step 8:** Compare F-statistic with F-critical value to reject or retain the null hypothesis"
      ],
      "metadata": {
        "id": "beqvna4Kr4tR"
      }
    },
    {
      "cell_type": "code",
      "source": [
        "if F > F_crit:\n",
        "  print('Reject the null')\n",
        "else:\n",
        "  print('Retain the null')"
      ],
      "metadata": {
        "colab": {
          "base_uri": "https://localhost:8080/"
        },
        "id": "RXhDR7FTtjrq",
        "outputId": "852aee8e-081f-4a34-fd9e-80e19e906b69"
      },
      "execution_count": null,
      "outputs": [
        {
          "output_type": "stream",
          "name": "stdout",
          "text": [
            "Reject the null\n"
          ]
        }
      ]
    },
    {
      "cell_type": "markdown",
      "source": [
        "F critical value ~ 3.046 < F-statistic ~ 104.00. Hence, we reject the null hypothesis, and have sufficient evidence to conclude that there is a significant difference in the average fitness score ratings among at least one of the three treadmill products. In other words, at least one product’s average fitness rating score was higher or lower from the others.\n",
        "\n"
      ],
      "metadata": {
        "id": "izosf1USDzNA"
      }
    },
    {
      "cell_type": "markdown",
      "source": [
        "# Conclusion: Part B\n",
        "\n",
        "From the tests conducted, we can conclude that age does not significantly affect the self-rated fitness scores across FE284, FE580, and FE605 treadmill products across the age brackets. Therefore, when considering self-rated fitness, age doesn't seem to be a deciding factor in choosing one treadmill over another among the treadmills.\n",
        "\n",
        "However, when evaluating the overall self-rated fitness score averages across all three treadmill products, there is sufficient evidence to suggest that at least one of the products - FE284, FE605, or FE580 - has a notably different average fitness score rating compared to the others. To assess which treadmill product(s) may have different perceived fitness ratings, we compared the average fitness scores through data visualization. Demonstrated in our box plot below, FE284’s average fitness rating is ~ 2.97, FE605’s average fitness rating is ~ 4.6, and FE580’s average fitness rating is ~ 2.9.\n",
        "\n"
      ],
      "metadata": {
        "id": "bbIUsRn4B_kW"
      }
    },
    {
      "cell_type": "code",
      "source": [
        "#Bar Chart for average fitness scores across treadmill products\n",
        "product_fitness_means = []\n",
        "products = ['FE284', 'FE580', 'FE605']\n",
        "\n",
        "for product in products:\n",
        "  product_data = fitness_df[fitness_df['Product'] == product]\n",
        "  product_fitness_means.append(product_data['Fitness'].mean())\n",
        "\n",
        "sns.barplot(x=products, y=product_fitness_means)\n",
        "plt.title('Average Fitness Scores Across Treadmill Products')\n",
        "plt.xlabel('Treadmill Products')\n",
        "plt.ylabel('Average Fitness Score')\n",
        "plt.show()"
      ],
      "metadata": {
        "colab": {
          "base_uri": "https://localhost:8080/"
        },
        "id": "zDFxEeLwCG6w",
        "outputId": "b4392003-75ba-42bb-ffd6-9144063836b8"
      },
      "execution_count": null,
      "outputs": [
        {
          "output_type": "display_data",
          "data": {
            "text/plain": [
              "<Figure size 640x480 with 1 Axes>"
            ],
            "image/png": "[encoded data removed]"
          },
          "metadata": {}
        }
      ]
    },
    {
      "cell_type": "markdown",
      "source": [
        "The notable difference in the average average fitness score of Treadmill FE605 suggests that FE605 has a higher average fitness score rating compared to the others. With this insight, we can make conclusions in relation to product performance and decision-making.\n",
        "Product Performance: Treadmill FE605 may offer a better exercise experience or effectiveness, potentially due to its design, features, or user interface. It may also be a preferred option based on the user's perceived fitness outcomes. This insight can guide targeted marketing efforts towards specific preferences that align more with the features or performance of FE605.\n",
        "Decision-Making: Consumers seeking treadmills might lean towards FE605 if perceived fitness effectiveness is a primary concern. On the manufacturing end, understanding that FE605 outperforms FE580 and FE284 in perceived fitness efficacy can guide product development strategies. It might involve emphasizing or further enhancing the features that contribute to the superior fitness experience offered by FE605.\n",
        "\n",
        "**Improvements:**\n",
        "Within specific age brackets for each product, we observed smaller sample sizes. These smaller sizes may not represent the broader demographic, potentially leading to results that are less representative of the population of individuals who purchased the treadmill products.\n",
        "For example, 14 36-50 year olds purchased product FE284, 8 36-50 year olds purchased product FE580, and 6 36-50 year olds purchased product FE605.\n",
        "Additionally, we could have also delved deeper into data discrepancies within demographics. For instance, the customers who purchased Product FE605 consisted of 82.5% men and 17.5% women, while the other products were approximately balanced. Could gender have influenced the significant difference in the average rating score of Treadmill Product FE605?"
      ],
      "metadata": {
        "id": "ZNpIWnONDAe2"
      }
    },
    {
      "cell_type": "markdown",
      "source": [
        "# Introduction\n",
        "\n",
        "Apart from investigating any associations between age and anticipated mileage, we also aim to detect any unique trends or inclinations linked to the three particular treadmill models: FE285, FE580, and FE605. Our objective with this analysis is to contribute to a more thorough understanding of our customer base by offering nuanced insights into the varying expectations of consumers across different treadmill models, in addition to understanding the impact of age on projected miles.\n",
        "\n",
        "This is the question we ask, as we are determined to understand how these factors can play into the way that market research and consumer-based companies operate. By analyzing the data to reveal these correlations and trends, we can use this information to further invest in ways to improve the current products and services. Each product, the E285, FE580, and FE605, will all have its own tests run so that the performance of the specific products can be observed. This in-depth review of the dataset enables us to spot complex trends and inclinations within particular groups of clients that could be hidden when looking at the data more generally.\n",
        "\n"
      ],
      "metadata": {
        "id": "9byRxidlbl9W"
      }
    },
    {
      "cell_type": "markdown",
      "source": [
        "# Data\n",
        "\n",
        "The data we obtained pertains to individuals who bought a treadmill from a Fitness for Everyone retail store within the last three months. The data used for this analysis is sourced from the provided Fitness for Everyone dataset, specifically focusing on the variables: \"Age\", \"Miles\", and \"Product\".\n",
        "\n",
        "The choice of the dataset includes variables \"Age\", \"Miles\", and \"Product\" was driven by the need to understand the reason the customer purchased their treadmill product. The market team sought to gather important information on the traits of consumers in order to inform product development and marketing plans. awareness of client behavior and expectations requires an awareness of variables like \"Age\" and \"Miles.\" In order to make it easier to find the particular product tagged as FE284 in the larger Product Series in the Fitness dataset, an alias or nickname is given. This process ensures a clear and identifiable representation of the individual product within the dataset, enabling streamlined access and manipulation of relevant data associated with this specific fitness product."
      ],
      "metadata": {
        "id": "IMbMEIp2cKEO"
      }
    },
    {
      "cell_type": "markdown",
      "source": [
        "# Methods\n",
        "\n",
        "**Objective Formulation:**\n",
        "\n",
        "The objective of investigating the relationship between the average number of miles customers expect to walk or run and their age across three treadmill products was formulated based on the consideration of customer expectations to understand if age is considered a factor that influences the mileage making it a relevant variable to explore. The analysis also aims to identify if there are variations in customer expectations across different treadmill products (FE285, FE580, FE605).\n",
        "\n",
        "**Methods:**\n",
        "\n",
        "1. Hypothesis:\n",
        "  * Null Hypothesis (𝝆= 0): There is no relationship between the age of consumers and product usage in terms of miles.\n",
        "  * Alternative Hypothesis (𝝆 ≄ 0): There is a relationship between the age of consumers and product usage in terms of miles.\n",
        "\n",
        "  Forming a hypothesis helps in making statistical decisions regarding the relationship between the two variables, in this case, age and mileage.\n",
        "\n",
        "2. Correlation Analysis:\n",
        "    * Calculate the Pearson correlation coefficient (r) to measure the linear relationship between age and mileage for each treadmill product.\n",
        "\n",
        "  The Pearson correlation coefficient is used to measure the strength and direction of a linear relationship between two continuous variables.\n",
        "\n",
        "3. Scatter Plots and Line of Best Fit:\n",
        "    * Create scatter plots using Seaborn's relplot() to visualize the relationship between age and miles for each product.\n",
        "    * Generate a line of best fit using Seaborn's lmplot().\n",
        "\n",
        "  Scatter plots are effective visual tools to observe the distribution of data points and identify patterns while lmplot aids in the interpretation of the relationship between age and mileage.\n",
        "\n",
        "\n",
        "\n",
        "4. Hypothesis Testing:\n",
        "    * Use the pearsonr() function from the stats library to find p-values for correlation coefficients.\n",
        "    * Compare p-values with an alpha level of 0.05 to determine statistical significance.\n",
        "\n",
        "  P-value helps in decision-making by comparing it with the alpha level of 0.05 to determine if the hypothesis is true.\n"
      ],
      "metadata": {
        "id": "WrM1XPXpe05X"
      }
    },
    {
      "cell_type": "markdown",
      "source": [
        "# Investigation of Another $H_o$ and $H_A$ Hypothesis\n",
        "#### **Null hypothesis:**\n",
        "The null hypothesis assumes that there is no relationship between the age of the consumers and the product usage in terms of miles.\n",
        "\n",
        "> 𝐻𝑜 :  $\\rho = 0$\n",
        "\n",
        "Where:\n",
        " * $r$ = the Pearson correlation coeffient between the age of consumers and the product usage in terms of miles  \n",
        " * $\\rho$ (rho) = the true Pearson correlation coeffient for population\n",
        "\n",
        "#### **Alternative hypothesis:**\n",
        "\n",
        "> $H_A$:\n",
        ">        $\\rho < 0$  (Negative directional)  \n",
        "&nbsp;&nbsp;&nbsp;&nbsp;&nbsp;&nbsp;&nbsp;&nbsp;&nbsp;$\\rho > 0$  (Positive directional)  \n",
        "&nbsp;&nbsp;&nbsp;&nbsp;&nbsp;&nbsp;&nbsp;&nbsp;&nbsp;$\\rho \\neq 0$ (Non-directional)\n",
        "\n",
        "\n"
      ],
      "metadata": {
        "id": "XEcjMbtcW3mx"
      }
    },
    {
      "cell_type": "markdown",
      "source": [
        "# Results\n"
      ],
      "metadata": {
        "id": "7IQQU7nKf15A"
      }
    },
    {
      "cell_type": "markdown",
      "source": [
        "# Create a `relplot` from Seaborn for average number of miles the customer expects to walk/run each week and Age in years\n",
        "\n",
        "This helps visualize the data in a scatter plot, showing the basic dataset without manipulation or further processing."
      ],
      "metadata": {
        "id": "LM-HTsOmW3mx"
      }
    },
    {
      "cell_type": "code",
      "source": [
        "# Create initial relplot to grasp scope of data\n",
        "sns.relplot(\n",
        "    data = fitness_df,\n",
        "    x = \"Age\",\n",
        "    y = \"Miles\",\n",
        "    hue = \"Miles\",\n",
        "    palette = \"flare\",\n",
        ").set(title=\"Average Number of Miles Customer Expects to Walk/Run each Week In Relation to Age in Years\");"
      ],
      "metadata": {
        "colab": {
          "base_uri": "https://localhost:8080/",
          "height": 529
        },
        "outputId": "3752f0a8-b52a-4211-bf55-002028d1f492",
        "id": "Qay896dKW3mx"
      },
      "execution_count": null,
      "outputs": [
        {
          "output_type": "display_data",
          "data": {
            "text/plain": [
              "<Figure size 576.5x500 with 1 Axes>"
            ],
            "image/png": "[encoded data removed]"
          },
          "metadata": {}
        }
      ]
    },
    {
      "cell_type": "markdown",
      "source": [
        "###**Step 1:** Extract Each Type of Treadmill Product from the Product Series"
      ],
      "metadata": {
        "id": "_5ZIZBXYW3mx"
      }
    },
    {
      "cell_type": "code",
      "source": [
        "# Seperate Each Treadmill Type within the Product Series\n",
        "\n",
        "productA = fitness_df[(fitness_df['Product'] == 'FE284')]\n",
        "productB = fitness_df[(fitness_df['Product'] == 'FE580')]\n",
        "productC = fitness_df[(fitness_df['Product'] == 'FE605')]\n"
      ],
      "metadata": {
        "id": "AflzDD79W3mx"
      },
      "execution_count": null,
      "outputs": []
    },
    {
      "cell_type": "markdown",
      "source": [
        "###**Step 2:** Calculate the Pearson Correlation Coeffient (r) using **Pandas** of Each Type of Treadmill Product as a Measure of the Correlation Between Age and Mileage\n",
        "\n",
        "The Pearson correlation coefficient, represented by the symbol $r$, is used to measure the linear relationship between two variables in a dataset. It is calculated using Pandas, and can only be used for quantitative data. It helps gauge the strength and direction of a linear relationship between two continuous data sets, providing a numerical value between -1 and 1. We are going to calculate the Pearson Correlation Coefficient through Pandas, however, the formula is as seen below:\n",
        "\n",
        "![image.png](data:image/png;base64,iVBORw0KGgoAAAANSUhEUgAAAfAAAACvCAYAAAACA4xwAAAMbmlDQ1BJQ0MgUHJvZmlsZQAASImVVwdYU8kWnluSkJDQAghICb0JIjWAlBBa6B3BRkgCCSXGhKBiL4sKrgURUazoKohiWwGxY1cWxd4XCyrKuqiLDZU3IQFd95Xvne+be/+cOfOfcmdy7wFA8wNXIslDtQDIFxdIE8KCGGPS0hmkZwABKNAHekCby5NJWHFxUQDK4P3v8u4GtIZy1UnB9c/5/yo6fIGMBwAyDuJMvoyXD/FxAPB1PIm0AACiQm85pUCiwHMg1pXCACEuV+BsJa5R4EwlPjxgk5TAhvgyAGpULleaDYDGPahnFPKyIY/GZ4hdxHyRGADNERD784RcPsSK2Efk509S4EqI7aC9BGIYD2BmfseZ/Tf+zCF+Ljd7CCvzGhC1YJFMksed9n+W5n9Lfp580IcNHFShNDxBkT+s4a3cSZEKTIW4W5wZE6uoNcQfRHxl3QFAKUJ5eLLSHjXmydiwfvCZA9SFzw2OhNgY4lBxXkyUSp+ZJQrlQAx3CzpVVMBJgtgA4kUCWUiiymaTdFKCyhfakCVls1T6c1zpgF+Frwfy3GSWiv+NUMBR8WMaRcKkVIgpEFsVilJiINaA2FmWmxipshldJGTHDNpI5QmK+K0gThCIw4KU/FhhljQ0QWVfki8bzBfbJBRxYlR4X4EwKVxZH+wUjzsQP8wFuywQs5IHeQSyMVGDufAFwSHK3LHnAnFyoorng6QgKEG5FqdI8uJU9riFIC9MobeA2F1WmKhai6cUwM2p5MezJAVxSco48aIcbkScMh58OYgCbBAMGEAORyaYBHKAqK27sRv+Us6EAi6QgmwgAE4qzeCK1IEZMbwmgiLwB0QCIBtaFzQwKwCFUP9lSKu8OoGsgdnCgRW54CnE+SAS5MHf8oFV4iFvKeAJ1Ij+4Z0LBw/GmweHYv7f6we13zQsqIlSaeSDHhmag5bEEGIwMZwYSrTHjXB/3BePgtdAOFxxJu49mMc3e8JTQjvhEeE6oYNwe6JonvSHKKNBB+QPVdUi8/ta4DaQ0wMPwv0gO2TG9XEj4IS7Qz8sPAB69oBatipuRVUYP3D/LYPvnobKjuxCRsnDyIFkux9XajhoeAyxKGr9fX2UsWYO1Zs9NPOjf/Z31efDe+SPltgibD92FjuBnccOY42AgR3DmrBW7IgCD+2uJwO7a9BbwkA8uZBH9A9/XJVPRSVlLnUuXS6flXMFgqkFioPHniSZJhVlCwsYLPh2EDA4Yp7zCIari6sbAIp3jfLv6238wDsE0W/9ppv/OwB+x/r7+w9900UcA2CvFzz+B7/p7JgAaKsDcO4gTy4tVOpwxYUA/yU04UkzBKbAEtjBfFyBJ/AFgSAERIBYkATSwARYZSHc51IwBcwAc0ExKAXLwSqwFmwEW0AN2AX2gUZwGJwAZ8BFcBlcB3fh7ukEL0EPeAf6EAQhITSEjhgiZog14oi4IkzEHwlBopAEJA3JQLIRMSJHZiDzkVKkDFmLbEZqkb3IQeQEch5pR24jD5Eu5A3yCcVQKqqLmqA26EiUibLQSDQJHY9mo5PRInQBuhStRKvRnWgDegK9iF5HO9CXaC8GMHVMHzPHnDAmxsZisXQsC5Nis7ASrAKrxuqxZvicr2IdWDf2ESfidJyBO8EdHI4n4zx8Mj4LX4KvxWvwBvwUfhV/iPfgXwk0gjHBkeBD4BDGELIJUwjFhArCNsIBwml4ljoJ74hEoj7RlugFz2IaMYc4nbiEuJ64m3ic2E58TOwlkUiGJEeSHymWxCUVkIpJa0g7ScdIV0idpA9q6mpmaq5qoWrpamK1eWoVajvUjqpdUXum1kfWIluTfcixZD55GnkZeSu5mXyJ3Enuo2hTbCl+lCRKDmUupZJSTzlNuUd5q66ubqHurR6vLlKfo16pvkf9nPpD9Y9UHaoDlU0dR5VTl1K3U49Tb1Pf0mg0G1ogLZ1WQFtKq6WdpD2gfdCgazhrcDT4GrM1qjQaNK5ovNIka1prsjQnaBZpVmju17yk2a1F1rLRYmtxtWZpVWkd1Lqp1atN1x6lHaudr71Ee4f2ee3nOiQdG50QHb7OAp0tOid1HtMxuiWdTefR59O30k/TO3WJura6HN0c3VLdXbptuj16Onrueil6U/Wq9I7odehj+jb6HP08/WX6+/Rv6H8aZjKMNUwwbPGw+mFXhr03GG4QaCAwKDHYbXDd4JMhwzDEMNdwhWGj4X0j3MjBKN5oitEGo9NG3cN1h/sO5w0vGb5v+B1j1NjBOMF4uvEW41bjXhNTkzATickak5Mm3ab6poGmOablpkdNu8zoZv5mIrNys2NmLxh6DBYjj1HJOMXoMTc2DzeXm282bzPvs7C1SLaYZ7Hb4r4lxZJpmWVZbtli2WNlZhVtNcOqzuqONdmaaS20Xm191vq9ja1Nqs1Cm0ab57YGthzbIts623t2NLsAu8l21XbX7In2TPtc+/X2lx1QBw8HoUOVwyVH1NHTUeS43rF9BGGE9wjxiOoRN52oTiynQqc6p4fO+s5RzvOcG51fjbQamT5yxcizI7+6eLjkuWx1uTtKZ1TEqHmjmke9cXVw5blWuV5zo7mFus12a3J77e7oLnDf4H7Lg+4R7bHQo8Xji6eXp9Sz3rPLy8orw2ud102mLjOOuYR5zpvgHeQ92/uw90cfT58Cn30+f/o6+eb67vB9Ptp2tGD01tGP/Sz8uH6b/Tr8Gf4Z/pv8OwLMA7gB1QGPAi0D+YHbAp+x7Fk5rJ2sV0EuQdKgA0Hv2T7smezjwVhwWHBJcFuITkhyyNqQB6EWodmhdaE9YR5h08OOhxPCI8NXhN/kmHB4nFpOT4RXxMyIU5HUyMTItZGPohyipFHN0Wh0RPTK6Hsx1jHimMZYEMuJXRl7P842bnLcoXhifFx8VfzThFEJMxLOJtITJybuSHyXFJS0LOlusl2yPLklRTNlXEptyvvU4NSy1I4xI8fMHHMxzShNlNaUTkpPSd+W3js2ZOyqsZ3jPMYVj7sx3nb81PHnJxhNyJtwZKLmRO7E/RmEjNSMHRmfubHcam5vJidzXWYPj81bzXvJD+SX87sEfoIywbMsv6yyrOfZftkrs7uEAcIKYbeILVorep0TnrMx531ubO723P681Lzd+Wr5GfkHxTriXPGpSaaTpk5qlzhKiiUdk30mr5rcI42UbpMhsvGypgJd+FHfKreT/yR/WOhfWFX4YUrKlP1TtaeKp7ZOc5i2eNqzotCiX6bj03nTW2aYz5g74+FM1szNs5BZmbNaZlvOXjC7c07YnJq5lLm5c3+b5zKvbN5f81PnNy8wWTBnweOfwn6qK9YolhbfXOi7cOMifJFoUdtit8VrFn8t4ZdcKHUprSj9vIS35MLPo36u/Ll/adbStmWeyzYsJy4XL7+xImBFTZl2WVHZ45XRKxvKGeUl5X+tmrjqfIV7xcbVlNXy1R2VUZVNa6zWLF/zea1w7fWqoKrd64zXLV73fj1//ZUNgRvqN5psLN34aZNo063NYZsbqm2qK7YQtxRuebo1ZevZX5i/1G4z2la67ct28faOmoSaU7VetbU7jHcsq0Pr5HVdO8ftvLwreFdTvVP95t36u0v3gD3yPS/2Zuy9sS9yX8t+5v76X61/XXeAfqCkAWmY1tDTKGzsaEpraj8YcbCl2bf5wCHnQ9sPmx+uOqJ3ZNlRytEFR/uPFR3rPS453n0i+8Tjloktd0+OOXntVPypttORp8+dCT1z8izr7LFzfucOn/c5f/AC80LjRc+LDa0erQd+8/jtQJtnW8Mlr0tNl70vN7ePbj96JeDKiavBV89c41y7eD3mevuN5Bu3bo672XGLf+v57bzbr+8U3um7O+ce4V7Jfa37FQ+MH1T/bv/77g7PjiMPgx+2Pkp8dPcx7/HLJ7InnzsXPKU9rXhm9qz2uevzw12hXZdfjH3R+VLysq+7+A/tP9a9snv165+Bf7b2jOnpfC193f9myVvDt9v/cv+rpTeu98G7/Hd970s+GH6o+cj8ePZT6qdnfVM+kz5XfrH/0vw18uu9/vz+fglXyh34FMDgQLOyAHizHQBaGgB02LdRxip7wQFBlP3rAAL/CSv7xQHxBKAefr/Hd8Ovm5sA7NkK2y/Irwl71TgaAEneAHVzGxoqkWW5uSq5qLBPITzo738LezbSSgC+LO/v76vu7/+yBQYLe8fjYmUPqhAi7Bk2hXzJzM8E/0aU/el3Of54B4oI3MGP938B1DKQphJ3mfMAAAA4ZVhJZk1NACoAAAAIAAGHaQAEAAAAAQAAABoAAAAAAAKgAgAEAAAAAQAAAfCgAwAEAAAAAQAAAK8AAAAAozHmCgAAKMVJREFUeAHtXbuyK7l1laZuPvQXDC1/wLBKHzCtKudmYqWiE6WmIikzlWkiHYVS4lYqBWYuVbknl6voD5CK/gGJ8wXyXnO5a/bF7QfQDaCB5tpVOEDjsR9r49FAN/t85zskIkAEiAARIAJEgAgQASJABIgAESACRIAIEAEiQASIABEgAkSACBABIkAEiAARIAJEgAgQASJABIgAESACRIAIEAEiQASIABEgAkSACBABIkAEiAARIAJEgAgQASJABIgAESACRIAIEAEiQASIABEgAkSACBABIkAEiMCrIfDdVzOY9noj0ErNvXftdBUfwvomoZVwl0AiAkSACBABIkAERhA4SNnfCwvNiL4sIgJEgAgQASJABJ4InCUuaRHv6BkiQASIABF4jwCP0NkTphC4SoV/Gan0tZS9jZTbIuzqd8+ML2xBQPofpO4joD6rEgEiQASIABF4SQSw4GLBHNuJX2Yis5d2RwmthCkZKh/1SUSACBABIkAEiIAHAo3U0QV0KEadJbSTxmcJUwv5ZYkQtiUCRIAIEAEi8GoIXMTgocUb+XcJWISXEnjcJAzJapcKMO1/Kul/NddM5kcAPkDIQfR3DpSHZeT09bAWLCECL4pAJ3YPLazIv0bCZWwRhw4xCJMJdP51DGbkMRuB30lL+CH1Ik5/z3ZRtIa5fB1NYTIiAltCYC/GPCSMLeLnSAZjEb/3yELeUsKuGzb8aSkjto+CAPwAf6Q6DaG/o7gpCpPUvo6iJJkQga0icBTDxhZwlB0iGd8MyFrC/nvS+K9PvkiT1kcAfkC/gV9i+4T+Xt+/VoOUvrZymCYCRGAAgTfJH1vE71KOHXQM6oSJK2sJb90BpD6yjWH7K/HQI+7YpyL0d3m9KJWvy7OUGhGBQhG4iV7uwmqv20h6H3rkNDN568Tx55nt2SwtAvAL+lCsmyv6O62/lnCP7eslurAtEXg5BPZi8UOCXbTd9EnKY1AnTCzvZgZTfABGj85/PKM9m6RHAH6Bn+En+GsJ0d9L0EvfNqav02tLCURggwicxCa7sLppLPDYQS+lkzCwvC8zGOJtc/Dg7nsGeBmb6M7sFwtl0t8LAczQPJavM6hKEURgmwi0YpZdXN30Tcp3EUzHzYDyvgTy0xdn0D7W8WygCqzuiYAee8NXc3fh9Lcn2CtXi+HrlU2geCJQNwJYnLFI6+LaF7cRTLwIj+4Z3iQOITtRYHInjSPQSXGfH2PkjUt+/xa6ypl7s0V/T6H8vryRSLGOHV/eixj9yxutUXhYSATyIHAQMVMTwDGPKr1S9Nl37Dece4VtILMTG6b8ObfcBx59cxx+m0P0tx9qjVSb68epdhc/Fb75FgN4zfW1p5htVnu3TbNoVWYEsAP/iYRfjshtpQwL/V1CTsJHPPQo9o85BVcs6yy671bU//ci+/sS4Df4D9e+RH/7IvX+5OwH/tWDat49ay/xtacIViMCRMAHgatUGrszv/kwiVxHP98IvTC5k8pHAIu39iP4L4To7xC01q+7xNfra08NiMCGEMCu7S5BJ9+++C2jvdjBWR10J55RBYqagcBcv81tN0NFNomEAH0WCUiyIQIxEDgIE7to9qWPMQR58MCOW+Xz+bcHYAVV0efg8J/vyQn9XZADA1SZ4+sA9tut+sl2TaNlKyFwE7k/n5DdSvluok6MYhzPKf1FE4yrQMD6y/pxTHlbz7Yfa8Oy9RGwvrI+XF+zwjXgAl64gypV7yJ6fzWi+6dSdh0pj1X0z4aRnSRMNpOFImD9Zf04pq6tZ9uPtWHZ+ghYX1kfrq9Z4RpwAS/cQRWrh2Pyr0f0/0LKLiPlS4vwbM3ezf9tKcNne/DE74z/8AxjXwzDkS5eqkLdub9plqZFUG67rb8gG/4co9j+xm+U4T/19ZT/8GlQ+Bn+tv1OLquhtWwO9XU1gFJRIlAzAo0or8+gh2LUSUG4k7cyfZ+jDumChRqffrTP65R/365BP+WpdRBjgqyN1rLbPs8Gdn0YWyxj+BsLLxZh6zNN43fKYzcRWg9xTb9pLsHmUF8LxCQiQARyIHARIXZyc9MPKU/xPBw7JitragGQ6qNk22PSs7yxWFvCoodJ3C72UwuAbV9Sei273QV5agecwt/Wf/A3dtlDpN/11n5R4y4cmK9hc6ivh3zAfCJABBIgcBOeOrH1xV0CmVhErazYu1870WHyVsIkj8VaJ3DIxeJiF0K5rJZy2e3eJMGfY5TC3/AdfKn9aOw36dDXLuLq/zGdSyxbw+ZQX5eIG3UiAptFYC+WYaetE2FffI5svf2gB+TFXsDdHR+OV3Xyq3Xy9nFBLruBpe0nY4sn9E7lb/dRyNgxOvTQGxyka6XcNof6ulZco+v9SXSOZEgEPkbgLlmnj7M/yPmlXB0+yFl24U609kWZZZzft3Y/y4pFGxPflxL+532VTf5dy27Xny64bnksf//GETT1LgV8H/LpV4d9EZdr2+z6sghQqAQReHUE3gQAu6ty03cp30UCyR5nQk4KsvpDHl6AegXKZbcrZwzblP62vKdOArADH3tWPmZDSWW5bQ7xdUk4rarLu1WlU/irIXARgxsJn0voo88ks5Vw7CssMA+7UX22jWPAH0bS8RKJj2UTk2cqu62+JaWxo8ajA5D6+/3Vh3/RBxBCduCXD1lEuYrBM6XNUYwkEyJABPIjgGPyhwR7x+2mzxHUsi8fgX8Kss+DsWOJRS4eMa5j6QY+qex2dbR2w59jlNLfWLStLkOLOF6kc3+RMKYzyizfWOkpmT7lKW3uk29tn/J1X3vmEQEikAmBk8ixA9ZNdxH0cHlGYPkRC3eSi/XsztU9xvVHyi/ISGW3q5Jrt1tur0Pq2na+actfd+O2LXyPhQc78BCyfGOlQ+SP1bX6xLS5T6aVhTTJA4F3HnVYhQjERqAVho2EH0lw6WvJqOUI3dUdL7K5L3m5dXyuxz5D69M+d51YdufWO0QejpT1BTbcwOBlRUt47o069rOgtnwoXbKvU9k8hAXziQARqASBneh5l2DvvHG0fpAQg+xLOKnu6PUnQ2pD3y4lhi2l8chlt+KKeOoRRWp/28cGbn+au/suza+uPjltDvG1q+fLXn/yspbT8LURwC77M0eJRq5vTl6pl7pYY5eihJ3Z1ulV7XZPVuxv/fHse87uu/S+8oo2l+4T6kcEVkcAi7e940b6FFkr95vWsZ5PQ00s1HjeiUkcR6fWFrncLOW0G8+SLa5TP9FL6W91qNVHj9OhJ/pCzP6l8kqIc9gc6usScKEOROAlEcAR+UOCnRjOCZBI9WUuTNQ4rtXf+rqTz1Z34bntdnGd+v11Kn/brmlvEvQkAnmatnW3ks5hc6ivt4LtYjs+WcyBDIiAPwJYvDsJn5omv5X0m7mOlQx9mchXLn4mhKNF/VoV5FhZ9mgVPLFTm/qON+qVTrntdne0FuM+rKbK+9qE5tkjZfgZvsXi477QFsq35Po5bA71dcl4UTcisEkEdmLVTYLdebcJLcWuyMqKsTMGT7zA5RIWN5VlyzHJY7fuTlBu+9Kv17Ab/lJMEU/tclP42/WL1Ql+hm9j9CtXTknXOWy2Mnx8XRI+1IUIbB6BvsUbiznyU5E7KegzSx95WHD1TWscIYIXFoih3/m6z8FxjZ0ZeITIleqrUkl2Aze7gMMHY7TE32N8bRnwsTpNHevbtrWmc9gc6utasaTeRKBKBFrR2k58qRdvgOROPFM7OLRRchcD1d09Htf6riytHyJTea0Zl2S3u6MGxmPk+iAV9riJg3+3/OKai3Nqm0N97erHayJABBIh0ApfXdAQPyQcJOQg3UVDbshzaCwGOmnpZD21kwZ/a2eqBSQlbiXZbfGEH31orr99eGsdfalrqj9o/S3EqW2e4+st4EobiEDRCJxEO7uo5Vy8AYydGEKPO3EEjkUYAWkfwtF5SH0fnrnrlGK3fascfvShJf724Y86eO4d+r1zX96l1ktt8xxfl4oV9SICm0DgJFbYxRtp5OUk+2zNdxeXUz/KGkbA7qZ9d7up/Y0btC28lDiM+sclOWye4+uPNWUOESACURDAEfnaizcMcZ+L4ppUPgJz/Ta3nQ8i4I3HKkPvQfjwqK1ODptT+qw2vKkvEVgdASzeOCq3C/jbilrZ47lXmnxXhHyxaPhJ+0/oo49U/sYuscb3GpY4I4fNS3y9xDa2JQJEwEFgJ9d3CTr5Im4lrEk4AlR9Xm0CXhP3JbLhJ/WZ7/G5ykvhbzzzfrXn3rlsXuJr9TljIkAEFiKAxfsmQSdexLiOTQdh2DzDXuIp0mNA6IMdBal8BPStZxxZh9Jcf+vLe+7vzbGQbbXflGDzEl+H9g3WJwJEYACBq+S7i/duoO7cbPB7GDlnT0b27WRMWqRyEbDPROeemIT62y766MNoj4Ucx/FYvFG+NSrB5hi+3ppfaA8RyI5AKxLt4o1FFottbLoIQyun8RSARVvbzV0UPEWx2kIE7JHq3IUz1N/2Oaz2E8RYwOfqsBCG5M1LsDmGr5MDRQFEYMsIXMQ4O+lh8T4kMBg3BOBtZYWIwVEo2uJnQKRyEYB/4CfsgpdQqL+1PmTj6P4VbvTWtjmWr5f0E7YlAi+LwEkstwsq0o2EFHQRplZWFygEuzL9uhpedCKVh4C+gAY/Ld35zvE3dqXuM/DyUIqr0Vo2x/R1XETIjQi8AAKN2GgXVKRPElIQdvSurMsMQXpkx134DPAyNNEdWazdL/2dwWkzRcT29Uw12IwIvB4CWFDd4+xzIhh2PbKwmDcz5eGlJLSPtUjMVIPNHAR0sY39xjf97QBdwGUqXxdgGlUgAmUj0LegtolUPgjfmwR3941r6DGH7NEq0qT1EVCf4Og8tk+UN/pMbN7rI1efBuqPFL6uDw1qTAQyIoBF011Qr4nkn4XvQ0Lf4g0dlpB+Mzv2bm+JTq/cVnfJoR9t8cWM/vZFKn291L5ObwElEIFKEehEb7ugYiHdRbSlEV5vEu4SrBw3jTpLSY/x8CYuaT0E9E3o1I806O/1fKySc/la5W0+frd5C2lgLARaYfSFw6yT67OTF3rZSAPcBHwe0LALqDtU9ctnwV+GKjA/CwLA/2cS1B+phCp/+jsVwtN8c/l6WpMXrYGfHOD1f9zN4hN47s9x8HwDd1koW/o7TmFBKgQB7HjdXfCa11jwSUSACBABIjCBAJ4f6fdq3UnbPrPCYq6/s9V6qY/FJlRncQQETsJD/VlC3EawiSyIABEgAi+BgH5QAbG7kGuZviTiTvCoT6oXgaOo7vp0zeuH6LOvF05qTgSIABFYDwF9EQSTuL7Bi2N17LxRhq8Y2QmeO3ABpFI6iN5YMK0/106fKsWSahMBIkAEVkdA3yLERI5n3NiBYyG3C7Ueuds8qUKqCIG96FrS4g1djhXhR1WJABEgAskR+G6gBHz+Tj+G8ENJY/eNa6RjEHjF/swl3nz8pxjKvRCPN7H1UIC9d9Ghk3CV8JBAIgJEgAgQgRkIYHG1R6h6dK7PwWew/KiJK8PKm5uOfUPwkdLMIAJEgAgQASKQG4FPAgTa/9LzR2mHI3T8tvJvATxYlQgQASJABIgAEciMgH3+jbfLubPN7ACKIwJEgAgQASKgCIR8ic3+5hvH5/h60hZpJ0aV8Px3i9jSJiJABIgAEZhG4CZVJt/78V3AsWDbZ904Nv/NtA5V1sDi/d9Vak6liQARIAJEYAsI/ECM6KYM8X0Gbp9/g2eqxZsvsU15jOVEgAgQASJABAIQGPoCWwALr6pcwL1gYiUiQASIABF4dQR8duA4Orc7cOy++eb5q/cc2k8EiAARIAKrIuDzDNwu3lAWPyFLRfjoSujHZVLpsgZfPH/frSGYMokAESACRGA1BPDC2i1UeugCjp3370OFsL43Aq3U/Ny7NisSASJABIjAFhD4SoxoQg3xOUK3O3Au3qEIh9Xn4h2GF2sTASJABIjAAAL4+Zj9hKn9LfhAE2bPRGAv7RTr00webEYEiAARIAIvgsDUDtzuvgEJd+DpOsbesL6bNJNEgAgQASJABD5CYGoBxw5ciYu3IpEmxgtsSsEvM2hDxkSACBABIkAEiEBeBN5EHI7QH3nFUhoRIAJEgAjUiMDUDrxGm2rVWXfg3H3X6kHqTQSIABHIiAAX8IxgT4jaP8vvE/VYTASIABEgAkTgO1zAy+kEnz1VuZejEjUhAkSACBCBUhHgAl6GZxqjBo/QDRhMEgEiQASIQD8CXMD7ccmduzMC7ybNJBEgAkSACBCBXgS4gPfCkj1TX2CDYO7As8NPgUSACBCB+hDgAl6Gz/ZPNf6vDHWoBRGYhQA+/PQ7CfpFwb9K+qezOLEREagLAfb9uvwVVdtOuGHSQ2wJR+sPCTohrhV3ogPCRcJeAokIuAhgoR7qn3+SMvxb4jn0Jo2G+ObKv4sOnYRWwkkCiQhYBFL1fSuD6YIR0IkIk5VLR8nQ8hJi3FAcXCV5/dIIYPeBvml329+T6z88890yyfamndS8SSih76sOb97as+LWEUjZ97eO3SbswwSlE8N5wCJMGFqnhLgd0JPZr4kAjs2H/tGRLuI4Tp9LB2lYQr+3OmDckohA6r4/ivC70VIW5kAAk5PSTRNOfJbrRsLYvxv9WsrfJPgS5O4k7CV8JiGEjiGVWXfTCOBo/G8Shv5Xwm+kDLuUuUfo0vSbHfhPJP4lLkbot1J2Hym3Rej7OgbGxpVtY9ONXFxtBtMvh0COvv9yoNZm8EkU1jv7/YjyKHtI0Lp98UnK5xAms6OEVsKUDJV7kLokIjCFgB4xLtmBq4yrJLT/9cWdVpwRoz+fJdwk9PF28y5Sj0QExhCI2ffH5LBsRQQuIlsnhyk1TqautrHxQ8oxES2hnTQ+SwAvy9tNH5cIYduXQUAnsV9HsBh98y7B7Yv2+iLlS6kRBp0Ey9dNo5xEBMYQiNn3x+SwbEUEOpGNyQGxD7VSyZ1M7PVNyjHRLaW9MAAvy9umL1IWi/Dy09Az1FgyyGccAfjAvoQ2Xtu/FDzRb/BSWwxqhInth31p1IlBb8Kkjz/y7jEEGB4cAwaMzMla+n5mWCjOBwFdJK8+laXOToK2GZpc3jx5TVUbkxVLhk7wMXZoU/awfBgB/f02/BGL8IwwxW/BL8J3qO8j/yEBfTcGXYTJkKwY/MGDYyAWkvP41NT351nIVskQ0MnhEiDhIHUxSWnbvvgYwG+s6l4K+2R1Y408y7Drhu74nTBpfQTgB/gj1mnIL4QXQgrqhGlfv9c8lMeiqzBSvjbeRRDAMRABxAgsaur7EcwlixgI7IWJTginQIZn01Z52BiL7j6Q51D1PlndUGXPfBypYncGnWMdr3qKZrUBBOAH+AN+WeqTHwuPlKcqWDzRx22fd9PotzFoSFazkDnHwEIAIzavqe9HNJusliDQSGOddJAOpas00PZ98S2U4Uh98HJljFSfLNI73phHtpNCWWESAT3OXXIqgpd3cCyZmhoR4PZJ9/oQSYlzjyzIX0IcA0vQi9+2pr4f33pyDEbgIi10wgluLA12Eu4SlEdf/CblMegoTFz+c/nqQPnzXAZslxQB+AW+nnNzhcUbH2/JRejfbr+013cpxziJQXdhYnlfFjDlGFgAXsKmNfX9hDCQtQ8COvk8fCoP1DlIvp1U+tLNQNvQ7Ls0sPybUAZSX19sAh8cs5LKQwB+gX9wlA5/+dL3peLYM28cUy49mu/T5SaZtl+66Wtfoxl5F0cOrucQx8Ac1PK0qa3v50GFUnoR6CQXkw3iJXSWxu6kZa8fUr5bIuDZ1pXTzOCJ56LQjbvvGeBlbKI7kbEF2aoztXhj0Uq1M98Lb/Rx2+fdNPruUsIYsny7mQw5BmYCl6lZTX0/EyQU04fAXTIxIbQSllInDOzk4qZRvpT2wsDyDZ0U9UUR8JhzPLtUf7b3R0CPeOGrqV24frDC9o2+tO/NgL+W39Y8SrJPpuY9pPzwbfXZqauR083gwjEwA7TMTWrr+5nhoThFQCeXi2YsiHfSFpOU8uyLLwv4a9NWEt0znCQOITswUhylhuhSQ90+H8bI6zyM911obL0p3VL7vBW7xnS4STnGyRI6SuPuGa4zGHEM+IE25sclZfDdFNk+DX8Nka03pVPqvj+kI/MTIdAIX3U60jGoESbKcyhGnbVIfza25A3ntXRfQ+6QD5fmd57G6FvS8FsNhMX5JmEMn3ZlQzgG/Bww5sMlZZ2f+G++TQE5Rff9d57GsFp8BDDZKD00sTDupP3PJfzHCJ+rlO0lxJI5IuqDInywQo9i//hBCS+GEPjBUMHCfF/f4z+M4dk2/Ab/Df3HMSkqgmDXSUIn4VMJffQjyewktBJyE8eAP+Ls+/5YseYKCFxEpt5JxhZ/M7xVho2vsQV68NPPFUIPTGSk8hHA4q39JsfvumMhcjJ6q/42xkJ/iCUsgA/HQABYK1ette+vDNvriG/FVEwqdwmxaS8MMUnZSctNn2MLHeGHHZyVrzvxkSYsKgCBmv12dfqc7X9I3zLjWzOWmaEqQhz9VYQbylWiE9UwkSBOQUdh6k5a7vUhheAenthxq2w+/+4BqOAsfQ4O/9V0crITfe8StN/1xW9Snos4BnIhHU9O8X3/k3i2klMgAl8863eB7XyrX6XiryYqow4mutSE4yilv2iCcRUIWH9ZP5au/EMUPE4o+e8edSZYeBdb7Cym3gxYMTsC1k/Wf9kVGRLIBXwImbT5dtHERJOKzsL4f0eYfyZl7Uh5rCL8TljJDgrNY1wuAtZf1o/lavytZjdJ/uTby95UK7n73pK4mRY7i2lcKeQWEwHrJ+u/mDLIq0IEGtFZj/SQTkkHYY6bBJXXF58SKuA+Sxr7XWWIGrgjBi983Qth7CMhOL7EC0SoF0u+sFqFctsNvGyfgT9ro6sobG1w01joU1LMMYDfE6M/a9+f6s8/lrro9+j/Re4iRa8pWsvmLfT9KWxZPgOBs7TRSWQ/o31ok5M0UHl9MRb4QyhTz/q4c7Uylz5HxUKNTx3a51PKv+8uWT9bqXUQY0Kojday2z67BXZ9GJeO5U4URB+3fcBNXxIasXQMYOHFIuzqjGv8Tnnspsq2Kfo3zWKHpRJs3kLft5gyHQmBi/DRgRWJ5SSb1shU2Ta+STkmutjk3sUuXQBsewxya4P7/6ex6GHSsov91IQX2/5Y/Nay2118pnZ8seyNzacRhrav9KVRJwXFHAPwh+3PsAO77CHS73qrvTXuwteyeSt9f6hvMH8mAp20w4BCnIuwOGOR1oHcF7cJlMEiamXF3v3ayQyTlRImNSzWOmFBLiZSDMotUC673Zsk+LNWuojiti+66YeUp7iJjT0G0JfRt1X/sd/ow392EdfxINlV0Ro2b6nvV+Xs0pXVhfSaWdGDyNNBPxQfI+tkP14BmbEXcHd3g+NEHey1TlY+LshlN7C0fWVssfDRe+06nWOPtQ1plMemFGPAfTQ0dowOe/SGL7ZtOfnltnlrfT+nrzYtSyeNywpWnkWmyu+LH1K+j6iX++xuaqIJFe3eJWOHvYWX1aZwyGW3O4kB25ppL8qjj/f1fc27SHlMSjEGXP+PHaPDFix+td985bZ5a30/Zp9+WV4HsVwnitNKKFyNDqqLjW8R9bLHd5CRgqzukFf7IuOLUS67XTm++pVa7yiKWZv60hinsSjVGLB8pxZn7MCnFvlY9qbkk9tm2zcguyh6V5Q2r6HMzph5N+mcyZMIwyL92YDQzyX/TcJ5oLy0bPxzFH22jbvmH0ZQcC88ThH4uCwubsaC6xR2L1CnmqZX0fRXEvAhlyFCnYOEx1CFAvLxz2XwKAWk/f/91Yd/MSYQQv4ZzUnq7yXEpFaY3RcyTGnzQtXY/BUQuIiRele3pr2N0UP1ceNjBAXtyzbgn4Ls8+BYd8mNKOriEeM6pv0p7O7Tz9oNf26FbmKItc1NXyMZmmoMYNG2Og8t4niJzv2FxpRpncPbypmbbqaEepSntLlPvLV1S32/z1bmeSDwJnXQKR4edVNXuYgA20HdNHRdSi7Ppfz62ruDOsZz9kYEubrHuO7Tf25eCrv7dHHt7qtTY95elMY4dO3Ta5ShzlJSfhov5WfbK0/Euhu35RgLWHiwAw+hTipb3jHSTYgCI3WtLjFt7hNpZSFdFL0rSpvXUObwNPNWgLkX0aGR8IUEl76SjLObWck1XnZZ+j/HMXkDg5ooht012btU17swQB//zx5GX0teI+EuoWTCkbJ+HAk3dF86yuK5N+rYz4I6VXovU8xPGFMxKJXNMXQjj40jgE6MO7m2EDt3T32gkwYMXuTHIPvSCfinIP2JjOrfd1eeQu7aPHPZrbgijvWIYm3srPxOLqyNSDcSYlHKMWAfo0BvS3N335ZHiemcNtt+UVzf/6RE71Si02mmnp8+291nto/d7M1hqDuPh5Nf6qUu1rgrV8JOZOv0qnbH9msjDL9wmP6bXHdOXqmX7kkTTmGU8Ox7zu5b25cav6LNpfqiSr1a0Rp3ZodA7ZtnO7RFem3C4m3vMLFoh9o0ZUOK38CqTCzUeL6HSQtHhdYWudws5bT7e4KixXVLP9FDX0eft/Zd5Do2pRwD0NXqr8fp8BvGBnbhW6QcNm+572+xT0zatJManQTtPG+TLT6scDRtDx8WZb86GV3UnhQ6pfgKFcDCxIQjLSzcIHewbXUXnttuF9ep3xu/90b5f/ei4kOC9n3ErYQUlGoMqK72BkFPZpCnaa23pTiHzVvt+1vqB9627KTmTYId8JgAQugilbV9SLvYdY9GD9XnFFvIk1/s70CrmpgU3Z/G2GeN7uSFnQl0qZ1y243TDe0jiLeAYd9Y7hJ2jFRjQFVGX1cfoX+grxf3vFaVjRTnsHmLfT8S/HWx6RvwOmCwGPrSVSqi3d23QYJ6B+H5kKD6Iz4nkKMs7UCDrBg7Y/DEC1wu2W8l23IMRExotR8nrmE3/GX7CnSonW5igLUJ17uERqUYA1Zd6yP0e/T1GOPMyigtncNmKwP9ZQt9vzQ/JtfnIBIeEuDAk4TrM60TAK59qZOKaId4DbK2qP5tYkXcQaDP6HzEYsHVN61xZAZeGERDv2t1n4PjGsdg4BEiV6qvSiXZDdy0ryCGD2qmVpS39tzleichJS0ZAz56ob9Ym7AL3zrlsHlrfX/rfaLXvjfJxeA4PUuPz2s7YPbPsqlI21ymKiYoxyR1k6A6IG4lpCZ3oIXcxboTn+qOHXUfubK0fojMPr6580qyG9gpjoiBca2kY1nteYghhwzGuP0yRX/ETS3s2vKLa66rUtu8pb7vYvdS141jLQa+TgKIz0553+XOtPGp38djbh5k34x86Ixr5Ocg3UVDbsgzVEx8OkjRFumpnbT7vDHFZClqJKWS7LZ4wo+10kkURx+y4ZDRmLljwFdFfalranz48quhXmqbt9L3a/BlVh3fRJqdCO4e0hvTBumc1Iowq2/OxRt22oEQeryHI3AswghI+xCOzkPq+/DMXacUu+Ev7TvwY410FKXVBo1PmQ1ZMgZ8VMVzb/elTp92NddJbfMW+n7N/k2m+14460Sg8dTd/Nm0Qftc1Iog1RHxQ8KUrlIlKtlnSTXv4qKCUgkzu3OscXeHvo4+b8fAaQXsU44B3LBu4SXNELfksLn2vh+C58vV7cRiOym0EwhcTP2JqtGKT0bmWos3jHGfAeKaVD4Ctfutb/FuV4I9FZbgi0dLQ++FrGRuUrE5bE7lr6TAkLk/Aiepahdw3OXvRpp3z/qIc9BJhFj9kD7mEDwgwx5HvdJkMwBHFdnwk/ah0EcfaxuIsXgz+sOOVsKalGIMYJdY43seS/yQw+aa+/4SbF+q7UOs1QkO8WnEep1MriN1YhUdhJHVa0q3WHLH+ODIS3V6tQlnDJeSy+An9VlNx+c70VvHm+qPa+SvSbHHAJ55v9pz71w219r31+zf1cluRWOdIBB3EoZI612GKkTKPwifhwSVh/gtEm/L5iwXl2doJJ4iPfaCPriDJpWPgL7liyPamqgVZW3/v8n1LrIBjfC7PMNJYh+aMwb0ZUb8tNASFrKtjqMSbK6179s+wvQEAgcptxMF0vueNrbeqac8VhYmqbsEq1Mr17GpEYZWBq59yL6J6/tGuQ9f1omPgH0GWNOJSStQ2L75kOu9hNh0F4Yq5xrAPGQM2AUfstAWCzmO4rF4o3xrVILNtfb9rfWFLPbcRIoOZMSXHqmN5GkdpFMQFm9XF1ynoFaYqj2IIduHsGhru5oWBR/btlbHHiHWslCcTP9CP3tIOEiITY0w1H6M+BwgIGQM2OewVh4W8Fp8EgDNN1VLsLnGvh+KM+s/EThJbAfX/Zlvo4tcaB2bHzN9NTIg6yZhF1PAk9dBYrVF5YSIwdEf2uFnL6RyEYB/4Cfs+mqgkyhp+yXSx0SKd44sjIkQChkDWhf24FHGK9z4rm1zbX0/pO+xroMAFsmHBDt5NE6d9lmOeimoFaZWPuRArxTUCVMr6y1QCHYgmIjAAy/1kMpDQF+2gp9q2OkdRE/bJ5E+SUhBJ2FqZWGshVLoGMCu1H0GHiqztvpr2Vxb36/Nr0Xq24pWdlDj2lInFyhHHJvOwtDKxoSCCS0FubIg9zhDkB5RcRc+A7wMTXQHUsNuD339IcGOgbdEGO17ZHUzZXEMzAQucbOa+n5iKF6HfSOm2gkE6Z0xXyeY1uTFSJ6EiSu3icG4hwf4urJwvZcwh/ASDtrXsEjMsa/WNrqw1PCGM8bYXYLtl61cpyDIukmwspC+SJhLHANzkUvTrqa+nwaBF+Z6F9vt4D4ZLDT/YvKWJhthoHw1Pi1lOtD+KPkPCSpH4/tAfZ9se4yINGl9BNQnODov3Sd9C2qXCMI+WToGmgUyFW/wKh3vBWZW0VR9UUPfrwLQ2pQ8i8I6qBHfngY0Jh/pGHQQJg8JVh7kx6adMHyTYOXYdLtQoH4fuobd3kJTq2iuO8IaPtpyFURtX7zJNfprbDoJw4cEK8uml8rjGFiKYJz2NfX9OBaTywcIYPKwAxvpvYSTBM0/SHopQY47obRLmZr2e0mfJLQSVO+hGPWWkh5b4c1T0noI6Ju/NTzSaAUm2ycxHjAuYlEjjN4k3CVYOW66k/IYxDEQA8X5PGrq+x9Y+e6DK14sQQCTyG8l/MgwOUsa+Uo3TcyMd9Kuk/Cpaf+1pO8SLhLmUvNs+EUggy6wfl/1L5+Zf+krZF42BID/zySoP7IJDhR0kfp2jKF5JwFjbS4dpCHG1l7CZxJ8qfOtOFFPMecYmAAqUXEtfT+R+WSrCBwl8XcT7pK+Pq+RXkqdMLD810zflxrD9kQgEIGT1F+zz7uysfCTiAAR2BACd7HFHei47iQsoVYa9/FdK++0xBi2JQKBCDRSf62+3if3Hqg/qxMBIlABAhfRsW/AI38uvUnDPp5r5d3nGsJ2RGAGAtjpPiSs1d/75DYz7GATIkAECkdgL/r1DfjzTL1PA/z6ZOTIw0SKCZVEBHIgsBMh6HM5+ravjLcchlMGESAC6yBwFbHuZNDMUOXYw8flm/O6E30OM+xgEyIwB4GdNLpJyNnHx2Q9RJeTBBIRKAKB7xahxfaUOIpJ/+WY9Y9yfXfypi6vUmE3VSlxOSatmwTogphEBHIhcBFBTS5hI3I6KbtLwBh4SCARASKwcQQw0O3d/MbNpXlEgAgQASKQE4FPcgp7MVmtsfcrk2aSCBABIkAEiAARKBiBveimO3AcvZGIABEgAkSACBABIkAEiAARIAJEgAgQASJABIgAESACRIAIEAEiQASIABEgAkSACBABIkAEiAARIAJEgAgQASJABIgAESACRIAIEAEiQASIABEgAkSACBABIkAEiAARIAJEgAgQASJABIgAESACRIAIEAEiQASIABEgAkSACBABIkAEiAARmI3A/wMK1/y+wPoy0wAAAABJRU5ErkJggg==)\n",
        "\n",
        "\n",
        "The Pearson Correlation Coefficient can help us determine the:\n",
        "\n",
        "1. Direction of the Relationship:\n",
        "  * A positive $r$ indicates a positive linear relationship: as one variable increases, the other increases.\n",
        "  * A negative $r$ indicates a negative linear relationship: as one variable increases, the other tends to decrease.\n",
        "\n",
        "2. Strength of the Relationship:\n",
        "  * The closer $r$ is to 1 or -1, the stronger the linear relationship. A value of 1 or -1 implies a perfect linear relationship.\n",
        "\n",
        "3. And if it has Zero Correlation:\n",
        "  * A $r$ value of 0 indicates no linear correlation. However, it's important to note that there may still be some non-linear relationships.\n",
        "\n",
        "However, it is important to remember that correlation does not imply causation, this is why even if two variables are very strongly correlated, it might not mean that they are caused by each other. This is something we keep in mind when using the Pearson Correlation Coefficient.\n",
        "\n",
        "Below is a table of how the Pearson Correlation Coefficient is used to determine a relationship and correlation.\n",
        "\n",
        "** Determining Pearson's r Value **\n",
        "\n",
        "| Pearson’s r Value\t| Correlation Between x and y |\n",
        "|:----------------- |:--------------------------- |\n",
        "| $r = 1$             | Perfect positive linear relationship|\n",
        "| $r > 0$\t            | Positive correlation |\n",
        "| $r = 0$\t            | No linear relationship |\n",
        "| $r < 0$\t            | Negative correlation\n",
        "| $r = -1$\t        | Perfect negative linear relationship |"
      ],
      "metadata": {
        "id": "oWDwQ6clW3mx"
      }
    },
    {
      "cell_type": "code",
      "source": [
        "# Pearson's Correlation Coefficient between Age and Mileage\n",
        "\n",
        "correlation_A = productA['Age'].corr(productA['Miles'])\n",
        "correlation_B = productB['Age'].corr(productB['Miles'])\n",
        "correlation_C = productC['Age'].corr(productC['Miles'])\n",
        "\n",
        "print(f'Product A (FE284) - Correlation: {correlation_A:.2f}')\n",
        "print(f'Product B (FE580) - Correlation: {correlation_B:.2f}')\n",
        "print(f'Product C (FE605) - Correlation: {correlation_C:.2f}')\n",
        "\n"
      ],
      "metadata": {
        "colab": {
          "base_uri": "https://localhost:8080/"
        },
        "outputId": "6c32f4fe-e3d5-4de5-b6ee-17004fcb9a90",
        "id": "s_LauqyEW3mz"
      },
      "execution_count": null,
      "outputs": [
        {
          "output_type": "stream",
          "name": "stdout",
          "text": [
            "Product A (FE284) - Correlation: -0.06\n",
            "Product B (FE580) - Correlation: -0.12\n",
            "Product C (FE605) - Correlation: 0.24\n"
          ]
        }
      ]
    },
    {
      "cell_type": "markdown",
      "source": [
        " **Pearson Correlation Coefficient Results:**\n",
        "\n",
        "Pearson's Correlation Coefficient between Age and Mileage:\n",
        "  * Product A (FE285):\n",
        "        Correlation: -0.06\n",
        "  * Product B (FE580):\n",
        "        Correlation: -0.12\n",
        "  * Product C (FE605):\n",
        "        Correlation: 0.24\n",
        "\n",
        "\n",
        "**Explanation:**\n",
        "\n",
        "In the study of Product A, we observe a weak negative correlation between the expected mileage and the age of customers, but it is not statistically significant. Moving to Product B, a slightly stronger negative correlation is apparent, yet akin to Product A, it does not reach statistical significance. Conversely, Product C shows that age and distance have a positive link, but unfortunately, this correlation is also not statistically significant. These nuanced findings highlight how crucial it is to take into account both the statistical significance and the strength of correlations when attempting to comprehend the intricate relationship that exists between age and projected mileage across various treadmill models."
      ],
      "metadata": {
        "id": "nw_WzS8UhZRx"
      }
    },
    {
      "cell_type": "markdown",
      "source": [
        "###**Step 3**: Create a scatter plot for Product A using **Seaborn**\n",
        "\n"
      ],
      "metadata": {
        "id": "atxNjUEcW3mz"
      }
    },
    {
      "cell_type": "code",
      "source": [
        "sns.scatterplot(\n",
        "    x = \"Age\",\n",
        "    y = \"Miles\",\n",
        "    data = productA,\n",
        "    hue = \"Miles\",\n",
        "    palette = \"flare\"\n",
        ").set_title(f'Product A - Correlation: {correlation_A:.2f}');"
      ],
      "metadata": {
        "colab": {
          "base_uri": "https://localhost:8080/",
          "height": 472
        },
        "outputId": "48cf024c-eeab-4e94-e2ca-a49ea5fbf72e",
        "id": "SVuzGR18W3mz"
      },
      "execution_count": null,
      "outputs": [
        {
          "output_type": "display_data",
          "data": {
            "text/plain": [
              "<Figure size 640x480 with 1 Axes>"
            ],
            "image/png": "[encoded data removed]"
          },
          "metadata": {}
        }
      ]
    },
    {
      "cell_type": "markdown",
      "source": [
        "###**Step 4**: Create a line of best fit using **Seaborn’s lmplot()**\n",
        "\n"
      ],
      "metadata": {
        "id": "lOWIhcLyW3mz"
      }
    },
    {
      "cell_type": "markdown",
      "source": [
        "A line of best fit will help visualize the trend of the data when plotted onto a scatter plot. The line of best fit follows the data points presented, and is determined by trying to get the shortest distance betwen the line and each point."
      ],
      "metadata": {
        "id": "aah3z22sW3mz"
      }
    },
    {
      "cell_type": "code",
      "source": [
        "# Remember to seperate Each Treadmill Type within the Product Series\n",
        "\n",
        "sns.lmplot(\n",
        "    x = \"Age\",\n",
        "    y = \"Miles\",\n",
        "    data = productA.dropna(),\n",
        "    # Despite the way that hue, ci, and palette can be used for relplots, it does not work with lmplots that include lines of best fit\n",
        "    # This is because it generates a new line of best fit with each category that it determines with the hues\n",
        "    # This is why these detials are not used in the lmplots that generate liensof best fit\n",
        "    # hue = \"Miles\",\n",
        "    # palette = \"flare\"\n",
        ").set(title = (f'Product A - Correlation: {correlation_A:.2f}'));"
      ],
      "metadata": {
        "colab": {
          "base_uri": "https://localhost:8080/",
          "height": 529
        },
        "outputId": "cf30abfd-4212-476f-9906-c5b339e3b4f7",
        "id": "uAVvs29pW3mz"
      },
      "execution_count": null,
      "outputs": [
        {
          "output_type": "display_data",
          "data": {
            "text/plain": [
              "<Figure size 500x500 with 1 Axes>"
            ],
            "image/png": "[encoded data removed]"
          },
          "metadata": {}
        }
      ]
    },
    {
      "cell_type": "markdown",
      "source": [
        "###**Step 5**: Find the p-value using **pearsonr() function from the script stats library**\n",
        "\n",
        "\n",
        "\n"
      ],
      "metadata": {
        "id": "Q2LRfcbPW3m0"
      }
    },
    {
      "cell_type": "code",
      "source": [
        "#Pearson Correlation and p-value for Product A\n",
        "pearson_corr, p_value = stats.pearsonr(productA[\"Age\"], productA[\"Miles\"])\n",
        "print('Product A:')\n",
        "print(f'The pearson correlation coeffient for age vs. miles in Product A is {round(pearson_corr,3)}')\n",
        "print(f'The p-value for Product A is {round(p_value, 3)}\\n')\n",
        "\n",
        "#Pearson Correlation and p-value for Product B\n",
        "pearson_corr, p_value = stats.pearsonr(productB[\"Age\"], productB[\"Miles\"])\n",
        "print('Product B:')\n",
        "print(f'The pearson correlation coeffient for age vs. miles in Product B is {round(pearson_corr,3)}')\n",
        "print(f'The p-value for Product B is {round(p_value, 3)}\\n')\n",
        "\n",
        "#Pearson Correlation and p-value for Product C\n",
        "pearson_corr, p_value = stats.pearsonr(productC[\"Age\"], productC[\"Miles\"])\n",
        "print('Product C:')\n",
        "print(f'The pearson correlation coeffient for age vs. miles in Product C is {round(pearson_corr,3)}')\n",
        "print(f'The p-value for Product C is {round(p_value, 3)}')"
      ],
      "metadata": {
        "colab": {
          "base_uri": "https://localhost:8080/"
        },
        "outputId": "90dd1419-6573-4539-e0eb-cdcfe245d219",
        "id": "BS7qd8LjW3m0"
      },
      "execution_count": null,
      "outputs": [
        {
          "output_type": "stream",
          "name": "stdout",
          "text": [
            "Product A:\n",
            "The pearson correlation coeffient for age vs. miles in Product A is -0.065\n",
            "The p-value for Product A is 0.569\n",
            "\n",
            "Product B:\n",
            "The pearson correlation coeffient for age vs. miles in Product B is -0.125\n",
            "The p-value for Product B is 0.342\n",
            "\n",
            "Product C:\n",
            "The pearson correlation coeffient for age vs. miles in Product C is 0.243\n",
            "The p-value for Product C is 0.131\n"
          ]
        }
      ]
    },
    {
      "cell_type": "markdown",
      "source": [
        "**Hypothesis Testing Results:**\n",
        "  * Product A (FE285):\n",
        "        Correlation: -0.06\n",
        "        p-value: 0.569\n",
        "  * Product B (FE580):\n",
        "        Correlation: -0.12\n",
        "        p-value: 0.342\n",
        "  * Product C (FE605):\n",
        "        Correlation: 0.24\n",
        "        p-value: 0.131\n",
        "\n",
        "* Relationships\n",
        "        Product FE285: No Statistically Significant Relationship\n",
        "        Product FE580: No Statistically Significant Relationship\n",
        "        Product FE605: No Statistically Significant Relationship\n",
        "\n",
        "**Explanation:**\n",
        "\n",
        "In hypothesis testing, the p-value is a measure of the evidence against a null hypothesis. A common significance level (denoted as α) is 0.05. If the p-value is less than or equal to this significance level, it suggests that there is enough evidence to reject the null hypothesis. Conversely, if the p-value is greater than 0.05, we fail to reject the null hypothesis due to insufficient evidence.\n",
        "\n",
        "The hypothesis testing indicates that none of the products show a statistically significant relationship between age and mileage (p-value > 0.05).\n"
      ],
      "metadata": {
        "id": "Pd8AiTNhhje7"
      }
    },
    {
      "cell_type": "markdown",
      "source": [
        "###**Step 6**: **Retain or Reject** the null hypothesis\n",
        "\n"
      ],
      "metadata": {
        "id": "HR6PJT-oW3m0"
      }
    },
    {
      "cell_type": "markdown",
      "source": [
        "If the p-value is less than or equal to this significance level, it suggests that there is enough evidence to reject the null hypothesis. Conversely, if the p-value is greater than 0.05, we fail to reject the null hypothesis due to insufficient evidence.\n",
        "\n",
        "The hypothesis testing indicates that none of the products show a statistically significant relationship between age and mileage (p-value > 0.05)."
      ],
      "metadata": {
        "id": "HRoucflsW3m0"
      }
    },
    {
      "cell_type": "code",
      "source": [
        "\n",
        "if p_value < 0.05:\n",
        "   print(\"Statistically Significant Relationship\\n\")\n",
        "else:\n",
        "   print(\"No Statistically Significant Relationship\\n\")"
      ],
      "metadata": {
        "colab": {
          "base_uri": "https://localhost:8080/"
        },
        "outputId": "69be2bf1-c96d-4367-fffa-a000445da0c3",
        "id": "_yaBxDRAW3m0"
      },
      "execution_count": null,
      "outputs": [
        {
          "output_type": "stream",
          "name": "stdout",
          "text": [
            "No Statistically Significant Relationship\n",
            "\n"
          ]
        }
      ]
    },
    {
      "cell_type": "markdown",
      "source": [
        "# Create scatter plot for FE284 to determine of there is a relationship between the miles the costumer expects to walk/run and the age of the customers"
      ],
      "metadata": {
        "id": "Pi1D-FoTW3m0"
      }
    },
    {
      "cell_type": "markdown",
      "source": [
        "###**Step 1:** Extract the FE284 Treadmill Product from the Product Series"
      ],
      "metadata": {
        "id": "u2wPf1HSW3m0"
      }
    },
    {
      "cell_type": "markdown",
      "source": [
        "To extract the product FE284 from the Product Series of the Fitness dataset, it is nicknamed `\"productA.\"` Then, `productA` is defined as followed."
      ],
      "metadata": {
        "id": "_n0_1pb5W3m0"
      }
    },
    {
      "cell_type": "code",
      "source": [
        "# Seperate Each Treadmill Type within the Product Series\n",
        "\n",
        "productA = fitness_df[(fitness_df['Product'] == 'FE284')]\n",
        "print(\"The product 'FE284' is dubbed 'product A', and is pulled out of the rest of the fitness_df dataset, as shown below.\\n\")\n",
        "productA"
      ],
      "metadata": {
        "colab": {
          "base_uri": "https://localhost:8080/",
          "height": 459
        },
        "outputId": "c3b65f22-aacf-4957-9ef8-7ca63a8f32b0",
        "id": "c-Yh1lN9W3m0"
      },
      "execution_count": null,
      "outputs": [
        {
          "output_type": "stream",
          "name": "stdout",
          "text": [
            "The product 'FE284' is dubbed 'product A', and is pulled out of the rest of the fitness_df dataset, as shown below.\n",
            "\n"
          ]
        },
        {
          "output_type": "execute_result",
          "data": {
            "text/plain": [
              "   Product  Age  Gender  Education MaritalStatus  Usage  Fitness  Income  \\\n",
              "0    FE284   18    Male         14        Single      3        4   29562   \n",
              "1    FE284   19    Male         15        Single      2        3   31836   \n",
              "2    FE284   19  Female         14     Partnered      4        3   30699   \n",
              "3    FE284   19    Male         12        Single      3        3   32973   \n",
              "4    FE284   20    Male         13     Partnered      4        2   35247   \n",
              "..     ...  ...     ...        ...           ...    ...      ...     ...   \n",
              "75   FE284   43    Male         16     Partnered      3        3   53439   \n",
              "76   FE284   44  Female         16        Single      3        4   57987   \n",
              "77   FE284   46  Female         16     Partnered      3        2   60261   \n",
              "78   FE284   47    Male         16     Partnered      4        3   56850   \n",
              "79   FE284   50  Female         16     Partnered      3        3   64809   \n",
              "\n",
              "    Miles  \n",
              "0     112  \n",
              "1      75  \n",
              "2      66  \n",
              "3      85  \n",
              "4      47  \n",
              "..    ...  \n",
              "75     66  \n",
              "76     75  \n",
              "77     47  \n",
              "78     94  \n",
              "79     66  \n",
              "\n",
              "[80 rows x 9 columns]"
            ],
            "text/html": [
              "\n",
              "  <div id=\"df-1fc7b1bc-85af-4c6c-bc31-091ffcc0bd09\" class=\"colab-df-container\">\n",
              "    <div>\n",
              "<style scoped>\n",
              "    .dataframe tbody tr th:only-of-type {\n",
              "        vertical-align: middle;\n",
              "    }\n",
              "\n",
              "    .dataframe tbody tr th {\n",
              "        vertical-align: top;\n",
              "    }\n",
              "\n",
              "    .dataframe thead th {\n",
              "        text-align: right;\n",
              "    }\n",
              "</style>\n",
              "<table border=\"1\" class=\"dataframe\">\n",
              "  <thead>\n",
              "    <tr style=\"text-align: right;\">\n",
              "      <th></th>\n",
              "      <th>Product</th>\n",
              "      <th>Age</th>\n",
              "      <th>Gender</th>\n",
              "      <th>Education</th>\n",
              "      <th>MaritalStatus</th>\n",
              "      <th>Usage</th>\n",
              "      <th>Fitness</th>\n",
              "      <th>Income</th>\n",
              "      <th>Miles</th>\n",
              "    </tr>\n",
              "  </thead>\n",
              "  <tbody>\n",
              "    <tr>\n",
              "      <th>0</th>\n",
              "      <td>FE284</td>\n",
              "      <td>18</td>\n",
              "      <td>Male</td>\n",
              "      <td>14</td>\n",
              "      <td>Single</td>\n",
              "      <td>3</td>\n",
              "      <td>4</td>\n",
              "      <td>29562</td>\n",
              "      <td>112</td>\n",
              "    </tr>\n",
              "    <tr>\n",
              "      <th>1</th>\n",
              "      <td>FE284</td>\n",
              "      <td>19</td>\n",
              "      <td>Male</td>\n",
              "      <td>15</td>\n",
              "      <td>Single</td>\n",
              "      <td>2</td>\n",
              "      <td>3</td>\n",
              "      <td>31836</td>\n",
              "      <td>75</td>\n",
              "    </tr>\n",
              "    <tr>\n",
              "      <th>2</th>\n",
              "      <td>FE284</td>\n",
              "      <td>19</td>\n",
              "      <td>Female</td>\n",
              "      <td>14</td>\n",
              "      <td>Partnered</td>\n",
              "      <td>4</td>\n",
              "      <td>3</td>\n",
              "      <td>30699</td>\n",
              "      <td>66</td>\n",
              "    </tr>\n",
              "    <tr>\n",
              "      <th>3</th>\n",
              "      <td>FE284</td>\n",
              "      <td>19</td>\n",
              "      <td>Male</td>\n",
              "      <td>12</td>\n",
              "      <td>Single</td>\n",
              "      <td>3</td>\n",
              "      <td>3</td>\n",
              "      <td>32973</td>\n",
              "      <td>85</td>\n",
              "    </tr>\n",
              "    <tr>\n",
              "      <th>4</th>\n",
              "      <td>FE284</td>\n",
              "      <td>20</td>\n",
              "      <td>Male</td>\n",
              "      <td>13</td>\n",
              "      <td>Partnered</td>\n",
              "      <td>4</td>\n",
              "      <td>2</td>\n",
              "      <td>35247</td>\n",
              "      <td>47</td>\n",
              "    </tr>\n",
              "    <tr>\n",
              "      <th>...</th>\n",
              "      <td>...</td>\n",
              "      <td>...</td>\n",
              "      <td>...</td>\n",
              "      <td>...</td>\n",
              "      <td>...</td>\n",
              "      <td>...</td>\n",
              "      <td>...</td>\n",
              "      <td>...</td>\n",
              "      <td>...</td>\n",
              "    </tr>\n",
              "    <tr>\n",
              "      <th>75</th>\n",
              "      <td>FE284</td>\n",
              "      <td>43</td>\n",
              "      <td>Male</td>\n",
              "      <td>16</td>\n",
              "      <td>Partnered</td>\n",
              "      <td>3</td>\n",
              "      <td>3</td>\n",
              "      <td>53439</td>\n",
              "      <td>66</td>\n",
              "    </tr>\n",
              "    <tr>\n",
              "      <th>76</th>\n",
              "      <td>FE284</td>\n",
              "      <td>44</td>\n",
              "      <td>Female</td>\n",
              "      <td>16</td>\n",
              "      <td>Single</td>\n",
              "      <td>3</td>\n",
              "      <td>4</td>\n",
              "      <td>57987</td>\n",
              "      <td>75</td>\n",
              "    </tr>\n",
              "    <tr>\n",
              "      <th>77</th>\n",
              "      <td>FE284</td>\n",
              "      <td>46</td>\n",
              "      <td>Female</td>\n",
              "      <td>16</td>\n",
              "      <td>Partnered</td>\n",
              "      <td>3</td>\n",
              "      <td>2</td>\n",
              "      <td>60261</td>\n",
              "      <td>47</td>\n",
              "    </tr>\n",
              "    <tr>\n",
              "      <th>78</th>\n",
              "      <td>FE284</td>\n",
              "      <td>47</td>\n",
              "      <td>Male</td>\n",
              "      <td>16</td>\n",
              "      <td>Partnered</td>\n",
              "      <td>4</td>\n",
              "      <td>3</td>\n",
              "      <td>56850</td>\n",
              "      <td>94</td>\n",
              "    </tr>\n",
              "    <tr>\n",
              "      <th>79</th>\n",
              "      <td>FE284</td>\n",
              "      <td>50</td>\n",
              "      <td>Female</td>\n",
              "      <td>16</td>\n",
              "      <td>Partnered</td>\n",
              "      <td>3</td>\n",
              "      <td>3</td>\n",
              "      <td>64809</td>\n",
              "      <td>66</td>\n",
              "    </tr>\n",
              "  </tbody>\n",
              "</table>\n",
              "<p>80 rows × 9 columns</p>\n",
              "</div>\n",
              "    <div class=\"colab-df-buttons\">\n",
              "\n",
              "  <div class=\"colab-df-container\">\n",
              "    <button class=\"colab-df-convert\" onclick=\"convertToInteractive('df-1fc7b1bc-85af-4c6c-bc31-091ffcc0bd09')\"\n",
              "            title=\"Convert this dataframe to an interactive table.\"\n",
              "            style=\"display:none;\">\n",
              "\n",
              "  <svg xmlns=\"http://www.w3.org/2000/svg\" height=\"24px\" viewBox=\"0 -960 960 960\">\n",
              "    <path d=\"M120-120v-720h720v720H120Zm60-500h600v-160H180v160Zm220 220h160v-160H400v160Zm0 220h160v-160H400v160ZM180-400h160v-160H180v160Zm440 0h160v-160H620v160ZM180-180h160v-160H180v160Zm440 0h160v-160H620v160Z\"/>\n",
              "  </svg>\n",
              "    </button>\n",
              "\n",
              "  <style>\n",
              "    .colab-df-container {\n",
              "      display:flex;\n",
              "      gap: 12px;\n",
              "    }\n",
              "\n",
              "    .colab-df-convert {\n",
              "      background-color: #E8F0FE;\n",
              "      border: none;\n",
              "      border-radius: 50%;\n",
              "      cursor: pointer;\n",
              "      display: none;\n",
              "      fill: #1967D2;\n",
              "      height: 32px;\n",
              "      padding: 0 0 0 0;\n",
              "      width: 32px;\n",
              "    }\n",
              "\n",
              "    .colab-df-convert:hover {\n",
              "      background-color: #E2EBFA;\n",
              "      box-shadow: 0px 1px 2px rgba(60, 64, 67, 0.3), 0px 1px 3px 1px rgba(60, 64, 67, 0.15);\n",
              "      fill: #174EA6;\n",
              "    }\n",
              "\n",
              "    .colab-df-buttons div {\n",
              "      margin-bottom: 4px;\n",
              "    }\n",
              "\n",
              "    [theme=dark] .colab-df-convert {\n",
              "      background-color: #3B4455;\n",
              "      fill: #D2E3FC;\n",
              "    }\n",
              "\n",
              "    [theme=dark] .colab-df-convert:hover {\n",
              "      background-color: #434B5C;\n",
              "      box-shadow: 0px 1px 3px 1px rgba(0, 0, 0, 0.15);\n",
              "      filter: drop-shadow(0px 1px 2px rgba(0, 0, 0, 0.3));\n",
              "      fill: #FFFFFF;\n",
              "    }\n",
              "  </style>\n",
              "\n",
              "    <script>\n",
              "      const buttonEl =\n",
              "        document.querySelector('#df-1fc7b1bc-85af-4c6c-bc31-091ffcc0bd09 button.colab-df-convert');\n",
              "      buttonEl.style.display =\n",
              "        google.colab.kernel.accessAllowed ? 'block' : 'none';\n",
              "\n",
              "      async function convertToInteractive(key) {\n",
              "        const element = document.querySelector('#df-1fc7b1bc-85af-4c6c-bc31-091ffcc0bd09');\n",
              "        const dataTable =\n",
              "          await google.colab.kernel.invokeFunction('convertToInteractive',\n",
              "                                                    [key], {});\n",
              "        if (!dataTable) return;\n",
              "\n",
              "        const docLinkHtml = 'Like what you see? Visit the ' +\n",
              "          '<a target=\"_blank\" href=https://colab.research.google.com/notebooks/data_table.ipynb>data table notebook</a>'\n",
              "          + ' to learn more about interactive tables.';\n",
              "        element.innerHTML = '';\n",
              "        dataTable['output_type'] = 'display_data';\n",
              "        await google.colab.output.renderOutput(dataTable, element);\n",
              "        const docLink = document.createElement('div');\n",
              "        docLink.innerHTML = docLinkHtml;\n",
              "        element.appendChild(docLink);\n",
              "      }\n",
              "    </script>\n",
              "  </div>\n",
              "\n",
              "\n",
              "<div id=\"df-87e24972-93ec-4e16-b665-28515d8ca60c\">\n",
              "  <button class=\"colab-df-quickchart\" onclick=\"quickchart('df-87e24972-93ec-4e16-b665-28515d8ca60c')\"\n",
              "            title=\"Suggest charts\"\n",
              "            style=\"display:none;\">\n",
              "\n",
              "<svg xmlns=\"http://www.w3.org/2000/svg\" height=\"24px\"viewBox=\"0 0 24 24\"\n",
              "     width=\"24px\">\n",
              "    <g>\n",
              "        <path d=\"M19 3H5c-1.1 0-2 .9-2 2v14c0 1.1.9 2 2 2h14c1.1 0 2-.9 2-2V5c0-1.1-.9-2-2-2zM9 17H7v-7h2v7zm4 0h-2V7h2v10zm4 0h-2v-4h2v4z\"/>\n",
              "    </g>\n",
              "</svg>\n",
              "  </button>\n",
              "\n",
              "<style>\n",
              "  .colab-df-quickchart {\n",
              "      --bg-color: #E8F0FE;\n",
              "      --fill-color: #1967D2;\n",
              "      --hover-bg-color: #E2EBFA;\n",
              "      --hover-fill-color: #174EA6;\n",
              "      --disabled-fill-color: #AAA;\n",
              "      --disabled-bg-color: #DDD;\n",
              "  }\n",
              "\n",
              "  [theme=dark] .colab-df-quickchart {\n",
              "      --bg-color: #3B4455;\n",
              "      --fill-color: #D2E3FC;\n",
              "      --hover-bg-color: #434B5C;\n",
              "      --hover-fill-color: #FFFFFF;\n",
              "      --disabled-bg-color: #3B4455;\n",
              "      --disabled-fill-color: #666;\n",
              "  }\n",
              "\n",
              "  .colab-df-quickchart {\n",
              "    background-color: var(--bg-color);\n",
              "    border: none;\n",
              "    border-radius: 50%;\n",
              "    cursor: pointer;\n",
              "    display: none;\n",
              "    fill: var(--fill-color);\n",
              "    height: 32px;\n",
              "    padding: 0;\n",
              "    width: 32px;\n",
              "  }\n",
              "\n",
              "  .colab-df-quickchart:hover {\n",
              "    background-color: var(--hover-bg-color);\n",
              "    box-shadow: 0 1px 2px rgba(60, 64, 67, 0.3), 0 1px 3px 1px rgba(60, 64, 67, 0.15);\n",
              "    fill: var(--button-hover-fill-color);\n",
              "  }\n",
              "\n",
              "  .colab-df-quickchart-complete:disabled,\n",
              "  .colab-df-quickchart-complete:disabled:hover {\n",
              "    background-color: var(--disabled-bg-color);\n",
              "    fill: var(--disabled-fill-color);\n",
              "    box-shadow: none;\n",
              "  }\n",
              "\n",
              "  .colab-df-spinner {\n",
              "    border: 2px solid var(--fill-color);\n",
              "    border-color: transparent;\n",
              "    border-bottom-color: var(--fill-color);\n",
              "    animation:\n",
              "      spin 1s steps(1) infinite;\n",
              "  }\n",
              "\n",
              "  @keyframes spin {\n",
              "    0% {\n",
              "      border-color: transparent;\n",
              "      border-bottom-color: var(--fill-color);\n",
              "      border-left-color: var(--fill-color);\n",
              "    }\n",
              "    20% {\n",
              "      border-color: transparent;\n",
              "      border-left-color: var(--fill-color);\n",
              "      border-top-color: var(--fill-color);\n",
              "    }\n",
              "    30% {\n",
              "      border-color: transparent;\n",
              "      border-left-color: var(--fill-color);\n",
              "      border-top-color: var(--fill-color);\n",
              "      border-right-color: var(--fill-color);\n",
              "    }\n",
              "    40% {\n",
              "      border-color: transparent;\n",
              "      border-right-color: var(--fill-color);\n",
              "      border-top-color: var(--fill-color);\n",
              "    }\n",
              "    60% {\n",
              "      border-color: transparent;\n",
              "      border-right-color: var(--fill-color);\n",
              "    }\n",
              "    80% {\n",
              "      border-color: transparent;\n",
              "      border-right-color: var(--fill-color);\n",
              "      border-bottom-color: var(--fill-color);\n",
              "    }\n",
              "    90% {\n",
              "      border-color: transparent;\n",
              "      border-bottom-color: var(--fill-color);\n",
              "    }\n",
              "  }\n",
              "</style>\n",
              "\n",
              "  <script>\n",
              "    async function quickchart(key) {\n",
              "      const quickchartButtonEl =\n",
              "        document.querySelector('#' + key + ' button');\n",
              "      quickchartButtonEl.disabled = true;  // To prevent multiple clicks.\n",
              "      quickchartButtonEl.classList.add('colab-df-spinner');\n",
              "      try {\n",
              "        const charts = await google.colab.kernel.invokeFunction(\n",
              "            'suggestCharts', [key], {});\n",
              "      } catch (error) {\n",
              "        console.error('Error during call to suggestCharts:', error);\n",
              "      }\n",
              "      quickchartButtonEl.classList.remove('colab-df-spinner');\n",
              "      quickchartButtonEl.classList.add('colab-df-quickchart-complete');\n",
              "    }\n",
              "    (() => {\n",
              "      let quickchartButtonEl =\n",
              "        document.querySelector('#df-87e24972-93ec-4e16-b665-28515d8ca60c button');\n",
              "      quickchartButtonEl.style.display =\n",
              "        google.colab.kernel.accessAllowed ? 'block' : 'none';\n",
              "    })();\n",
              "  </script>\n",
              "</div>\n",
              "    </div>\n",
              "  </div>\n"
            ]
          },
          "metadata": {},
          "execution_count": 55
        }
      ]
    },
    {
      "cell_type": "markdown",
      "source": [
        "###**Step 2:** Calculate the Pearson Correlation Coeffient (r) using **Pandas** of Each Type of Treadmill Product as a Measure of the Correlation Between Age and Mileage\n",
        "\n",
        "The Pearson correlation coefficient, represented by the symbol $r$, is used to measure the linear relationship between two variables in a dataset. It is calculated using Pandas, and can only be used for quantitative data. It helps gauge the strength and direction of a linear relationship between two continuous data sets, providing a numerical value between -1 and 1. We are going to calculate the Pearson Correlation Coefficient through Pandas, however, the formula is as seen below:\n",
        "\n",
        "![image.png](data:image/png;base64,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)\n",
        "\n"
      ],
      "metadata": {
        "id": "aCzrEJv_W3m0"
      }
    },
    {
      "cell_type": "markdown",
      "source": [
        "Where:\n",
        "$r$\t=\tcorrelation coefficient\n",
        "\n",
        "$x_{i}$\t=\tvalues of the x-variable in a sample\n",
        "\n",
        "$\\bar{x}$\t=\tmean of the values of the x-variable\n",
        "\n",
        "$y_{i}$\t=\tvalues of the y-variable in a sample\n",
        "\n",
        "$\\bar{y}$\t=\tmean of the values of the y-variable"
      ],
      "metadata": {
        "id": "zBqz1WVYW3m1"
      }
    },
    {
      "cell_type": "markdown",
      "source": [
        "The Pearson Correlation Coefficient can help us determine the:\n",
        "\n",
        "1. Direction of the Relationship:\n",
        "  * A positive $r$ indicates a positive linear relationship: as one variable increases, the other increases.\n",
        "  * A negative $r$ indicates a negative linear relationship: as one variable increases, the other tends to decrease.\n",
        "\n",
        "2. Strength of the Relationship:\n",
        "  * The closer $r$ is to 1 or -1, the stronger the linear relationship. A value of 1 or -1 implies a perfect linear relationship.\n",
        "\n",
        "3. And if it has Zero Correlation:\n",
        "  * A $r$ value of 0 indicates no linear correlation. However, it's important to note that there may still be some non-linear relationships.\n",
        "\n",
        "However, it is important to remember that correlation does not imply causation, this is why even if two variables are very strongly correlated, it might not mean that they are caused by each other. This is something we keep in mind when using the Pearson Correlation Coefficient.\n",
        "\n",
        "Below is a table of how the Pearson Correlation Coefficient is used to determine a relationship and correlation.\n",
        "\n",
        "**Determining Pearson's r Value**\n",
        "\n",
        "| Pearson’s r Value\t| Correlation Between x and y |\n",
        "|:----------------- |:--------------------------- |\n",
        "| $r = 1$             | Perfect positive linear relationship|\n",
        "| $r > 0$\t            | Positive correlation |\n",
        "| $r = 0$\t            | No linear relationship |\n",
        "| $r < 0$\t            | Negative correlation\n",
        "| $r = -1$\t        | Perfect negative linear relationship |\n"
      ],
      "metadata": {
        "id": "BEDncwuQW3m1"
      }
    },
    {
      "cell_type": "markdown",
      "source": [
        "**Pearson's Correlation Coefficient between Age and Milage for Product A**"
      ],
      "metadata": {
        "id": "RYIYmqczW3m1"
      }
    },
    {
      "cell_type": "code",
      "source": [
        "correlation_A = productA['Age'].corr(productA['Miles'])\n",
        "\n",
        "print(f'Product A (FE284) - Correlation: {correlation_A:.2f}')"
      ],
      "metadata": {
        "colab": {
          "base_uri": "https://localhost:8080/"
        },
        "outputId": "afe9f7db-e399-4ad6-a005-2cb2b97178b6",
        "id": "hb42HNn5W3m1"
      },
      "execution_count": null,
      "outputs": [
        {
          "output_type": "stream",
          "name": "stdout",
          "text": [
            "Product A (FE284) - Correlation: -0.06\n"
          ]
        }
      ]
    },
    {
      "cell_type": "markdown",
      "source": [
        "**Results**\n",
        "\n",
        "Product A (FE284) has a Pearson Correlation Coefficient of **-0.06** between Age and Milage. Using the chart above to determine the meaning of the $r$ value, we can see that for Product A, $r$ < 0 but $r$ > -1, and is closer to 0 than to -1, this may mean that there is a slight negative correlation."
      ],
      "metadata": {
        "id": "tAlSxCBOW3m1"
      }
    },
    {
      "cell_type": "markdown",
      "source": [
        "###**Step 3**: Create a scatter plot for Product A using **Seaborn**\n",
        "\n"
      ],
      "metadata": {
        "id": "wzROAtBRW3m1"
      }
    },
    {
      "cell_type": "code",
      "source": [
        "sns.scatterplot(\n",
        "    x = \"Age\",\n",
        "    y = \"Miles\",\n",
        "    data = productA,\n",
        "    hue = \"Miles\",\n",
        "    palette = \"flare\"\n",
        ").set_title(f'Product A - Correlation: {correlation_A:.2f}');"
      ],
      "metadata": {
        "colab": {
          "base_uri": "https://localhost:8080/",
          "height": 472
        },
        "outputId": "804d5f3e-8663-46f3-b96e-9dad051928e8",
        "id": "ed-8Rp0qW3m2"
      },
      "execution_count": null,
      "outputs": [
        {
          "output_type": "display_data",
          "data": {
            "text/plain": [
              "<Figure size 640x480 with 1 Axes>"
            ],
            "image/png": "[encoded data removed]"
          },
          "metadata": {}
        }
      ]
    },
    {
      "cell_type": "markdown",
      "source": [
        "###**Step 4**: Create a line of best fit for Product A using **Seaborn’s lmplot()**\n",
        "\n"
      ],
      "metadata": {
        "id": "pSAJ9UMfW3m2"
      }
    },
    {
      "cell_type": "code",
      "source": [
        "sns.lmplot(\n",
        "    x = \"Age\",\n",
        "    y = \"Miles\",\n",
        "    data = productA.dropna(),\n",
        "    #hue = \"Miles\",\n",
        "    #palette = \"flare\"\n",
        ").set(title = (f'Product A - Correlation: {correlation_A:.2f}'));"
      ],
      "metadata": {
        "colab": {
          "base_uri": "https://localhost:8080/",
          "height": 529
        },
        "outputId": "3499eb78-58bf-4b78-f20a-6705f817352d",
        "id": "t7iykZ6yW3m2"
      },
      "execution_count": null,
      "outputs": [
        {
          "output_type": "display_data",
          "data": {
            "text/plain": [
              "<Figure size 500x500 with 1 Axes>"
            ],
            "image/png": "[encoded data removed]"
          },
          "metadata": {}
        }
      ]
    },
    {
      "cell_type": "markdown",
      "source": [
        "###**Step 5**: Find the p-value using **pearsonr() function** from the **Script Stats Library**\n",
        "\n",
        "\n",
        "\n"
      ],
      "metadata": {
        "id": "TIcaNKiBW3m2"
      }
    },
    {
      "cell_type": "markdown",
      "source": [
        "Due to the fact that the current tests are not specific enough to determine if there is a relationship between the age and milage, objective is to determine both the p-value and the confidence interval (a range of probable values) for the actual population correlation coefficient (𝜌).\n",
        "\n",
        "To achieve this, the `pearsonr()` function within the Python library known as the `scipy` will be employed. This function will calculate the Pearson correlation coefficient and its associated p-value, enabling the subsequent derivation of the confidence interval from the obtained results."
      ],
      "metadata": {
        "id": "zHTEi8smW3m2"
      }
    },
    {
      "cell_type": "code",
      "source": [
        "#Pearson Correlation and p-value for Product A\n",
        "\n",
        "from scipy import stats\n",
        "  # Calculate the Pearson correlation and p-value\n",
        "  # by calling stats.pearsonr function from scipy\n",
        "\n",
        "pearson_corrA, p_valueA = stats.pearsonr(productA[\"Age\"], productA[\"Miles\"])\n",
        "print('Product A:')\n",
        "print(f'The pearson correlation coeffient for age vs. miles in Product A is {round(pearson_corrA,3)}.')\n",
        "print(f'The p-value for Product A is {round(p_valueA, 3)}.')"
      ],
      "metadata": {
        "colab": {
          "base_uri": "https://localhost:8080/"
        },
        "outputId": "8ed70451-c443-4367-b99a-2ff72aab057e",
        "id": "NfNm8cxpW3m2"
      },
      "execution_count": null,
      "outputs": [
        {
          "output_type": "stream",
          "name": "stdout",
          "text": [
            "Product A:\n",
            "The pearson correlation coeffient for age vs. miles in Product A is -0.065.\n",
            "The p-value for Product A is 0.569.\n"
          ]
        }
      ]
    },
    {
      "cell_type": "markdown",
      "source": [
        "###**Step 6**: **Retain or Reject** the null hypothesis\n",
        "\n"
      ],
      "metadata": {
        "id": "JszqfwGhW3m2"
      }
    },
    {
      "cell_type": "code",
      "source": [
        "\n",
        "if p_valueA < 0.05:\n",
        "   print(\"Statistically Significant Relationship\\n\")\n",
        "else:\n",
        "   print(\"No Statistically Significant Relationship\\n\")\n",
        "\n"
      ],
      "metadata": {
        "colab": {
          "base_uri": "https://localhost:8080/"
        },
        "outputId": "d9f82894-7b09-4786-f0ee-6e0642dbdd97",
        "id": "GJ5pr8HYW3m2"
      },
      "execution_count": null,
      "outputs": [
        {
          "output_type": "stream",
          "name": "stdout",
          "text": [
            "No Statistically Significant Relationship\n",
            "\n"
          ]
        }
      ]
    },
    {
      "cell_type": "markdown",
      "source": [
        "# Create scatter plot for FE580 to determine of there is a relationship between the miles the costumer expects to walk/run and the age of the customers"
      ],
      "metadata": {
        "id": "-8DWVPqWW3m2"
      }
    },
    {
      "cell_type": "markdown",
      "source": [
        "###**Step 1:** Extract the FE580 Treadmill Product from the Product Series"
      ],
      "metadata": {
        "id": "efFI89hrW3m2"
      }
    },
    {
      "cell_type": "markdown",
      "source": [
        "To extract the product FE580 from the Product Series of the Fitness dataset, it is nicknamed `\"productB.\"` Then, `productB` is defined as followed."
      ],
      "metadata": {
        "id": "sxlM7Yv5W3m3"
      }
    },
    {
      "cell_type": "code",
      "source": [
        "# Seperate Each Treadmill Type within the Product Series\n",
        "\n",
        "productB = fitness_df[(fitness_df['Product'] == 'FE580')]\n",
        "print(\"The product 'FE284' is dubbed 'product A', and is pulled out of the rest of the fitness_df dataset, as shown below.\\n\")\n",
        "productB"
      ],
      "metadata": {
        "colab": {
          "base_uri": "https://localhost:8080/",
          "height": 1000
        },
        "outputId": "2ff6a84b-c10e-43ff-e779-a24884448b7c",
        "id": "srExwsHvW3m3"
      },
      "execution_count": null,
      "outputs": [
        {
          "output_type": "stream",
          "name": "stdout",
          "text": [
            "The product 'FE284' is dubbed 'product A', and is pulled out of the rest of the fitness_df dataset, as shown below.\n",
            "\n"
          ]
        },
        {
          "output_type": "execute_result",
          "data": {
            "text/plain": [
              "    Product  Age  Gender  Education MaritalStatus  Usage  Fitness  Income  \\\n",
              "80    FE580   19    Male         14        Single      3        3   31836   \n",
              "81    FE580   20    Male         14        Single      2        3   32973   \n",
              "82    FE580   20  Female         14     Partnered      3        3   34110   \n",
              "83    FE580   20    Male         14        Single      3        3   38658   \n",
              "84    FE580   21  Female         14     Partnered      5        4   34110   \n",
              "85    FE580   21    Male         16     Partnered      2        2   34110   \n",
              "86    FE580   21    Male         12     Partnered      2        2   32973   \n",
              "87    FE580   23    Male         14     Partnered      3        3   36384   \n",
              "88    FE580   23    Male         14     Partnered      3        3   38658   \n",
              "89    FE580   23  Female         16        Single      3        3   45480   \n",
              "90    FE580   23    Male         16     Partnered      4        3   45480   \n",
              "91    FE580   23  Female         16     Partnered      3        2   43206   \n",
              "92    FE580   23  Female         14        Single      3        2   40932   \n",
              "93    FE580   23    Male         16     Partnered      3        3   45480   \n",
              "94    FE580   24  Female         14        Single      3        2   40932   \n",
              "95    FE580   24    Male         14        Single      3        4   48891   \n",
              "96    FE580   24  Female         16        Single      3        3   50028   \n",
              "97    FE580   25  Female         14     Partnered      2        3   45480   \n",
              "98    FE580   25  Female         14        Single      3        4   43206   \n",
              "99    FE580   25    Male         16     Partnered      2        2   52302   \n",
              "100   FE580   25  Female         14     Partnered      5        3   47754   \n",
              "101   FE580   25    Male         14        Single      3        3   45480   \n",
              "102   FE580   25  Female         14        Single      2        3   43206   \n",
              "103   FE580   25    Male         14     Partnered      4        3   45480   \n",
              "104   FE580   25    Male         14     Partnered      3        4   43206   \n",
              "105   FE580   25    Male         16     Partnered      2        3   50028   \n",
              "106   FE580   25  Female         14        Single      2        2   45480   \n",
              "107   FE580   25    Male         14        Single      4        3   48891   \n",
              "108   FE580   26  Female         16     Partnered      4        3   45480   \n",
              "109   FE580   26  Female         16        Single      4        4   50028   \n",
              "110   FE580   26    Male         16        Single      4        3   51165   \n",
              "111   FE580   27    Male         14        Single      4        2   45480   \n",
              "112   FE580   29  Female         14     Partnered      3        3   51165   \n",
              "113   FE580   30  Female         14        Single      3        3   57987   \n",
              "114   FE580   30  Female         13        Single      4        3   46617   \n",
              "115   FE580   31    Male         16     Partnered      3        3   52302   \n",
              "116   FE580   31  Female         16     Partnered      2        3   51165   \n",
              "117   FE580   31  Female         18        Single      2        1   65220   \n",
              "118   FE580   32    Male         16        Single      4        3   60261   \n",
              "119   FE580   32    Male         16     Partnered      3        3   53439   \n",
              "120   FE580   33    Male         13     Partnered      4        4   53439   \n",
              "121   FE580   33  Female         16     Partnered      2        3   50028   \n",
              "122   FE580   33    Male         16     Partnered      3        3   51165   \n",
              "123   FE580   33  Female         16     Partnered      5        3   53439   \n",
              "124   FE580   33  Female         18        Single      3        4   47754   \n",
              "125   FE580   34  Female         16     Partnered      4        3   64809   \n",
              "126   FE580   34    Male         16     Partnered      3        4   59124   \n",
              "127   FE580   34    Male         15        Single      3        3   67083   \n",
              "128   FE580   35  Female         14     Partnered      3        2   52302   \n",
              "129   FE580   35    Male         16     Partnered      3        2   53439   \n",
              "130   FE580   35  Female         16        Single      3        2   50028   \n",
              "131   FE580   35    Male         16     Partnered      3        3   53439   \n",
              "132   FE580   37  Female         16     Partnered      2        3   48891   \n",
              "133   FE580   38  Female         16     Partnered      4        3   62535   \n",
              "134   FE580   38    Male         16     Partnered      3        3   59124   \n",
              "135   FE580   40  Female         16     Partnered      3        3   61398   \n",
              "136   FE580   40  Female         16        Single      3        3   57987   \n",
              "137   FE580   40    Male         16     Partnered      3        3   64809   \n",
              "138   FE580   45    Male         16     Partnered      2        2   54576   \n",
              "139   FE580   48    Male         16     Partnered      2        3   57987   \n",
              "\n",
              "     Miles  \n",
              "80      64  \n",
              "81      53  \n",
              "82     106  \n",
              "83      95  \n",
              "84     212  \n",
              "85      42  \n",
              "86      53  \n",
              "87      95  \n",
              "88      85  \n",
              "89      95  \n",
              "90     127  \n",
              "91      74  \n",
              "92      53  \n",
              "93      64  \n",
              "94      85  \n",
              "95     106  \n",
              "96     106  \n",
              "97      85  \n",
              "98     127  \n",
              "99      42  \n",
              "100    106  \n",
              "101     95  \n",
              "102     64  \n",
              "103    170  \n",
              "104    106  \n",
              "105     53  \n",
              "106     42  \n",
              "107    127  \n",
              "108     85  \n",
              "109    127  \n",
              "110    106  \n",
              "111     53  \n",
              "112     95  \n",
              "113     74  \n",
              "114    106  \n",
              "115     95  \n",
              "116     64  \n",
              "117     21  \n",
              "118    127  \n",
              "119     95  \n",
              "120    170  \n",
              "121     85  \n",
              "122     95  \n",
              "123     95  \n",
              "124     74  \n",
              "125     95  \n",
              "126     85  \n",
              "127     85  \n",
              "128     53  \n",
              "129     53  \n",
              "130     64  \n",
              "131     95  \n",
              "132     85  \n",
              "133     85  \n",
              "134    106  \n",
              "135     85  \n",
              "136     85  \n",
              "137     95  \n",
              "138     42  \n",
              "139     64  "
            ],
            "text/html": [
              "\n",
              "  <div id=\"df-34f7eb49-8f47-4788-84bf-16b3f8cbeec1\" class=\"colab-df-container\">\n",
              "    <div>\n",
              "<style scoped>\n",
              "    .dataframe tbody tr th:only-of-type {\n",
              "        vertical-align: middle;\n",
              "    }\n",
              "\n",
              "    .dataframe tbody tr th {\n",
              "        vertical-align: top;\n",
              "    }\n",
              "\n",
              "    .dataframe thead th {\n",
              "        text-align: right;\n",
              "    }\n",
              "</style>\n",
              "<table border=\"1\" class=\"dataframe\">\n",
              "  <thead>\n",
              "    <tr style=\"text-align: right;\">\n",
              "      <th></th>\n",
              "      <th>Product</th>\n",
              "      <th>Age</th>\n",
              "      <th>Gender</th>\n",
              "      <th>Education</th>\n",
              "      <th>MaritalStatus</th>\n",
              "      <th>Usage</th>\n",
              "      <th>Fitness</th>\n",
              "      <th>Income</th>\n",
              "      <th>Miles</th>\n",
              "    </tr>\n",
              "  </thead>\n",
              "  <tbody>\n",
              "    <tr>\n",
              "      <th>80</th>\n",
              "      <td>FE580</td>\n",
              "      <td>19</td>\n",
              "      <td>Male</td>\n",
              "      <td>14</td>\n",
              "      <td>Single</td>\n",
              "      <td>3</td>\n",
              "      <td>3</td>\n",
              "      <td>31836</td>\n",
              "      <td>64</td>\n",
              "    </tr>\n",
              "    <tr>\n",
              "      <th>81</th>\n",
              "      <td>FE580</td>\n",
              "      <td>20</td>\n",
              "      <td>Male</td>\n",
              "      <td>14</td>\n",
              "      <td>Single</td>\n",
              "      <td>2</td>\n",
              "      <td>3</td>\n",
              "      <td>32973</td>\n",
              "      <td>53</td>\n",
              "    </tr>\n",
              "    <tr>\n",
              "      <th>82</th>\n",
              "      <td>FE580</td>\n",
              "      <td>20</td>\n",
              "      <td>Female</td>\n",
              "      <td>14</td>\n",
              "      <td>Partnered</td>\n",
              "      <td>3</td>\n",
              "      <td>3</td>\n",
              "      <td>34110</td>\n",
              "      <td>106</td>\n",
              "    </tr>\n",
              "    <tr>\n",
              "      <th>83</th>\n",
              "      <td>FE580</td>\n",
              "      <td>20</td>\n",
              "      <td>Male</td>\n",
              "      <td>14</td>\n",
              "      <td>Single</td>\n",
              "      <td>3</td>\n",
              "      <td>3</td>\n",
              "      <td>38658</td>\n",
              "      <td>95</td>\n",
              "    </tr>\n",
              "    <tr>\n",
              "      <th>84</th>\n",
              "      <td>FE580</td>\n",
              "      <td>21</td>\n",
              "      <td>Female</td>\n",
              "      <td>14</td>\n",
              "      <td>Partnered</td>\n",
              "      <td>5</td>\n",
              "      <td>4</td>\n",
              "      <td>34110</td>\n",
              "      <td>212</td>\n",
              "    </tr>\n",
              "    <tr>\n",
              "      <th>85</th>\n",
              "      <td>FE580</td>\n",
              "      <td>21</td>\n",
              "      <td>Male</td>\n",
              "      <td>16</td>\n",
              "      <td>Partnered</td>\n",
              "      <td>2</td>\n",
              "      <td>2</td>\n",
              "      <td>34110</td>\n",
              "      <td>42</td>\n",
              "    </tr>\n",
              "    <tr>\n",
              "      <th>86</th>\n",
              "      <td>FE580</td>\n",
              "      <td>21</td>\n",
              "      <td>Male</td>\n",
              "      <td>12</td>\n",
              "      <td>Partnered</td>\n",
              "      <td>2</td>\n",
              "      <td>2</td>\n",
              "      <td>32973</td>\n",
              "      <td>53</td>\n",
              "    </tr>\n",
              "    <tr>\n",
              "      <th>87</th>\n",
              "      <td>FE580</td>\n",
              "      <td>23</td>\n",
              "      <td>Male</td>\n",
              "      <td>14</td>\n",
              "      <td>Partnered</td>\n",
              "      <td>3</td>\n",
              "      <td>3</td>\n",
              "      <td>36384</td>\n",
              "      <td>95</td>\n",
              "    </tr>\n",
              "    <tr>\n",
              "      <th>88</th>\n",
              "      <td>FE580</td>\n",
              "      <td>23</td>\n",
              "      <td>Male</td>\n",
              "      <td>14</td>\n",
              "      <td>Partnered</td>\n",
              "      <td>3</td>\n",
              "      <td>3</td>\n",
              "      <td>38658</td>\n",
              "      <td>85</td>\n",
              "    </tr>\n",
              "    <tr>\n",
              "      <th>89</th>\n",
              "      <td>FE580</td>\n",
              "      <td>23</td>\n",
              "      <td>Female</td>\n",
              "      <td>16</td>\n",
              "      <td>Single</td>\n",
              "      <td>3</td>\n",
              "      <td>3</td>\n",
              "      <td>45480</td>\n",
              "      <td>95</td>\n",
              "    </tr>\n",
              "    <tr>\n",
              "      <th>90</th>\n",
              "      <td>FE580</td>\n",
              "      <td>23</td>\n",
              "      <td>Male</td>\n",
              "      <td>16</td>\n",
              "      <td>Partnered</td>\n",
              "      <td>4</td>\n",
              "      <td>3</td>\n",
              "      <td>45480</td>\n",
              "      <td>127</td>\n",
              "    </tr>\n",
              "    <tr>\n",
              "      <th>91</th>\n",
              "      <td>FE580</td>\n",
              "      <td>23</td>\n",
              "      <td>Female</td>\n",
              "      <td>16</td>\n",
              "      <td>Partnered</td>\n",
              "      <td>3</td>\n",
              "      <td>2</td>\n",
              "      <td>43206</td>\n",
              "      <td>74</td>\n",
              "    </tr>\n",
              "    <tr>\n",
              "      <th>92</th>\n",
              "      <td>FE580</td>\n",
              "      <td>23</td>\n",
              "      <td>Female</td>\n",
              "      <td>14</td>\n",
              "      <td>Single</td>\n",
              "      <td>3</td>\n",
              "      <td>2</td>\n",
              "      <td>40932</td>\n",
              "      <td>53</td>\n",
              "    </tr>\n",
              "    <tr>\n",
              "      <th>93</th>\n",
              "      <td>FE580</td>\n",
              "      <td>23</td>\n",
              "      <td>Male</td>\n",
              "      <td>16</td>\n",
              "      <td>Partnered</td>\n",
              "      <td>3</td>\n",
              "      <td>3</td>\n",
              "      <td>45480</td>\n",
              "      <td>64</td>\n",
              "    </tr>\n",
              "    <tr>\n",
              "      <th>94</th>\n",
              "      <td>FE580</td>\n",
              "      <td>24</td>\n",
              "      <td>Female</td>\n",
              "      <td>14</td>\n",
              "      <td>Single</td>\n",
              "      <td>3</td>\n",
              "      <td>2</td>\n",
              "      <td>40932</td>\n",
              "      <td>85</td>\n",
              "    </tr>\n",
              "    <tr>\n",
              "      <th>95</th>\n",
              "      <td>FE580</td>\n",
              "      <td>24</td>\n",
              "      <td>Male</td>\n",
              "      <td>14</td>\n",
              "      <td>Single</td>\n",
              "      <td>3</td>\n",
              "      <td>4</td>\n",
              "      <td>48891</td>\n",
              "      <td>106</td>\n",
              "    </tr>\n",
              "    <tr>\n",
              "      <th>96</th>\n",
              "      <td>FE580</td>\n",
              "      <td>24</td>\n",
              "      <td>Female</td>\n",
              "      <td>16</td>\n",
              "      <td>Single</td>\n",
              "      <td>3</td>\n",
              "      <td>3</td>\n",
              "      <td>50028</td>\n",
              "      <td>106</td>\n",
              "    </tr>\n",
              "    <tr>\n",
              "      <th>97</th>\n",
              "      <td>FE580</td>\n",
              "      <td>25</td>\n",
              "      <td>Female</td>\n",
              "      <td>14</td>\n",
              "      <td>Partnered</td>\n",
              "      <td>2</td>\n",
              "      <td>3</td>\n",
              "      <td>45480</td>\n",
              "      <td>85</td>\n",
              "    </tr>\n",
              "    <tr>\n",
              "      <th>98</th>\n",
              "      <td>FE580</td>\n",
              "      <td>25</td>\n",
              "      <td>Female</td>\n",
              "      <td>14</td>\n",
              "      <td>Single</td>\n",
              "      <td>3</td>\n",
              "      <td>4</td>\n",
              "      <td>43206</td>\n",
              "      <td>127</td>\n",
              "    </tr>\n",
              "    <tr>\n",
              "      <th>99</th>\n",
              "      <td>FE580</td>\n",
              "      <td>25</td>\n",
              "      <td>Male</td>\n",
              "      <td>16</td>\n",
              "      <td>Partnered</td>\n",
              "      <td>2</td>\n",
              "      <td>2</td>\n",
              "      <td>52302</td>\n",
              "      <td>42</td>\n",
              "    </tr>\n",
              "    <tr>\n",
              "      <th>100</th>\n",
              "      <td>FE580</td>\n",
              "      <td>25</td>\n",
              "      <td>Female</td>\n",
              "      <td>14</td>\n",
              "      <td>Partnered</td>\n",
              "      <td>5</td>\n",
              "      <td>3</td>\n",
              "      <td>47754</td>\n",
              "      <td>106</td>\n",
              "    </tr>\n",
              "    <tr>\n",
              "      <th>101</th>\n",
              "      <td>FE580</td>\n",
              "      <td>25</td>\n",
              "      <td>Male</td>\n",
              "      <td>14</td>\n",
              "      <td>Single</td>\n",
              "      <td>3</td>\n",
              "      <td>3</td>\n",
              "      <td>45480</td>\n",
              "      <td>95</td>\n",
              "    </tr>\n",
              "    <tr>\n",
              "      <th>102</th>\n",
              "      <td>FE580</td>\n",
              "      <td>25</td>\n",
              "      <td>Female</td>\n",
              "      <td>14</td>\n",
              "      <td>Single</td>\n",
              "      <td>2</td>\n",
              "      <td>3</td>\n",
              "      <td>43206</td>\n",
              "      <td>64</td>\n",
              "    </tr>\n",
              "    <tr>\n",
              "      <th>103</th>\n",
              "      <td>FE580</td>\n",
              "      <td>25</td>\n",
              "      <td>Male</td>\n",
              "      <td>14</td>\n",
              "      <td>Partnered</td>\n",
              "      <td>4</td>\n",
              "      <td>3</td>\n",
              "      <td>45480</td>\n",
              "      <td>170</td>\n",
              "    </tr>\n",
              "    <tr>\n",
              "      <th>104</th>\n",
              "      <td>FE580</td>\n",
              "      <td>25</td>\n",
              "      <td>Male</td>\n",
              "      <td>14</td>\n",
              "      <td>Partnered</td>\n",
              "      <td>3</td>\n",
              "      <td>4</td>\n",
              "      <td>43206</td>\n",
              "      <td>106</td>\n",
              "    </tr>\n",
              "    <tr>\n",
              "      <th>105</th>\n",
              "      <td>FE580</td>\n",
              "      <td>25</td>\n",
              "      <td>Male</td>\n",
              "      <td>16</td>\n",
              "      <td>Partnered</td>\n",
              "      <td>2</td>\n",
              "      <td>3</td>\n",
              "      <td>50028</td>\n",
              "      <td>53</td>\n",
              "    </tr>\n",
              "    <tr>\n",
              "      <th>106</th>\n",
              "      <td>FE580</td>\n",
              "      <td>25</td>\n",
              "      <td>Female</td>\n",
              "      <td>14</td>\n",
              "      <td>Single</td>\n",
              "      <td>2</td>\n",
              "      <td>2</td>\n",
              "      <td>45480</td>\n",
              "      <td>42</td>\n",
              "    </tr>\n",
              "    <tr>\n",
              "      <th>107</th>\n",
              "      <td>FE580</td>\n",
              "      <td>25</td>\n",
              "      <td>Male</td>\n",
              "      <td>14</td>\n",
              "      <td>Single</td>\n",
              "      <td>4</td>\n",
              "      <td>3</td>\n",
              "      <td>48891</td>\n",
              "      <td>127</td>\n",
              "    </tr>\n",
              "    <tr>\n",
              "      <th>108</th>\n",
              "      <td>FE580</td>\n",
              "      <td>26</td>\n",
              "      <td>Female</td>\n",
              "      <td>16</td>\n",
              "      <td>Partnered</td>\n",
              "      <td>4</td>\n",
              "      <td>3</td>\n",
              "      <td>45480</td>\n",
              "      <td>85</td>\n",
              "    </tr>\n",
              "    <tr>\n",
              "      <th>109</th>\n",
              "      <td>FE580</td>\n",
              "      <td>26</td>\n",
              "      <td>Female</td>\n",
              "      <td>16</td>\n",
              "      <td>Single</td>\n",
              "      <td>4</td>\n",
              "      <td>4</td>\n",
              "      <td>50028</td>\n",
              "      <td>127</td>\n",
              "    </tr>\n",
              "    <tr>\n",
              "      <th>110</th>\n",
              "      <td>FE580</td>\n",
              "      <td>26</td>\n",
              "      <td>Male</td>\n",
              "      <td>16</td>\n",
              "      <td>Single</td>\n",
              "      <td>4</td>\n",
              "      <td>3</td>\n",
              "      <td>51165</td>\n",
              "      <td>106</td>\n",
              "    </tr>\n",
              "    <tr>\n",
              "      <th>111</th>\n",
              "      <td>FE580</td>\n",
              "      <td>27</td>\n",
              "      <td>Male</td>\n",
              "      <td>14</td>\n",
              "      <td>Single</td>\n",
              "      <td>4</td>\n",
              "      <td>2</td>\n",
              "      <td>45480</td>\n",
              "      <td>53</td>\n",
              "    </tr>\n",
              "    <tr>\n",
              "      <th>112</th>\n",
              "      <td>FE580</td>\n",
              "      <td>29</td>\n",
              "      <td>Female</td>\n",
              "      <td>14</td>\n",
              "      <td>Partnered</td>\n",
              "      <td>3</td>\n",
              "      <td>3</td>\n",
              "      <td>51165</td>\n",
              "      <td>95</td>\n",
              "    </tr>\n",
              "    <tr>\n",
              "      <th>113</th>\n",
              "      <td>FE580</td>\n",
              "      <td>30</td>\n",
              "      <td>Female</td>\n",
              "      <td>14</td>\n",
              "      <td>Single</td>\n",
              "      <td>3</td>\n",
              "      <td>3</td>\n",
              "      <td>57987</td>\n",
              "      <td>74</td>\n",
              "    </tr>\n",
              "    <tr>\n",
              "      <th>114</th>\n",
              "      <td>FE580</td>\n",
              "      <td>30</td>\n",
              "      <td>Female</td>\n",
              "      <td>13</td>\n",
              "      <td>Single</td>\n",
              "      <td>4</td>\n",
              "      <td>3</td>\n",
              "      <td>46617</td>\n",
              "      <td>106</td>\n",
              "    </tr>\n",
              "    <tr>\n",
              "      <th>115</th>\n",
              "      <td>FE580</td>\n",
              "      <td>31</td>\n",
              "      <td>Male</td>\n",
              "      <td>16</td>\n",
              "      <td>Partnered</td>\n",
              "      <td>3</td>\n",
              "      <td>3</td>\n",
              "      <td>52302</td>\n",
              "      <td>95</td>\n",
              "    </tr>\n",
              "    <tr>\n",
              "      <th>116</th>\n",
              "      <td>FE580</td>\n",
              "      <td>31</td>\n",
              "      <td>Female</td>\n",
              "      <td>16</td>\n",
              "      <td>Partnered</td>\n",
              "      <td>2</td>\n",
              "      <td>3</td>\n",
              "      <td>51165</td>\n",
              "      <td>64</td>\n",
              "    </tr>\n",
              "    <tr>\n",
              "      <th>117</th>\n",
              "      <td>FE580</td>\n",
              "      <td>31</td>\n",
              "      <td>Female</td>\n",
              "      <td>18</td>\n",
              "      <td>Single</td>\n",
              "      <td>2</td>\n",
              "      <td>1</td>\n",
              "      <td>65220</td>\n",
              "      <td>21</td>\n",
              "    </tr>\n",
              "    <tr>\n",
              "      <th>118</th>\n",
              "      <td>FE580</td>\n",
              "      <td>32</td>\n",
              "      <td>Male</td>\n",
              "      <td>16</td>\n",
              "      <td>Single</td>\n",
              "      <td>4</td>\n",
              "      <td>3</td>\n",
              "      <td>60261</td>\n",
              "      <td>127</td>\n",
              "    </tr>\n",
              "    <tr>\n",
              "      <th>119</th>\n",
              "      <td>FE580</td>\n",
              "      <td>32</td>\n",
              "      <td>Male</td>\n",
              "      <td>16</td>\n",
              "      <td>Partnered</td>\n",
              "      <td>3</td>\n",
              "      <td>3</td>\n",
              "      <td>53439</td>\n",
              "      <td>95</td>\n",
              "    </tr>\n",
              "    <tr>\n",
              "      <th>120</th>\n",
              "      <td>FE580</td>\n",
              "      <td>33</td>\n",
              "      <td>Male</td>\n",
              "      <td>13</td>\n",
              "      <td>Partnered</td>\n",
              "      <td>4</td>\n",
              "      <td>4</td>\n",
              "      <td>53439</td>\n",
              "      <td>170</td>\n",
              "    </tr>\n",
              "    <tr>\n",
              "      <th>121</th>\n",
              "      <td>FE580</td>\n",
              "      <td>33</td>\n",
              "      <td>Female</td>\n",
              "      <td>16</td>\n",
              "      <td>Partnered</td>\n",
              "      <td>2</td>\n",
              "      <td>3</td>\n",
              "      <td>50028</td>\n",
              "      <td>85</td>\n",
              "    </tr>\n",
              "    <tr>\n",
              "      <th>122</th>\n",
              "      <td>FE580</td>\n",
              "      <td>33</td>\n",
              "      <td>Male</td>\n",
              "      <td>16</td>\n",
              "      <td>Partnered</td>\n",
              "      <td>3</td>\n",
              "      <td>3</td>\n",
              "      <td>51165</td>\n",
              "      <td>95</td>\n",
              "    </tr>\n",
              "    <tr>\n",
              "      <th>123</th>\n",
              "      <td>FE580</td>\n",
              "      <td>33</td>\n",
              "      <td>Female</td>\n",
              "      <td>16</td>\n",
              "      <td>Partnered</td>\n",
              "      <td>5</td>\n",
              "      <td>3</td>\n",
              "      <td>53439</td>\n",
              "      <td>95</td>\n",
              "    </tr>\n",
              "    <tr>\n",
              "      <th>124</th>\n",
              "      <td>FE580</td>\n",
              "      <td>33</td>\n",
              "      <td>Female</td>\n",
              "      <td>18</td>\n",
              "      <td>Single</td>\n",
              "      <td>3</td>\n",
              "      <td>4</td>\n",
              "      <td>47754</td>\n",
              "      <td>74</td>\n",
              "    </tr>\n",
              "    <tr>\n",
              "      <th>125</th>\n",
              "      <td>FE580</td>\n",
              "      <td>34</td>\n",
              "      <td>Female</td>\n",
              "      <td>16</td>\n",
              "      <td>Partnered</td>\n",
              "      <td>4</td>\n",
              "      <td>3</td>\n",
              "      <td>64809</td>\n",
              "      <td>95</td>\n",
              "    </tr>\n",
              "    <tr>\n",
              "      <th>126</th>\n",
              "      <td>FE580</td>\n",
              "      <td>34</td>\n",
              "      <td>Male</td>\n",
              "      <td>16</td>\n",
              "      <td>Partnered</td>\n",
              "      <td>3</td>\n",
              "      <td>4</td>\n",
              "      <td>59124</td>\n",
              "      <td>85</td>\n",
              "    </tr>\n",
              "    <tr>\n",
              "      <th>127</th>\n",
              "      <td>FE580</td>\n",
              "      <td>34</td>\n",
              "      <td>Male</td>\n",
              "      <td>15</td>\n",
              "      <td>Single</td>\n",
              "      <td>3</td>\n",
              "      <td>3</td>\n",
              "      <td>67083</td>\n",
              "      <td>85</td>\n",
              "    </tr>\n",
              "    <tr>\n",
              "      <th>128</th>\n",
              "      <td>FE580</td>\n",
              "      <td>35</td>\n",
              "      <td>Female</td>\n",
              "      <td>14</td>\n",
              "      <td>Partnered</td>\n",
              "      <td>3</td>\n",
              "      <td>2</td>\n",
              "      <td>52302</td>\n",
              "      <td>53</td>\n",
              "    </tr>\n",
              "    <tr>\n",
              "      <th>129</th>\n",
              "      <td>FE580</td>\n",
              "      <td>35</td>\n",
              "      <td>Male</td>\n",
              "      <td>16</td>\n",
              "      <td>Partnered</td>\n",
              "      <td>3</td>\n",
              "      <td>2</td>\n",
              "      <td>53439</td>\n",
              "      <td>53</td>\n",
              "    </tr>\n",
              "    <tr>\n",
              "      <th>130</th>\n",
              "      <td>FE580</td>\n",
              "      <td>35</td>\n",
              "      <td>Female</td>\n",
              "      <td>16</td>\n",
              "      <td>Single</td>\n",
              "      <td>3</td>\n",
              "      <td>2</td>\n",
              "      <td>50028</td>\n",
              "      <td>64</td>\n",
              "    </tr>\n",
              "    <tr>\n",
              "      <th>131</th>\n",
              "      <td>FE580</td>\n",
              "      <td>35</td>\n",
              "      <td>Male</td>\n",
              "      <td>16</td>\n",
              "      <td>Partnered</td>\n",
              "      <td>3</td>\n",
              "      <td>3</td>\n",
              "      <td>53439</td>\n",
              "      <td>95</td>\n",
              "    </tr>\n",
              "    <tr>\n",
              "      <th>132</th>\n",
              "      <td>FE580</td>\n",
              "      <td>37</td>\n",
              "      <td>Female</td>\n",
              "      <td>16</td>\n",
              "      <td>Partnered</td>\n",
              "      <td>2</td>\n",
              "      <td>3</td>\n",
              "      <td>48891</td>\n",
              "      <td>85</td>\n",
              "    </tr>\n",
              "    <tr>\n",
              "      <th>133</th>\n",
              "      <td>FE580</td>\n",
              "      <td>38</td>\n",
              "      <td>Female</td>\n",
              "      <td>16</td>\n",
              "      <td>Partnered</td>\n",
              "      <td>4</td>\n",
              "      <td>3</td>\n",
              "      <td>62535</td>\n",
              "      <td>85</td>\n",
              "    </tr>\n",
              "    <tr>\n",
              "      <th>134</th>\n",
              "      <td>FE580</td>\n",
              "      <td>38</td>\n",
              "      <td>Male</td>\n",
              "      <td>16</td>\n",
              "      <td>Partnered</td>\n",
              "      <td>3</td>\n",
              "      <td>3</td>\n",
              "      <td>59124</td>\n",
              "      <td>106</td>\n",
              "    </tr>\n",
              "    <tr>\n",
              "      <th>135</th>\n",
              "      <td>FE580</td>\n",
              "      <td>40</td>\n",
              "      <td>Female</td>\n",
              "      <td>16</td>\n",
              "      <td>Partnered</td>\n",
              "      <td>3</td>\n",
              "      <td>3</td>\n",
              "      <td>61398</td>\n",
              "      <td>85</td>\n",
              "    </tr>\n",
              "    <tr>\n",
              "      <th>136</th>\n",
              "      <td>FE580</td>\n",
              "      <td>40</td>\n",
              "      <td>Female</td>\n",
              "      <td>16</td>\n",
              "      <td>Single</td>\n",
              "      <td>3</td>\n",
              "      <td>3</td>\n",
              "      <td>57987</td>\n",
              "      <td>85</td>\n",
              "    </tr>\n",
              "    <tr>\n",
              "      <th>137</th>\n",
              "      <td>FE580</td>\n",
              "      <td>40</td>\n",
              "      <td>Male</td>\n",
              "      <td>16</td>\n",
              "      <td>Partnered</td>\n",
              "      <td>3</td>\n",
              "      <td>3</td>\n",
              "      <td>64809</td>\n",
              "      <td>95</td>\n",
              "    </tr>\n",
              "    <tr>\n",
              "      <th>138</th>\n",
              "      <td>FE580</td>\n",
              "      <td>45</td>\n",
              "      <td>Male</td>\n",
              "      <td>16</td>\n",
              "      <td>Partnered</td>\n",
              "      <td>2</td>\n",
              "      <td>2</td>\n",
              "      <td>54576</td>\n",
              "      <td>42</td>\n",
              "    </tr>\n",
              "    <tr>\n",
              "      <th>139</th>\n",
              "      <td>FE580</td>\n",
              "      <td>48</td>\n",
              "      <td>Male</td>\n",
              "      <td>16</td>\n",
              "      <td>Partnered</td>\n",
              "      <td>2</td>\n",
              "      <td>3</td>\n",
              "      <td>57987</td>\n",
              "      <td>64</td>\n",
              "    </tr>\n",
              "  </tbody>\n",
              "</table>\n",
              "</div>\n",
              "    <div class=\"colab-df-buttons\">\n",
              "\n",
              "  <div class=\"colab-df-container\">\n",
              "    <button class=\"colab-df-convert\" onclick=\"convertToInteractive('df-34f7eb49-8f47-4788-84bf-16b3f8cbeec1')\"\n",
              "            title=\"Convert this dataframe to an interactive table.\"\n",
              "            style=\"display:none;\">\n",
              "\n",
              "  <svg xmlns=\"http://www.w3.org/2000/svg\" height=\"24px\" viewBox=\"0 -960 960 960\">\n",
              "    <path d=\"M120-120v-720h720v720H120Zm60-500h600v-160H180v160Zm220 220h160v-160H400v160Zm0 220h160v-160H400v160ZM180-400h160v-160H180v160Zm440 0h160v-160H620v160ZM180-180h160v-160H180v160Zm440 0h160v-160H620v160Z\"/>\n",
              "  </svg>\n",
              "    </button>\n",
              "\n",
              "  <style>\n",
              "    .colab-df-container {\n",
              "      display:flex;\n",
              "      gap: 12px;\n",
              "    }\n",
              "\n",
              "    .colab-df-convert {\n",
              "      background-color: #E8F0FE;\n",
              "      border: none;\n",
              "      border-radius: 50%;\n",
              "      cursor: pointer;\n",
              "      display: none;\n",
              "      fill: #1967D2;\n",
              "      height: 32px;\n",
              "      padding: 0 0 0 0;\n",
              "      width: 32px;\n",
              "    }\n",
              "\n",
              "    .colab-df-convert:hover {\n",
              "      background-color: #E2EBFA;\n",
              "      box-shadow: 0px 1px 2px rgba(60, 64, 67, 0.3), 0px 1px 3px 1px rgba(60, 64, 67, 0.15);\n",
              "      fill: #174EA6;\n",
              "    }\n",
              "\n",
              "    .colab-df-buttons div {\n",
              "      margin-bottom: 4px;\n",
              "    }\n",
              "\n",
              "    [theme=dark] .colab-df-convert {\n",
              "      background-color: #3B4455;\n",
              "      fill: #D2E3FC;\n",
              "    }\n",
              "\n",
              "    [theme=dark] .colab-df-convert:hover {\n",
              "      background-color: #434B5C;\n",
              "      box-shadow: 0px 1px 3px 1px rgba(0, 0, 0, 0.15);\n",
              "      filter: drop-shadow(0px 1px 2px rgba(0, 0, 0, 0.3));\n",
              "      fill: #FFFFFF;\n",
              "    }\n",
              "  </style>\n",
              "\n",
              "    <script>\n",
              "      const buttonEl =\n",
              "        document.querySelector('#df-34f7eb49-8f47-4788-84bf-16b3f8cbeec1 button.colab-df-convert');\n",
              "      buttonEl.style.display =\n",
              "        google.colab.kernel.accessAllowed ? 'block' : 'none';\n",
              "\n",
              "      async function convertToInteractive(key) {\n",
              "        const element = document.querySelector('#df-34f7eb49-8f47-4788-84bf-16b3f8cbeec1');\n",
              "        const dataTable =\n",
              "          await google.colab.kernel.invokeFunction('convertToInteractive',\n",
              "                                                    [key], {});\n",
              "        if (!dataTable) return;\n",
              "\n",
              "        const docLinkHtml = 'Like what you see? Visit the ' +\n",
              "          '<a target=\"_blank\" href=https://colab.research.google.com/notebooks/data_table.ipynb>data table notebook</a>'\n",
              "          + ' to learn more about interactive tables.';\n",
              "        element.innerHTML = '';\n",
              "        dataTable['output_type'] = 'display_data';\n",
              "        await google.colab.output.renderOutput(dataTable, element);\n",
              "        const docLink = document.createElement('div');\n",
              "        docLink.innerHTML = docLinkHtml;\n",
              "        element.appendChild(docLink);\n",
              "      }\n",
              "    </script>\n",
              "  </div>\n",
              "\n",
              "\n",
              "<div id=\"df-2c847c40-754a-4785-b802-3e9dccb1de9c\">\n",
              "  <button class=\"colab-df-quickchart\" onclick=\"quickchart('df-2c847c40-754a-4785-b802-3e9dccb1de9c')\"\n",
              "            title=\"Suggest charts\"\n",
              "            style=\"display:none;\">\n",
              "\n",
              "<svg xmlns=\"http://www.w3.org/2000/svg\" height=\"24px\"viewBox=\"0 0 24 24\"\n",
              "     width=\"24px\">\n",
              "    <g>\n",
              "        <path d=\"M19 3H5c-1.1 0-2 .9-2 2v14c0 1.1.9 2 2 2h14c1.1 0 2-.9 2-2V5c0-1.1-.9-2-2-2zM9 17H7v-7h2v7zm4 0h-2V7h2v10zm4 0h-2v-4h2v4z\"/>\n",
              "    </g>\n",
              "</svg>\n",
              "  </button>\n",
              "\n",
              "<style>\n",
              "  .colab-df-quickchart {\n",
              "      --bg-color: #E8F0FE;\n",
              "      --fill-color: #1967D2;\n",
              "      --hover-bg-color: #E2EBFA;\n",
              "      --hover-fill-color: #174EA6;\n",
              "      --disabled-fill-color: #AAA;\n",
              "      --disabled-bg-color: #DDD;\n",
              "  }\n",
              "\n",
              "  [theme=dark] .colab-df-quickchart {\n",
              "      --bg-color: #3B4455;\n",
              "      --fill-color: #D2E3FC;\n",
              "      --hover-bg-color: #434B5C;\n",
              "      --hover-fill-color: #FFFFFF;\n",
              "      --disabled-bg-color: #3B4455;\n",
              "      --disabled-fill-color: #666;\n",
              "  }\n",
              "\n",
              "  .colab-df-quickchart {\n",
              "    background-color: var(--bg-color);\n",
              "    border: none;\n",
              "    border-radius: 50%;\n",
              "    cursor: pointer;\n",
              "    display: none;\n",
              "    fill: var(--fill-color);\n",
              "    height: 32px;\n",
              "    padding: 0;\n",
              "    width: 32px;\n",
              "  }\n",
              "\n",
              "  .colab-df-quickchart:hover {\n",
              "    background-color: var(--hover-bg-color);\n",
              "    box-shadow: 0 1px 2px rgba(60, 64, 67, 0.3), 0 1px 3px 1px rgba(60, 64, 67, 0.15);\n",
              "    fill: var(--button-hover-fill-color);\n",
              "  }\n",
              "\n",
              "  .colab-df-quickchart-complete:disabled,\n",
              "  .colab-df-quickchart-complete:disabled:hover {\n",
              "    background-color: var(--disabled-bg-color);\n",
              "    fill: var(--disabled-fill-color);\n",
              "    box-shadow: none;\n",
              "  }\n",
              "\n",
              "  .colab-df-spinner {\n",
              "    border: 2px solid var(--fill-color);\n",
              "    border-color: transparent;\n",
              "    border-bottom-color: var(--fill-color);\n",
              "    animation:\n",
              "      spin 1s steps(1) infinite;\n",
              "  }\n",
              "\n",
              "  @keyframes spin {\n",
              "    0% {\n",
              "      border-color: transparent;\n",
              "      border-bottom-color: var(--fill-color);\n",
              "      border-left-color: var(--fill-color);\n",
              "    }\n",
              "    20% {\n",
              "      border-color: transparent;\n",
              "      border-left-color: var(--fill-color);\n",
              "      border-top-color: var(--fill-color);\n",
              "    }\n",
              "    30% {\n",
              "      border-color: transparent;\n",
              "      border-left-color: var(--fill-color);\n",
              "      border-top-color: var(--fill-color);\n",
              "      border-right-color: var(--fill-color);\n",
              "    }\n",
              "    40% {\n",
              "      border-color: transparent;\n",
              "      border-right-color: var(--fill-color);\n",
              "      border-top-color: var(--fill-color);\n",
              "    }\n",
              "    60% {\n",
              "      border-color: transparent;\n",
              "      border-right-color: var(--fill-color);\n",
              "    }\n",
              "    80% {\n",
              "      border-color: transparent;\n",
              "      border-right-color: var(--fill-color);\n",
              "      border-bottom-color: var(--fill-color);\n",
              "    }\n",
              "    90% {\n",
              "      border-color: transparent;\n",
              "      border-bottom-color: var(--fill-color);\n",
              "    }\n",
              "  }\n",
              "</style>\n",
              "\n",
              "  <script>\n",
              "    async function quickchart(key) {\n",
              "      const quickchartButtonEl =\n",
              "        document.querySelector('#' + key + ' button');\n",
              "      quickchartButtonEl.disabled = true;  // To prevent multiple clicks.\n",
              "      quickchartButtonEl.classList.add('colab-df-spinner');\n",
              "      try {\n",
              "        const charts = await google.colab.kernel.invokeFunction(\n",
              "            'suggestCharts', [key], {});\n",
              "      } catch (error) {\n",
              "        console.error('Error during call to suggestCharts:', error);\n",
              "      }\n",
              "      quickchartButtonEl.classList.remove('colab-df-spinner');\n",
              "      quickchartButtonEl.classList.add('colab-df-quickchart-complete');\n",
              "    }\n",
              "    (() => {\n",
              "      let quickchartButtonEl =\n",
              "        document.querySelector('#df-2c847c40-754a-4785-b802-3e9dccb1de9c button');\n",
              "      quickchartButtonEl.style.display =\n",
              "        google.colab.kernel.accessAllowed ? 'block' : 'none';\n",
              "    })();\n",
              "  </script>\n",
              "</div>\n",
              "    </div>\n",
              "  </div>\n"
            ]
          },
          "metadata": {},
          "execution_count": 61
        }
      ]
    },
    {
      "cell_type": "markdown",
      "source": [
        "###**Step 2:** Calculate the Pearson Correlation Coeffient (r) using **Pandas** of Each Type of Treadmill Product as a Measure of the Correlation Between Age and Mileage\n",
        "\n",
        "The Pearson correlation coefficient, represented by the symbol $r$, is used to measure the linear relationship between two variables in a dataset. It is calculated using Pandas, and can only be used for quantitative data. It helps gauge the strength and direction of a linear relationship between two continuous data sets, providing a numerical value between -1 and 1. We are going to calculate the Pearson Correlation Coefficient through Pandas, however, the formula is as seen below:\n",
        "\n",
        "![image.png](data:image/png;base64,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)\n",
        "\n"
      ],
      "metadata": {
        "id": "0EtBq2JLW3m3"
      }
    },
    {
      "cell_type": "markdown",
      "source": [
        "Where:\n",
        "$r$\t=\tcorrelation coefficient\n",
        "\n",
        "$x_{i}$\t=\tvalues of the x-variable in a sample\n",
        "\n",
        "$\\bar{x}$\t=\tmean of the values of the x-variable\n",
        "\n",
        "$y_{i}$\t=\tvalues of the y-variable in a sample\n",
        "\n",
        "$\\bar{y}$\t=\tmean of the values of the y-variable"
      ],
      "metadata": {
        "id": "26Xt8ar8W3m4"
      }
    },
    {
      "cell_type": "markdown",
      "source": [
        "The Pearson Correlation Coefficient can help us determine the:\n",
        "\n",
        "1. Direction of the Relationship:\n",
        "  * A positive $r$ indicates a positive linear relationship: as one variable increases, the other increases.\n",
        "  * A negative $r$ indicates a negative linear relationship: as one variable increases, the other tends to decrease.\n",
        "\n",
        "2. Strength of the Relationship:\n",
        "  * The closer $r$ is to 1 or -1, the stronger the linear relationship. A value of 1 or -1 implies a perfect linear relationship.\n",
        "\n",
        "3. And if it has Zero Correlation:\n",
        "  * A $r$ value of 0 indicates no linear correlation. However, it's important to note that there may still be some non-linear relationships.\n",
        "\n",
        "However, it is important to remember that correlation does not imply causation, this is why even if two variables are very strongly correlated, it might not mean that they are caused by each other. This is something we keep in mind when using the Pearson Correlation Coefficient.\n",
        "\n",
        "Below is a table of how the Pearson Correlation Coefficient is used to determine a relationship and correlation.\n",
        "\n",
        "**Determining Pearson's r Value**\n",
        "\n",
        "| Pearson’s r Value\t| Correlation Between x and y |\n",
        "|:----------------- |:--------------------------- |\n",
        "| $r = 1$             | Perfect positive linear relationship|\n",
        "| $r > 0$\t            | Positive correlation |\n",
        "| $r = 0$\t            | No linear relationship |\n",
        "| $r < 0$\t            | Negative correlation\n",
        "| $r = -1$\t        | Perfect negative linear relationship |\n"
      ],
      "metadata": {
        "id": "RnKJNccuW3m4"
      }
    },
    {
      "cell_type": "markdown",
      "source": [
        "**Pearson's Correlation Coefficient between Age and Milage for Product A**"
      ],
      "metadata": {
        "id": "ivXhCRUPW3m4"
      }
    },
    {
      "cell_type": "code",
      "source": [
        "correlation_B = productB['Age'].corr(productB['Miles'])\n",
        "\n",
        "print(f'Product B (FE580) - Correlation: {correlation_B:.2f}')"
      ],
      "metadata": {
        "colab": {
          "base_uri": "https://localhost:8080/"
        },
        "outputId": "98bc7748-4ad6-4018-cc20-aea0e2b234d9",
        "id": "CspeNU_jW3m4"
      },
      "execution_count": null,
      "outputs": [
        {
          "output_type": "stream",
          "name": "stdout",
          "text": [
            "Product B (FE580) - Correlation: -0.12\n"
          ]
        }
      ]
    },
    {
      "cell_type": "markdown",
      "source": [
        "**Results**\n",
        "\n",
        "Product B (FE580) has a Pearson Correlation Coefficient of **-0.12** between Age and Milage. Using the chart above to determine the meaning of the $r$ value, we can see that for Product B, $r$ < 0 but $r$ > -1, and is closer to 0 than to -1, this may mean that there is a slight negative correlation."
      ],
      "metadata": {
        "id": "6kv01UeDW3m4"
      }
    },
    {
      "cell_type": "markdown",
      "source": [
        "###**Step 3**: Create a scatter plot for Product B using **Seaborn**\n",
        "\n"
      ],
      "metadata": {
        "id": "X31Pm8GvW3m4"
      }
    },
    {
      "cell_type": "code",
      "source": [
        "sns.scatterplot(\n",
        "    x = \"Age\",\n",
        "    y = \"Miles\",\n",
        "    data = productB,\n",
        "    hue = \"Miles\",\n",
        "    palette = \"flare\"\n",
        ").set_title(f'Product B - Correlation: {correlation_B:.2f}');"
      ],
      "metadata": {
        "colab": {
          "base_uri": "https://localhost:8080/",
          "height": 472
        },
        "outputId": "f5712a5b-7587-46a4-bc52-109ebbcf898f",
        "id": "jig14_TcW3m4"
      },
      "execution_count": null,
      "outputs": [
        {
          "output_type": "display_data",
          "data": {
            "text/plain": [
              "<Figure size 640x480 with 1 Axes>"
            ],
            "image/png": "[encoded data removed]"
          },
          "metadata": {}
        }
      ]
    },
    {
      "cell_type": "markdown",
      "source": [
        "###**Step 4**: Create a line of best fit for Product B using **Seaborn’s lmplot()**\n",
        "\n"
      ],
      "metadata": {
        "id": "ePhQbve-W3m4"
      }
    },
    {
      "cell_type": "code",
      "source": [
        "sns.lmplot(\n",
        "    x = \"Age\",\n",
        "    y = \"Miles\",\n",
        "    data = productB.dropna(),\n",
        "    #hue = \"Miles\",\n",
        "    #palette = \"flare\"\n",
        ").set(title = (f'Product B - Correlation: {correlation_B:.2f}'));"
      ],
      "metadata": {
        "colab": {
          "base_uri": "https://localhost:8080/",
          "height": 529
        },
        "outputId": "71a015bf-d88b-4556-d43e-5ee2827a0b29",
        "id": "r2uEtLm0W3m4"
      },
      "execution_count": null,
      "outputs": [
        {
          "output_type": "display_data",
          "data": {
            "text/plain": [
              "<Figure size 500x500 with 1 Axes>"
            ],
            "image/png": "[encoded data removed]"
          },
          "metadata": {}
        }
      ]
    },
    {
      "cell_type": "markdown",
      "source": [
        "###**Step 5**: Find the p-value using **pearsonr() function** from the **Script Stats Library**\n",
        "\n",
        "\n",
        "\n"
      ],
      "metadata": {
        "id": "Nizpd8fdW3m4"
      }
    },
    {
      "cell_type": "markdown",
      "source": [
        "Due to the fact that the current tests are not specific enough to determine if there is a relationship between the age and milage, objective is to determine both the p-value and the confidence interval (a range of probable values) for the actual population correlation coefficient (𝜌).\n",
        "\n",
        "To achieve this, the `pearsonr()` function within the Python library known as the `scipy` will be employed. This function will calculate the Pearson correlation coefficient and its associated p-value, enabling the subsequent derivation of the confidence interval from the obtained results."
      ],
      "metadata": {
        "id": "-OAgeyVPW3m4"
      }
    },
    {
      "cell_type": "code",
      "source": [
        "#Pearson Correlation and p-value for Product A\n",
        "\n",
        "from scipy import stats\n",
        "  # Calculate the Pearson correlation and p-value\n",
        "  # by calling stats.pearsonr function from scipy\n",
        "\n",
        "pearson_corrB, p_valueB = stats.pearsonr(productB[\"Age\"], productB[\"Miles\"])\n",
        "print('Product B:')\n",
        "print(f'The pearson correlation coeffient for age vs. miles in Product B is {round(pearson_corrB,3)}.')\n",
        "print(f'The p-value for Product B is {round(p_valueB, 3)}.')"
      ],
      "metadata": {
        "colab": {
          "base_uri": "https://localhost:8080/"
        },
        "outputId": "44905f15-cbd0-4e59-e54c-40cac7a94419",
        "id": "rGHFxmg7W3m5"
      },
      "execution_count": null,
      "outputs": [
        {
          "output_type": "stream",
          "name": "stdout",
          "text": [
            "Product B:\n",
            "The pearson correlation coeffient for age vs. miles in Product B is -0.125.\n",
            "The p-value for Product B is 0.342.\n"
          ]
        }
      ]
    },
    {
      "cell_type": "markdown",
      "source": [
        "###**Step 6**: **Retain or Reject** the null hypothesis\n",
        "\n"
      ],
      "metadata": {
        "id": "a5HXKgbUW3m5"
      }
    },
    {
      "cell_type": "code",
      "source": [
        "\n",
        "if p_valueB < 0.05:\n",
        "   print(\"Statistically Significant Relationship\\n\")\n",
        "else:\n",
        "   print(\"No Statistically Significant Relationship\\n\")\n"
      ],
      "metadata": {
        "colab": {
          "base_uri": "https://localhost:8080/"
        },
        "outputId": "b23b49e2-8cb8-428f-dc62-51e29e52eb3d",
        "id": "gRekHXRiW3m5"
      },
      "execution_count": null,
      "outputs": [
        {
          "output_type": "stream",
          "name": "stdout",
          "text": [
            "No Statistically Significant Relationship\n",
            "\n"
          ]
        }
      ]
    },
    {
      "cell_type": "markdown",
      "source": [
        "# Create scatter plot for FE605 to determine of there is a relationship between the miles the costumer expects to walk/run and the age of the customers"
      ],
      "metadata": {
        "id": "JYClyEPPW3m5"
      }
    },
    {
      "cell_type": "markdown",
      "source": [
        "###**Step 1:** Extract the FE580 Treadmill Product from the Product Series"
      ],
      "metadata": {
        "id": "Zbhd_yrfW3m5"
      }
    },
    {
      "cell_type": "markdown",
      "source": [
        "To extract the product FE580 from the Product Series of the Fitness dataset, it is nicknamed `\"productB.\"` Then, `productB` is defined as followed."
      ],
      "metadata": {
        "id": "wUSbxvyHW3m5"
      }
    },
    {
      "cell_type": "code",
      "source": [
        "# Seperate Each Treadmill Type within the Product Series\n",
        "\n",
        "productC = fitness_df[(fitness_df['Product'] == 'FE605')]\n",
        "print(\"The product 'FE605' is dubbed 'product C', and is pulled out of the rest of the fitness_df dataset, as shown below.\\n\")\n",
        "productC"
      ],
      "metadata": {
        "colab": {
          "base_uri": "https://localhost:8080/",
          "height": 1000
        },
        "outputId": "65195292-8648-4059-aba1-16348e3c298f",
        "id": "1nfUzsr_W3m5"
      },
      "execution_count": null,
      "outputs": [
        {
          "output_type": "stream",
          "name": "stdout",
          "text": [
            "The product 'FE605' is dubbed 'product C', and is pulled out of the rest of the fitness_df dataset, as shown below.\n",
            "\n"
          ]
        },
        {
          "output_type": "execute_result",
          "data": {
            "text/plain": [
              "    Product  Age  Gender  Education MaritalStatus  Usage  Fitness  Income  \\\n",
              "140   FE605   22    Male         14        Single      4        3   48658   \n",
              "141   FE605   22    Male         16        Single      3        5   54781   \n",
              "142   FE605   22    Male         18        Single      4        5   48556   \n",
              "143   FE605   23    Male         16        Single      4        5   58516   \n",
              "144   FE605   23  Female         18        Single      5        4   53536   \n",
              "145   FE605   23    Male         16        Single      4        5   48556   \n",
              "146   FE605   24    Male         16        Single      4        5   61006   \n",
              "147   FE605   24    Male         18     Partnered      4        5   57271   \n",
              "148   FE605   24  Female         16        Single      5        5   52291   \n",
              "149   FE605   24    Male         16        Single      5        5   49801   \n",
              "150   FE605   25    Male         16     Partnered      4        5   49801   \n",
              "151   FE605   25    Male         16     Partnered      4        4   62251   \n",
              "152   FE605   25  Female         18     Partnered      5        5   61006   \n",
              "153   FE605   25    Male         18     Partnered      4        3   64741   \n",
              "154   FE605   25    Male         18     Partnered      6        4   70966   \n",
              "155   FE605   25    Male         18     Partnered      6        5   75946   \n",
              "156   FE605   25    Male         20     Partnered      4        5   74701   \n",
              "157   FE605   26  Female         21        Single      4        3   69721   \n",
              "158   FE605   26    Male         16     Partnered      5        4   64741   \n",
              "159   FE605   27    Male         16     Partnered      4        5   83416   \n",
              "160   FE605   27    Male         18        Single      4        3   88396   \n",
              "161   FE605   27    Male         21     Partnered      4        4   90886   \n",
              "162   FE605   28  Female         18     Partnered      6        5   92131   \n",
              "163   FE605   28    Male         18     Partnered      7        5   77191   \n",
              "164   FE605   28    Male         18        Single      6        5   88396   \n",
              "165   FE605   29    Male         18        Single      5        5   52290   \n",
              "166   FE605   29    Male         14     Partnered      7        5   85906   \n",
              "167   FE605   30  Female         16     Partnered      6        5   90886   \n",
              "168   FE605   30    Male         18     Partnered      5        4  103336   \n",
              "169   FE605   30    Male         18     Partnered      5        5   99601   \n",
              "170   FE605   31    Male         16     Partnered      6        5   89641   \n",
              "171   FE605   33  Female         18     Partnered      4        5   95866   \n",
              "172   FE605   34    Male         16        Single      5        5   92131   \n",
              "173   FE605   35    Male         16     Partnered      4        5   92131   \n",
              "174   FE605   38    Male         18     Partnered      5        5  104581   \n",
              "175   FE605   40    Male         21        Single      6        5   83416   \n",
              "176   FE605   42    Male         18        Single      5        4   89641   \n",
              "177   FE605   45    Male         16        Single      5        5   90886   \n",
              "178   FE605   47    Male         18     Partnered      4        5  104581   \n",
              "179   FE605   48    Male         18     Partnered      4        5   95508   \n",
              "\n",
              "     Miles  \n",
              "140    106  \n",
              "141    120  \n",
              "142    200  \n",
              "143    140  \n",
              "144    100  \n",
              "145    100  \n",
              "146    100  \n",
              "147     80  \n",
              "148    200  \n",
              "149    160  \n",
              "150    120  \n",
              "151    160  \n",
              "152    200  \n",
              "153    100  \n",
              "154    180  \n",
              "155    240  \n",
              "156    170  \n",
              "157    100  \n",
              "158    180  \n",
              "159    160  \n",
              "160    100  \n",
              "161    100  \n",
              "162    180  \n",
              "163    180  \n",
              "164    150  \n",
              "165    180  \n",
              "166    300  \n",
              "167    280  \n",
              "168    160  \n",
              "169    150  \n",
              "170    260  \n",
              "171    200  \n",
              "172    150  \n",
              "173    360  \n",
              "174    150  \n",
              "175    200  \n",
              "176    200  \n",
              "177    160  \n",
              "178    120  \n",
              "179    180  "
            ],
            "text/html": [
              "\n",
              "  <div id=\"df-79dfd170-c962-4be5-ad30-88f5bdaa3298\" class=\"colab-df-container\">\n",
              "    <div>\n",
              "<style scoped>\n",
              "    .dataframe tbody tr th:only-of-type {\n",
              "        vertical-align: middle;\n",
              "    }\n",
              "\n",
              "    .dataframe tbody tr th {\n",
              "        vertical-align: top;\n",
              "    }\n",
              "\n",
              "    .dataframe thead th {\n",
              "        text-align: right;\n",
              "    }\n",
              "</style>\n",
              "<table border=\"1\" class=\"dataframe\">\n",
              "  <thead>\n",
              "    <tr style=\"text-align: right;\">\n",
              "      <th></th>\n",
              "      <th>Product</th>\n",
              "      <th>Age</th>\n",
              "      <th>Gender</th>\n",
              "      <th>Education</th>\n",
              "      <th>MaritalStatus</th>\n",
              "      <th>Usage</th>\n",
              "      <th>Fitness</th>\n",
              "      <th>Income</th>\n",
              "      <th>Miles</th>\n",
              "    </tr>\n",
              "  </thead>\n",
              "  <tbody>\n",
              "    <tr>\n",
              "      <th>140</th>\n",
              "      <td>FE605</td>\n",
              "      <td>22</td>\n",
              "      <td>Male</td>\n",
              "      <td>14</td>\n",
              "      <td>Single</td>\n",
              "      <td>4</td>\n",
              "      <td>3</td>\n",
              "      <td>48658</td>\n",
              "      <td>106</td>\n",
              "    </tr>\n",
              "    <tr>\n",
              "      <th>141</th>\n",
              "      <td>FE605</td>\n",
              "      <td>22</td>\n",
              "      <td>Male</td>\n",
              "      <td>16</td>\n",
              "      <td>Single</td>\n",
              "      <td>3</td>\n",
              "      <td>5</td>\n",
              "      <td>54781</td>\n",
              "      <td>120</td>\n",
              "    </tr>\n",
              "    <tr>\n",
              "      <th>142</th>\n",
              "      <td>FE605</td>\n",
              "      <td>22</td>\n",
              "      <td>Male</td>\n",
              "      <td>18</td>\n",
              "      <td>Single</td>\n",
              "      <td>4</td>\n",
              "      <td>5</td>\n",
              "      <td>48556</td>\n",
              "      <td>200</td>\n",
              "    </tr>\n",
              "    <tr>\n",
              "      <th>143</th>\n",
              "      <td>FE605</td>\n",
              "      <td>23</td>\n",
              "      <td>Male</td>\n",
              "      <td>16</td>\n",
              "      <td>Single</td>\n",
              "      <td>4</td>\n",
              "      <td>5</td>\n",
              "      <td>58516</td>\n",
              "      <td>140</td>\n",
              "    </tr>\n",
              "    <tr>\n",
              "      <th>144</th>\n",
              "      <td>FE605</td>\n",
              "      <td>23</td>\n",
              "      <td>Female</td>\n",
              "      <td>18</td>\n",
              "      <td>Single</td>\n",
              "      <td>5</td>\n",
              "      <td>4</td>\n",
              "      <td>53536</td>\n",
              "      <td>100</td>\n",
              "    </tr>\n",
              "    <tr>\n",
              "      <th>145</th>\n",
              "      <td>FE605</td>\n",
              "      <td>23</td>\n",
              "      <td>Male</td>\n",
              "      <td>16</td>\n",
              "      <td>Single</td>\n",
              "      <td>4</td>\n",
              "      <td>5</td>\n",
              "      <td>48556</td>\n",
              "      <td>100</td>\n",
              "    </tr>\n",
              "    <tr>\n",
              "      <th>146</th>\n",
              "      <td>FE605</td>\n",
              "      <td>24</td>\n",
              "      <td>Male</td>\n",
              "      <td>16</td>\n",
              "      <td>Single</td>\n",
              "      <td>4</td>\n",
              "      <td>5</td>\n",
              "      <td>61006</td>\n",
              "      <td>100</td>\n",
              "    </tr>\n",
              "    <tr>\n",
              "      <th>147</th>\n",
              "      <td>FE605</td>\n",
              "      <td>24</td>\n",
              "      <td>Male</td>\n",
              "      <td>18</td>\n",
              "      <td>Partnered</td>\n",
              "      <td>4</td>\n",
              "      <td>5</td>\n",
              "      <td>57271</td>\n",
              "      <td>80</td>\n",
              "    </tr>\n",
              "    <tr>\n",
              "      <th>148</th>\n",
              "      <td>FE605</td>\n",
              "      <td>24</td>\n",
              "      <td>Female</td>\n",
              "      <td>16</td>\n",
              "      <td>Single</td>\n",
              "      <td>5</td>\n",
              "      <td>5</td>\n",
              "      <td>52291</td>\n",
              "      <td>200</td>\n",
              "    </tr>\n",
              "    <tr>\n",
              "      <th>149</th>\n",
              "      <td>FE605</td>\n",
              "      <td>24</td>\n",
              "      <td>Male</td>\n",
              "      <td>16</td>\n",
              "      <td>Single</td>\n",
              "      <td>5</td>\n",
              "      <td>5</td>\n",
              "      <td>49801</td>\n",
              "      <td>160</td>\n",
              "    </tr>\n",
              "    <tr>\n",
              "      <th>150</th>\n",
              "      <td>FE605</td>\n",
              "      <td>25</td>\n",
              "      <td>Male</td>\n",
              "      <td>16</td>\n",
              "      <td>Partnered</td>\n",
              "      <td>4</td>\n",
              "      <td>5</td>\n",
              "      <td>49801</td>\n",
              "      <td>120</td>\n",
              "    </tr>\n",
              "    <tr>\n",
              "      <th>151</th>\n",
              "      <td>FE605</td>\n",
              "      <td>25</td>\n",
              "      <td>Male</td>\n",
              "      <td>16</td>\n",
              "      <td>Partnered</td>\n",
              "      <td>4</td>\n",
              "      <td>4</td>\n",
              "      <td>62251</td>\n",
              "      <td>160</td>\n",
              "    </tr>\n",
              "    <tr>\n",
              "      <th>152</th>\n",
              "      <td>FE605</td>\n",
              "      <td>25</td>\n",
              "      <td>Female</td>\n",
              "      <td>18</td>\n",
              "      <td>Partnered</td>\n",
              "      <td>5</td>\n",
              "      <td>5</td>\n",
              "      <td>61006</td>\n",
              "      <td>200</td>\n",
              "    </tr>\n",
              "    <tr>\n",
              "      <th>153</th>\n",
              "      <td>FE605</td>\n",
              "      <td>25</td>\n",
              "      <td>Male</td>\n",
              "      <td>18</td>\n",
              "      <td>Partnered</td>\n",
              "      <td>4</td>\n",
              "      <td>3</td>\n",
              "      <td>64741</td>\n",
              "      <td>100</td>\n",
              "    </tr>\n",
              "    <tr>\n",
              "      <th>154</th>\n",
              "      <td>FE605</td>\n",
              "      <td>25</td>\n",
              "      <td>Male</td>\n",
              "      <td>18</td>\n",
              "      <td>Partnered</td>\n",
              "      <td>6</td>\n",
              "      <td>4</td>\n",
              "      <td>70966</td>\n",
              "      <td>180</td>\n",
              "    </tr>\n",
              "    <tr>\n",
              "      <th>155</th>\n",
              "      <td>FE605</td>\n",
              "      <td>25</td>\n",
              "      <td>Male</td>\n",
              "      <td>18</td>\n",
              "      <td>Partnered</td>\n",
              "      <td>6</td>\n",
              "      <td>5</td>\n",
              "      <td>75946</td>\n",
              "      <td>240</td>\n",
              "    </tr>\n",
              "    <tr>\n",
              "      <th>156</th>\n",
              "      <td>FE605</td>\n",
              "      <td>25</td>\n",
              "      <td>Male</td>\n",
              "      <td>20</td>\n",
              "      <td>Partnered</td>\n",
              "      <td>4</td>\n",
              "      <td>5</td>\n",
              "      <td>74701</td>\n",
              "      <td>170</td>\n",
              "    </tr>\n",
              "    <tr>\n",
              "      <th>157</th>\n",
              "      <td>FE605</td>\n",
              "      <td>26</td>\n",
              "      <td>Female</td>\n",
              "      <td>21</td>\n",
              "      <td>Single</td>\n",
              "      <td>4</td>\n",
              "      <td>3</td>\n",
              "      <td>69721</td>\n",
              "      <td>100</td>\n",
              "    </tr>\n",
              "    <tr>\n",
              "      <th>158</th>\n",
              "      <td>FE605</td>\n",
              "      <td>26</td>\n",
              "      <td>Male</td>\n",
              "      <td>16</td>\n",
              "      <td>Partnered</td>\n",
              "      <td>5</td>\n",
              "      <td>4</td>\n",
              "      <td>64741</td>\n",
              "      <td>180</td>\n",
              "    </tr>\n",
              "    <tr>\n",
              "      <th>159</th>\n",
              "      <td>FE605</td>\n",
              "      <td>27</td>\n",
              "      <td>Male</td>\n",
              "      <td>16</td>\n",
              "      <td>Partnered</td>\n",
              "      <td>4</td>\n",
              "      <td>5</td>\n",
              "      <td>83416</td>\n",
              "      <td>160</td>\n",
              "    </tr>\n",
              "    <tr>\n",
              "      <th>160</th>\n",
              "      <td>FE605</td>\n",
              "      <td>27</td>\n",
              "      <td>Male</td>\n",
              "      <td>18</td>\n",
              "      <td>Single</td>\n",
              "      <td>4</td>\n",
              "      <td>3</td>\n",
              "      <td>88396</td>\n",
              "      <td>100</td>\n",
              "    </tr>\n",
              "    <tr>\n",
              "      <th>161</th>\n",
              "      <td>FE605</td>\n",
              "      <td>27</td>\n",
              "      <td>Male</td>\n",
              "      <td>21</td>\n",
              "      <td>Partnered</td>\n",
              "      <td>4</td>\n",
              "      <td>4</td>\n",
              "      <td>90886</td>\n",
              "      <td>100</td>\n",
              "    </tr>\n",
              "    <tr>\n",
              "      <th>162</th>\n",
              "      <td>FE605</td>\n",
              "      <td>28</td>\n",
              "      <td>Female</td>\n",
              "      <td>18</td>\n",
              "      <td>Partnered</td>\n",
              "      <td>6</td>\n",
              "      <td>5</td>\n",
              "      <td>92131</td>\n",
              "      <td>180</td>\n",
              "    </tr>\n",
              "    <tr>\n",
              "      <th>163</th>\n",
              "      <td>FE605</td>\n",
              "      <td>28</td>\n",
              "      <td>Male</td>\n",
              "      <td>18</td>\n",
              "      <td>Partnered</td>\n",
              "      <td>7</td>\n",
              "      <td>5</td>\n",
              "      <td>77191</td>\n",
              "      <td>180</td>\n",
              "    </tr>\n",
              "    <tr>\n",
              "      <th>164</th>\n",
              "      <td>FE605</td>\n",
              "      <td>28</td>\n",
              "      <td>Male</td>\n",
              "      <td>18</td>\n",
              "      <td>Single</td>\n",
              "      <td>6</td>\n",
              "      <td>5</td>\n",
              "      <td>88396</td>\n",
              "      <td>150</td>\n",
              "    </tr>\n",
              "    <tr>\n",
              "      <th>165</th>\n",
              "      <td>FE605</td>\n",
              "      <td>29</td>\n",
              "      <td>Male</td>\n",
              "      <td>18</td>\n",
              "      <td>Single</td>\n",
              "      <td>5</td>\n",
              "      <td>5</td>\n",
              "      <td>52290</td>\n",
              "      <td>180</td>\n",
              "    </tr>\n",
              "    <tr>\n",
              "      <th>166</th>\n",
              "      <td>FE605</td>\n",
              "      <td>29</td>\n",
              "      <td>Male</td>\n",
              "      <td>14</td>\n",
              "      <td>Partnered</td>\n",
              "      <td>7</td>\n",
              "      <td>5</td>\n",
              "      <td>85906</td>\n",
              "      <td>300</td>\n",
              "    </tr>\n",
              "    <tr>\n",
              "      <th>167</th>\n",
              "      <td>FE605</td>\n",
              "      <td>30</td>\n",
              "      <td>Female</td>\n",
              "      <td>16</td>\n",
              "      <td>Partnered</td>\n",
              "      <td>6</td>\n",
              "      <td>5</td>\n",
              "      <td>90886</td>\n",
              "      <td>280</td>\n",
              "    </tr>\n",
              "    <tr>\n",
              "      <th>168</th>\n",
              "      <td>FE605</td>\n",
              "      <td>30</td>\n",
              "      <td>Male</td>\n",
              "      <td>18</td>\n",
              "      <td>Partnered</td>\n",
              "      <td>5</td>\n",
              "      <td>4</td>\n",
              "      <td>103336</td>\n",
              "      <td>160</td>\n",
              "    </tr>\n",
              "    <tr>\n",
              "      <th>169</th>\n",
              "      <td>FE605</td>\n",
              "      <td>30</td>\n",
              "      <td>Male</td>\n",
              "      <td>18</td>\n",
              "      <td>Partnered</td>\n",
              "      <td>5</td>\n",
              "      <td>5</td>\n",
              "      <td>99601</td>\n",
              "      <td>150</td>\n",
              "    </tr>\n",
              "    <tr>\n",
              "      <th>170</th>\n",
              "      <td>FE605</td>\n",
              "      <td>31</td>\n",
              "      <td>Male</td>\n",
              "      <td>16</td>\n",
              "      <td>Partnered</td>\n",
              "      <td>6</td>\n",
              "      <td>5</td>\n",
              "      <td>89641</td>\n",
              "      <td>260</td>\n",
              "    </tr>\n",
              "    <tr>\n",
              "      <th>171</th>\n",
              "      <td>FE605</td>\n",
              "      <td>33</td>\n",
              "      <td>Female</td>\n",
              "      <td>18</td>\n",
              "      <td>Partnered</td>\n",
              "      <td>4</td>\n",
              "      <td>5</td>\n",
              "      <td>95866</td>\n",
              "      <td>200</td>\n",
              "    </tr>\n",
              "    <tr>\n",
              "      <th>172</th>\n",
              "      <td>FE605</td>\n",
              "      <td>34</td>\n",
              "      <td>Male</td>\n",
              "      <td>16</td>\n",
              "      <td>Single</td>\n",
              "      <td>5</td>\n",
              "      <td>5</td>\n",
              "      <td>92131</td>\n",
              "      <td>150</td>\n",
              "    </tr>\n",
              "    <tr>\n",
              "      <th>173</th>\n",
              "      <td>FE605</td>\n",
              "      <td>35</td>\n",
              "      <td>Male</td>\n",
              "      <td>16</td>\n",
              "      <td>Partnered</td>\n",
              "      <td>4</td>\n",
              "      <td>5</td>\n",
              "      <td>92131</td>\n",
              "      <td>360</td>\n",
              "    </tr>\n",
              "    <tr>\n",
              "      <th>174</th>\n",
              "      <td>FE605</td>\n",
              "      <td>38</td>\n",
              "      <td>Male</td>\n",
              "      <td>18</td>\n",
              "      <td>Partnered</td>\n",
              "      <td>5</td>\n",
              "      <td>5</td>\n",
              "      <td>104581</td>\n",
              "      <td>150</td>\n",
              "    </tr>\n",
              "    <tr>\n",
              "      <th>175</th>\n",
              "      <td>FE605</td>\n",
              "      <td>40</td>\n",
              "      <td>Male</td>\n",
              "      <td>21</td>\n",
              "      <td>Single</td>\n",
              "      <td>6</td>\n",
              "      <td>5</td>\n",
              "      <td>83416</td>\n",
              "      <td>200</td>\n",
              "    </tr>\n",
              "    <tr>\n",
              "      <th>176</th>\n",
              "      <td>FE605</td>\n",
              "      <td>42</td>\n",
              "      <td>Male</td>\n",
              "      <td>18</td>\n",
              "      <td>Single</td>\n",
              "      <td>5</td>\n",
              "      <td>4</td>\n",
              "      <td>89641</td>\n",
              "      <td>200</td>\n",
              "    </tr>\n",
              "    <tr>\n",
              "      <th>177</th>\n",
              "      <td>FE605</td>\n",
              "      <td>45</td>\n",
              "      <td>Male</td>\n",
              "      <td>16</td>\n",
              "      <td>Single</td>\n",
              "      <td>5</td>\n",
              "      <td>5</td>\n",
              "      <td>90886</td>\n",
              "      <td>160</td>\n",
              "    </tr>\n",
              "    <tr>\n",
              "      <th>178</th>\n",
              "      <td>FE605</td>\n",
              "      <td>47</td>\n",
              "      <td>Male</td>\n",
              "      <td>18</td>\n",
              "      <td>Partnered</td>\n",
              "      <td>4</td>\n",
              "      <td>5</td>\n",
              "      <td>104581</td>\n",
              "      <td>120</td>\n",
              "    </tr>\n",
              "    <tr>\n",
              "      <th>179</th>\n",
              "      <td>FE605</td>\n",
              "      <td>48</td>\n",
              "      <td>Male</td>\n",
              "      <td>18</td>\n",
              "      <td>Partnered</td>\n",
              "      <td>4</td>\n",
              "      <td>5</td>\n",
              "      <td>95508</td>\n",
              "      <td>180</td>\n",
              "    </tr>\n",
              "  </tbody>\n",
              "</table>\n",
              "</div>\n",
              "    <div class=\"colab-df-buttons\">\n",
              "\n",
              "  <div class=\"colab-df-container\">\n",
              "    <button class=\"colab-df-convert\" onclick=\"convertToInteractive('df-79dfd170-c962-4be5-ad30-88f5bdaa3298')\"\n",
              "            title=\"Convert this dataframe to an interactive table.\"\n",
              "            style=\"display:none;\">\n",
              "\n",
              "  <svg xmlns=\"http://www.w3.org/2000/svg\" height=\"24px\" viewBox=\"0 -960 960 960\">\n",
              "    <path d=\"M120-120v-720h720v720H120Zm60-500h600v-160H180v160Zm220 220h160v-160H400v160Zm0 220h160v-160H400v160ZM180-400h160v-160H180v160Zm440 0h160v-160H620v160ZM180-180h160v-160H180v160Zm440 0h160v-160H620v160Z\"/>\n",
              "  </svg>\n",
              "    </button>\n",
              "\n",
              "  <style>\n",
              "    .colab-df-container {\n",
              "      display:flex;\n",
              "      gap: 12px;\n",
              "    }\n",
              "\n",
              "    .colab-df-convert {\n",
              "      background-color: #E8F0FE;\n",
              "      border: none;\n",
              "      border-radius: 50%;\n",
              "      cursor: pointer;\n",
              "      display: none;\n",
              "      fill: #1967D2;\n",
              "      height: 32px;\n",
              "      padding: 0 0 0 0;\n",
              "      width: 32px;\n",
              "    }\n",
              "\n",
              "    .colab-df-convert:hover {\n",
              "      background-color: #E2EBFA;\n",
              "      box-shadow: 0px 1px 2px rgba(60, 64, 67, 0.3), 0px 1px 3px 1px rgba(60, 64, 67, 0.15);\n",
              "      fill: #174EA6;\n",
              "    }\n",
              "\n",
              "    .colab-df-buttons div {\n",
              "      margin-bottom: 4px;\n",
              "    }\n",
              "\n",
              "    [theme=dark] .colab-df-convert {\n",
              "      background-color: #3B4455;\n",
              "      fill: #D2E3FC;\n",
              "    }\n",
              "\n",
              "    [theme=dark] .colab-df-convert:hover {\n",
              "      background-color: #434B5C;\n",
              "      box-shadow: 0px 1px 3px 1px rgba(0, 0, 0, 0.15);\n",
              "      filter: drop-shadow(0px 1px 2px rgba(0, 0, 0, 0.3));\n",
              "      fill: #FFFFFF;\n",
              "    }\n",
              "  </style>\n",
              "\n",
              "    <script>\n",
              "      const buttonEl =\n",
              "        document.querySelector('#df-79dfd170-c962-4be5-ad30-88f5bdaa3298 button.colab-df-convert');\n",
              "      buttonEl.style.display =\n",
              "        google.colab.kernel.accessAllowed ? 'block' : 'none';\n",
              "\n",
              "      async function convertToInteractive(key) {\n",
              "        const element = document.querySelector('#df-79dfd170-c962-4be5-ad30-88f5bdaa3298');\n",
              "        const dataTable =\n",
              "          await google.colab.kernel.invokeFunction('convertToInteractive',\n",
              "                                                    [key], {});\n",
              "        if (!dataTable) return;\n",
              "\n",
              "        const docLinkHtml = 'Like what you see? Visit the ' +\n",
              "          '<a target=\"_blank\" href=https://colab.research.google.com/notebooks/data_table.ipynb>data table notebook</a>'\n",
              "          + ' to learn more about interactive tables.';\n",
              "        element.innerHTML = '';\n",
              "        dataTable['output_type'] = 'display_data';\n",
              "        await google.colab.output.renderOutput(dataTable, element);\n",
              "        const docLink = document.createElement('div');\n",
              "        docLink.innerHTML = docLinkHtml;\n",
              "        element.appendChild(docLink);\n",
              "      }\n",
              "    </script>\n",
              "  </div>\n",
              "\n",
              "\n",
              "<div id=\"df-f21af9c7-e8ba-4080-a671-ec6a70bd1fc3\">\n",
              "  <button class=\"colab-df-quickchart\" onclick=\"quickchart('df-f21af9c7-e8ba-4080-a671-ec6a70bd1fc3')\"\n",
              "            title=\"Suggest charts\"\n",
              "            style=\"display:none;\">\n",
              "\n",
              "<svg xmlns=\"http://www.w3.org/2000/svg\" height=\"24px\"viewBox=\"0 0 24 24\"\n",
              "     width=\"24px\">\n",
              "    <g>\n",
              "        <path d=\"M19 3H5c-1.1 0-2 .9-2 2v14c0 1.1.9 2 2 2h14c1.1 0 2-.9 2-2V5c0-1.1-.9-2-2-2zM9 17H7v-7h2v7zm4 0h-2V7h2v10zm4 0h-2v-4h2v4z\"/>\n",
              "    </g>\n",
              "</svg>\n",
              "  </button>\n",
              "\n",
              "<style>\n",
              "  .colab-df-quickchart {\n",
              "      --bg-color: #E8F0FE;\n",
              "      --fill-color: #1967D2;\n",
              "      --hover-bg-color: #E2EBFA;\n",
              "      --hover-fill-color: #174EA6;\n",
              "      --disabled-fill-color: #AAA;\n",
              "      --disabled-bg-color: #DDD;\n",
              "  }\n",
              "\n",
              "  [theme=dark] .colab-df-quickchart {\n",
              "      --bg-color: #3B4455;\n",
              "      --fill-color: #D2E3FC;\n",
              "      --hover-bg-color: #434B5C;\n",
              "      --hover-fill-color: #FFFFFF;\n",
              "      --disabled-bg-color: #3B4455;\n",
              "      --disabled-fill-color: #666;\n",
              "  }\n",
              "\n",
              "  .colab-df-quickchart {\n",
              "    background-color: var(--bg-color);\n",
              "    border: none;\n",
              "    border-radius: 50%;\n",
              "    cursor: pointer;\n",
              "    display: none;\n",
              "    fill: var(--fill-color);\n",
              "    height: 32px;\n",
              "    padding: 0;\n",
              "    width: 32px;\n",
              "  }\n",
              "\n",
              "  .colab-df-quickchart:hover {\n",
              "    background-color: var(--hover-bg-color);\n",
              "    box-shadow: 0 1px 2px rgba(60, 64, 67, 0.3), 0 1px 3px 1px rgba(60, 64, 67, 0.15);\n",
              "    fill: var(--button-hover-fill-color);\n",
              "  }\n",
              "\n",
              "  .colab-df-quickchart-complete:disabled,\n",
              "  .colab-df-quickchart-complete:disabled:hover {\n",
              "    background-color: var(--disabled-bg-color);\n",
              "    fill: var(--disabled-fill-color);\n",
              "    box-shadow: none;\n",
              "  }\n",
              "\n",
              "  .colab-df-spinner {\n",
              "    border: 2px solid var(--fill-color);\n",
              "    border-color: transparent;\n",
              "    border-bottom-color: var(--fill-color);\n",
              "    animation:\n",
              "      spin 1s steps(1) infinite;\n",
              "  }\n",
              "\n",
              "  @keyframes spin {\n",
              "    0% {\n",
              "      border-color: transparent;\n",
              "      border-bottom-color: var(--fill-color);\n",
              "      border-left-color: var(--fill-color);\n",
              "    }\n",
              "    20% {\n",
              "      border-color: transparent;\n",
              "      border-left-color: var(--fill-color);\n",
              "      border-top-color: var(--fill-color);\n",
              "    }\n",
              "    30% {\n",
              "      border-color: transparent;\n",
              "      border-left-color: var(--fill-color);\n",
              "      border-top-color: var(--fill-color);\n",
              "      border-right-color: var(--fill-color);\n",
              "    }\n",
              "    40% {\n",
              "      border-color: transparent;\n",
              "      border-right-color: var(--fill-color);\n",
              "      border-top-color: var(--fill-color);\n",
              "    }\n",
              "    60% {\n",
              "      border-color: transparent;\n",
              "      border-right-color: var(--fill-color);\n",
              "    }\n",
              "    80% {\n",
              "      border-color: transparent;\n",
              "      border-right-color: var(--fill-color);\n",
              "      border-bottom-color: var(--fill-color);\n",
              "    }\n",
              "    90% {\n",
              "      border-color: transparent;\n",
              "      border-bottom-color: var(--fill-color);\n",
              "    }\n",
              "  }\n",
              "</style>\n",
              "\n",
              "  <script>\n",
              "    async function quickchart(key) {\n",
              "      const quickchartButtonEl =\n",
              "        document.querySelector('#' + key + ' button');\n",
              "      quickchartButtonEl.disabled = true;  // To prevent multiple clicks.\n",
              "      quickchartButtonEl.classList.add('colab-df-spinner');\n",
              "      try {\n",
              "        const charts = await google.colab.kernel.invokeFunction(\n",
              "            'suggestCharts', [key], {});\n",
              "      } catch (error) {\n",
              "        console.error('Error during call to suggestCharts:', error);\n",
              "      }\n",
              "      quickchartButtonEl.classList.remove('colab-df-spinner');\n",
              "      quickchartButtonEl.classList.add('colab-df-quickchart-complete');\n",
              "    }\n",
              "    (() => {\n",
              "      let quickchartButtonEl =\n",
              "        document.querySelector('#df-f21af9c7-e8ba-4080-a671-ec6a70bd1fc3 button');\n",
              "      quickchartButtonEl.style.display =\n",
              "        google.colab.kernel.accessAllowed ? 'block' : 'none';\n",
              "    })();\n",
              "  </script>\n",
              "</div>\n",
              "    </div>\n",
              "  </div>\n"
            ]
          },
          "metadata": {},
          "execution_count": 67
        }
      ]
    },
    {
      "cell_type": "markdown",
      "source": [
        "###**Step 2:** Calculate the Pearson Correlation Coeffient (r) using **Pandas** of Each Type of Treadmill Product as a Measure of the Correlation Between Age and Mileage\n",
        "\n",
        "The Pearson correlation coefficient, represented by the symbol $r$, is used to measure the linear relationship between two variables in a dataset. It is calculated using Pandas, and can only be used for quantitative data. It helps gauge the strength and direction of a linear relationship between two continuous data sets, providing a numerical value between -1 and 1. We are going to calculate the Pearson Correlation Coefficient through Pandas, however, the formula is as seen below:\n",
        "\n",
        "![image.png](data:image/png;base64,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)\n",
        "\n"
      ],
      "metadata": {
        "id": "XWU-n2wzW3m5"
      }
    },
    {
      "cell_type": "markdown",
      "source": [
        "Where:\n",
        "$r$\t=\tcorrelation coefficient\n",
        "\n",
        "$x_{i}$\t=\tvalues of the x-variable in a sample\n",
        "\n",
        "$\\bar{x}$\t=\tmean of the values of the x-variable\n",
        "\n",
        "$y_{i}$\t=\tvalues of the y-variable in a sample\n",
        "\n",
        "$\\bar{y}$\t=\tmean of the values of the y-variable"
      ],
      "metadata": {
        "id": "BtivwgQVW3m6"
      }
    },
    {
      "cell_type": "markdown",
      "source": [
        "The Pearson Correlation Coefficient can help us determine the:\n",
        "\n",
        "1. Direction of the Relationship:\n",
        "  * A positive $r$ indicates a positive linear relationship: as one variable increases, the other increases.\n",
        "  * A negative $r$ indicates a negative linear relationship: as one variable increases, the other tends to decrease.\n",
        "\n",
        "2. Strength of the Relationship:\n",
        "  * The closer $r$ is to 1 or -1, the stronger the linear relationship. A value of 1 or -1 implies a perfect linear relationship.\n",
        "\n",
        "3. And if it has Zero Correlation:\n",
        "  * A $r$ value of 0 indicates no linear correlation. However, it's important to note that there may still be some non-linear relationships.\n",
        "\n",
        "However, it is important to remember that correlation does not imply causation, this is why even if two variables are very strongly correlated, it might not mean that they are caused by each other. This is something we keep in mind when using the Pearson Correlation Coefficient.\n",
        "\n",
        "Below is a table of how the Pearson Correlation Coefficient is used to determine a relationship and correlation.\n",
        "\n",
        "**Determining Pearson's r Value**\n",
        "\n",
        "| Pearson’s r Value\t| Correlation Between x and y |\n",
        "|:----------------- |:--------------------------- |\n",
        "| $r = 1$             | Perfect positive linear relationship|\n",
        "| $r > 0$\t            | Positive correlation |\n",
        "| $r = 0$\t            | No linear relationship |\n",
        "| $r < 0$\t            | Negative correlation\n",
        "| $r = -1$\t        | Perfect negative linear relationship |\n"
      ],
      "metadata": {
        "id": "5MZZoOWjW3m6"
      }
    },
    {
      "cell_type": "markdown",
      "source": [
        "**Pearson's Correlation Coefficient between Age and Milage for Product A**"
      ],
      "metadata": {
        "id": "rX4lu4DHW3m6"
      }
    },
    {
      "cell_type": "code",
      "source": [
        "correlation_C = productC['Age'].corr(productC['Miles'])\n",
        "\n",
        "print(f'Product C (FE605) - Correlation: {correlation_C:.2f}')"
      ],
      "metadata": {
        "colab": {
          "base_uri": "https://localhost:8080/"
        },
        "outputId": "c28b8d4f-f13f-46a9-b738-2ce65e210ecd",
        "id": "xOmpfzyEW3m6"
      },
      "execution_count": null,
      "outputs": [
        {
          "output_type": "stream",
          "name": "stdout",
          "text": [
            "Product C (FE605) - Correlation: 0.24\n"
          ]
        }
      ]
    },
    {
      "cell_type": "markdown",
      "source": [
        "**Results**\n",
        "\n",
        "Product B (FE580) has a Pearson Correlation Coefficient of **-0.12** between Age and Milage. Using the chart above to determine the meaning of the $r$ value, we can see that for Product B, $r$ < 0 but $r$ > -1, and is closer to 0 than to -1, this may mean that there is a slight negative correlation."
      ],
      "metadata": {
        "id": "YTUJ5anjW3m6"
      }
    },
    {
      "cell_type": "markdown",
      "source": [
        "###**Step 3**: Create a scatter plot for Product B using **Seaborn**\n",
        "\n"
      ],
      "metadata": {
        "id": "J-2Hg92YW3m6"
      }
    },
    {
      "cell_type": "code",
      "source": [
        "sns.scatterplot(\n",
        "    x = \"Age\",\n",
        "    y = \"Miles\",\n",
        "    data = productC,\n",
        "    hue = \"Miles\",\n",
        "    palette = \"flare\"\n",
        ").set_title(f'Product C - Correlation: {correlation_C:.2f}');"
      ],
      "metadata": {
        "colab": {
          "base_uri": "https://localhost:8080/",
          "height": 472
        },
        "outputId": "4d836567-c068-4182-e7e3-447faf38230d",
        "id": "pSSKltwdW3m6"
      },
      "execution_count": null,
      "outputs": [
        {
          "output_type": "display_data",
          "data": {
            "text/plain": [
              "<Figure size 640x480 with 1 Axes>"
            ],
            "image/png": "[encoded data removed]"
          },
          "metadata": {}
        }
      ]
    },
    {
      "cell_type": "markdown",
      "source": [
        "###**Step 4**: Create a line of best fit for Product B using **Seaborn’s lmplot()**\n",
        "\n"
      ],
      "metadata": {
        "id": "HuXtePnqW3m7"
      }
    },
    {
      "cell_type": "code",
      "source": [
        "sns.lmplot(\n",
        "    x = \"Age\",\n",
        "    y = \"Miles\",\n",
        "    data = productC.dropna(),\n",
        "    #hue = \"Miles\",\n",
        "    #palette = \"flare\"\n",
        ").set(title = (f'Product C - Correlation: {correlation_C:.2f}'));"
      ],
      "metadata": {
        "colab": {
          "base_uri": "https://localhost:8080/",
          "height": 529
        },
        "outputId": "17609a77-9f93-4881-a136-b2d3da64cbdb",
        "id": "tXZ5bqHiW3m7"
      },
      "execution_count": null,
      "outputs": [
        {
          "output_type": "display_data",
          "data": {
            "text/plain": [
              "<Figure size 500x500 with 1 Axes>"
            ],
            "image/png": "[encoded data removed]"
          },
          "metadata": {}
        }
      ]
    },
    {
      "cell_type": "markdown",
      "source": [
        "###**Step 5**: Find the p-value using **pearsonr() function** from the **Script Stats Library**\n",
        "\n",
        "\n",
        "\n"
      ],
      "metadata": {
        "id": "yNxAmP5pW3m7"
      }
    },
    {
      "cell_type": "markdown",
      "source": [
        "Due to the fact that the current tests are not specific enough to determine if there is a relationship between the age and milage, objective is to determine both the p-value and the confidence interval (a range of probable values) for the actual population correlation coefficient (𝜌).\n",
        "\n",
        "To achieve this, the `pearsonr()` function within the Python library known as the `scipy` will be employed. This function will calculate the Pearson correlation coefficient and its associated p-value, enabling the subsequent derivation of the confidence interval from the obtained results."
      ],
      "metadata": {
        "id": "rULFZn5mW3m7"
      }
    },
    {
      "cell_type": "code",
      "source": [
        "#Pearson Correlation and p-value for Product A\n",
        "\n",
        "from scipy import stats\n",
        "  # Calculate the Pearson correlation and p-value\n",
        "  # by calling stats.pearsonr function from scipy\n",
        "\n",
        "pearson_corrC, p_valueC = stats.pearsonr(productC[\"Age\"], productC[\"Miles\"])\n",
        "print('Product C:')\n",
        "print(f'The pearson correlation coeffient for age vs. miles in Product C is {round(pearson_corrC,3)}.')\n",
        "print(f'The p-value for Product C is {round(p_valueC, 3)}.')"
      ],
      "metadata": {
        "colab": {
          "base_uri": "https://localhost:8080/"
        },
        "outputId": "e14b2f39-7e44-46db-8afe-31e32c9689b9",
        "id": "Yyb9NV_BW3m7"
      },
      "execution_count": null,
      "outputs": [
        {
          "output_type": "stream",
          "name": "stdout",
          "text": [
            "Product C:\n",
            "The pearson correlation coeffient for age vs. miles in Product C is 0.243.\n",
            "The p-value for Product C is 0.131.\n"
          ]
        }
      ]
    },
    {
      "cell_type": "markdown",
      "source": [
        "###**Step 6**: **Retain or Reject** the null hypothesis\n",
        "\n"
      ],
      "metadata": {
        "id": "45HHZeVvW3m7"
      }
    },
    {
      "cell_type": "code",
      "source": [
        "\n",
        "if p_valueC < 0.05:\n",
        "   print(\"Statistically Significant Relationship\\n\")\n",
        "else:\n",
        "   print(\"No Statistically Significant Relationship\\n\")\n",
        "\n"
      ],
      "metadata": {
        "colab": {
          "base_uri": "https://localhost:8080/"
        },
        "outputId": "79c042be-e827-4e69-c91e-f0349c07a973",
        "id": "rCdjtrn1W3m7"
      },
      "execution_count": null,
      "outputs": [
        {
          "output_type": "stream",
          "name": "stdout",
          "text": [
            "No Statistically Significant Relationship\n",
            "\n"
          ]
        }
      ]
    },
    {
      "cell_type": "markdown",
      "source": [
        "**Scatter Plot and Fitted Line Results:**\n",
        "\n",
        "Visual examination of scatter plots and fitted lines for each product had very general results.\n",
        "\n",
        "The scatter plot analysis that includes all products shows that the data points are distributed in an generally random manner with no apparent pattern connecting mileage and age. The almost horizontal orientation of the line of best fit, which shows that there isn't a definite linear relationship between the two variables, emphasizes this visual representation even more. The lack of a clear trend on the scatter plot and the regression line's near-horizontal alignment together highlight the fact that age and mileage for the products under investigation do not readily correlate. The complexity and lack of a linear association in the dataset are highlighted by these visual cues, which emphasizes the need for a more thorough investigation of any correlations or underlying variables affecting consumer expectations.\n",
        "\n",
        "The correlation coefficients of  -0.06, -0.12, and 0.24, suggest a weak positive and negative correlation, but the p-values of 0.569, 0.342, and 0.131 exceed the alpha level of 0.05, indicating no statistical significance for all 3 products.\n"
      ],
      "metadata": {
        "id": "r3QKVfiviYN4"
      }
    },
    {
      "cell_type": "markdown",
      "source": [
        "# Conclusion\n",
        "**Conclusions:**\n",
        "Based on the analysis, there is no statistically significant relationship between the age of consumers and the expected mileage for any of the treadmill products. The correlation coefficients are close to zero, indicating weak or no linear correlation. Further analysis or alternative methods may be considered to explore non-linear relationships.\n",
        "\n",
        "Moreover, the scatter plot and line of best fit provide no evidence of a meaningful relationship between the age of consumers and the expected mileage. The lack of statistical significance in the hypothesis testing supports the conclusion that age does not influence the expected mileage for this particular treadmill product.\n",
        "\n",
        "The conclusion that there is no statistically significant relationship between customer age and mileage for Fitness for Everyone’s treadmill products has important implications for marketing insights. With age identified as a negligible factor in predicting mileage expectations, marketing strategies may shift to a more comprehensive and diverse approach.\n",
        "\n",
        "**Future Directions:**\n",
        "Future analyses could involve investigating alternative methods for non-linear correlations or exploring additional variables. Additionally, gathering more diverse data may provide more robust insights.\n"
      ],
      "metadata": {
        "id": "54Htvnb_jDe0"
      }
    },
    {
      "cell_type": "code",
      "source": [],
      "metadata": {
        "id": "xrMPTKdJjK7C"
      },
      "execution_count": null,
      "outputs": []
    }
  ]
}